{
 "cells": [
  {
   "cell_type": "code",
   "execution_count": 1,
   "id": "c42500a5",
   "metadata": {},
   "outputs": [],
   "source": [
    "from torch.utils.data.sampler import SubsetRandomSampler\n",
    "from torch.optim.lr_scheduler import ReduceLROnPlateau\n",
    "from tensorboard_logger import configure, log_value\n",
    "from model import RecurrentAttention\n",
    "from torchvision import transforms\n",
    "from torchvision import datasets\n",
    "import torch.nn.functional as F\n",
    "import matplotlib.pyplot as plt\n",
    "from utils import AverageMeter\n",
    "from config import get_config\n",
    "from utils import plot_images\n",
    "from trainer import Trainer\n",
    "from tqdm import tqdm\n",
    "import pandas as pd\n",
    "import torchvision\n",
    "import numpy as np\n",
    "import random\n",
    "import pickle\n",
    "import shutil\n",
    "import torch\n",
    "import time\n",
    "\n",
    "import os\n",
    "os.environ[\"CUDA_DEVICE_ORDER\"] = \"PCI_BUS_ID\" \n",
    "os.environ[\"CUDA_VISIBLE_DEVICES\"] = \"2\"\n",
    "\n",
    "from utils import *"
   ]
  },
  {
   "cell_type": "code",
   "execution_count": 2,
   "id": "f576062a",
   "metadata": {},
   "outputs": [
    {
     "data": {
      "text/html": [
       "<div>\n",
       "<style scoped>\n",
       "    .dataframe tbody tr th:only-of-type {\n",
       "        vertical-align: middle;\n",
       "    }\n",
       "\n",
       "    .dataframe tbody tr th {\n",
       "        vertical-align: top;\n",
       "    }\n",
       "\n",
       "    .dataframe thead th {\n",
       "        text-align: right;\n",
       "    }\n",
       "</style>\n",
       "<table border=\"1\" class=\"dataframe\">\n",
       "  <thead>\n",
       "    <tr style=\"text-align: right;\">\n",
       "      <th></th>\n",
       "      <th>muni_id</th>\n",
       "      <th>num_migrants</th>\n",
       "      <th>class</th>\n",
       "    </tr>\n",
       "  </thead>\n",
       "  <tbody>\n",
       "    <tr>\n",
       "      <th>0</th>\n",
       "      <td>484001001</td>\n",
       "      <td>42055.0</td>\n",
       "      <td>3</td>\n",
       "    </tr>\n",
       "    <tr>\n",
       "      <th>1</th>\n",
       "      <td>484001002</td>\n",
       "      <td>4017.0</td>\n",
       "      <td>3</td>\n",
       "    </tr>\n",
       "    <tr>\n",
       "      <th>2</th>\n",
       "      <td>484001003</td>\n",
       "      <td>11992.0</td>\n",
       "      <td>3</td>\n",
       "    </tr>\n",
       "    <tr>\n",
       "      <th>3</th>\n",
       "      <td>484001004</td>\n",
       "      <td>762.0</td>\n",
       "      <td>2</td>\n",
       "    </tr>\n",
       "    <tr>\n",
       "      <th>4</th>\n",
       "      <td>484001005</td>\n",
       "      <td>7551.0</td>\n",
       "      <td>3</td>\n",
       "    </tr>\n",
       "  </tbody>\n",
       "</table>\n",
       "</div>"
      ],
      "text/plain": [
       "     muni_id  num_migrants class\n",
       "0  484001001       42055.0     3\n",
       "1  484001002        4017.0     3\n",
       "2  484001003       11992.0     3\n",
       "3  484001004         762.0     2\n",
       "4  484001005        7551.0     3"
      ]
     },
     "execution_count": 2,
     "metadata": {},
     "output_type": "execute_result"
    }
   ],
   "source": [
    "q = 4\n",
    "with open(\"../../pooling/data/migration_data.json\") as m:\n",
    "    mig_data = json.load(m)\n",
    "m.close()\n",
    "mig_data = pd.DataFrame.from_dict(mig_data, orient = 'index').reset_index()\n",
    "mig_data.columns = ['muni_id', 'num_migrants']\n",
    "mig_data['class'] = pd.qcut(mig_data['num_migrants'], q = q, labels = [i for i in range(q)])\n",
    "mig_data.head()"
   ]
  },
  {
   "cell_type": "code",
   "execution_count": 3,
   "id": "a7c74f8b",
   "metadata": {},
   "outputs": [],
   "source": [
    "image_names = get_png_names(\"../../attn/data/MEX/\")\n",
    "y_class, y_mig = get_ys(image_names, mig_data)"
   ]
  },
  {
   "cell_type": "code",
   "execution_count": 4,
   "id": "5e334b79",
   "metadata": {},
   "outputs": [],
   "source": [
    "train_num = int(25 * .70)\n",
    "train_indices = random.sample(range(0, 25), train_num)\n",
    "val_indices = [i for i in range(0, 25) if i not in train_indices]\n",
    "\n",
    "batch_size = 1\n",
    "train = [(torchvision.transforms.functional.adjust_brightness(load_inputs(image_names[i]), brightness_factor = 2).squeeze(), y_class[i], y_mig[i]) for i in train_indices]\n",
    "val = [(torchvision.transforms.functional.adjust_brightness(load_inputs(image_names[i]), brightness_factor = 2).squeeze(), y_class[i], y_mig[i]) for i in val_indices]\n",
    "train_dl = torch.utils.data.DataLoader(train, batch_size = batch_size, shuffle = True)\n",
    "val_dl = torch.utils.data.DataLoader(val, batch_size = batch_size, shuffle = True)"
   ]
  },
  {
   "cell_type": "code",
   "execution_count": 5,
   "id": "8f0d5fbc",
   "metadata": {},
   "outputs": [
    {
     "name": "stdout",
     "output_type": "stream",
     "text": [
      "Num training:  17\n",
      "Num validation:  8\n"
     ]
    }
   ],
   "source": [
    "print(\"Num training: \", len(train_dl))\n",
    "print(\"Num validation: \", len(val_dl))"
   ]
  },
  {
   "cell_type": "code",
   "execution_count": 6,
   "id": "1d149c42",
   "metadata": {},
   "outputs": [
    {
     "data": {
      "text/plain": [
       "tensor([1800.])"
      ]
     },
     "execution_count": 6,
     "metadata": {},
     "output_type": "execute_result"
    }
   ],
   "source": [
    "0.5 * ((torch.tensor([.8]) + 1.0) * 2000)"
   ]
  },
  {
   "cell_type": "code",
   "execution_count": 7,
   "id": "59ecdc3d",
   "metadata": {},
   "outputs": [
    {
     "data": {
      "text/plain": [
       "tensor([2400.])"
      ]
     },
     "execution_count": 7,
     "metadata": {},
     "output_type": "execute_result"
    }
   ],
   "source": [
    "0.5 * ((torch.tensor([.2]) + 1.0) * 4000)"
   ]
  },
  {
   "cell_type": "code",
   "execution_count": 8,
   "id": "94b84487",
   "metadata": {},
   "outputs": [],
   "source": [
    "H, W = torch.tensor([1,1])"
   ]
  },
  {
   "cell_type": "code",
   "execution_count": 9,
   "id": "08f934b4",
   "metadata": {},
   "outputs": [
    {
     "data": {
      "text/plain": [
       "tensor(1)"
      ]
     },
     "execution_count": 9,
     "metadata": {},
     "output_type": "execute_result"
    }
   ],
   "source": [
    "W"
   ]
  },
  {
   "cell_type": "code",
   "execution_count": 10,
   "id": "7c3305bb",
   "metadata": {},
   "outputs": [],
   "source": [
    "# lstm1 = torch.nn.LSTM(input_size = 256,\n",
    "#                                    hidden_size = 128,\n",
    "#                                    num_layers = 2,\n",
    "#                                    bias = True,\n",
    "#                                    batch_first = True)\n",
    "\n",
    "# gn = torch.rand(1,4,256)\n",
    "# h0 = torch.rand(2,1,128)\n",
    "# c0 = torch.rand(2,1,128)\n",
    "\n",
    "# out, (hn, cn) = lstm1(gn, (h0, c0))\n",
    "\n",
    "# print(hn.shape)"
   ]
  },
  {
   "cell_type": "code",
   "execution_count": 11,
   "id": "3df920f4",
   "metadata": {},
   "outputs": [],
   "source": [
    "config, unparsed = get_config()\n",
    "trainer = Trainer(config, (train_dl, val_dl))"
   ]
  },
  {
   "cell_type": "code",
   "execution_count": 12,
   "id": "9e45a61a",
   "metadata": {},
   "outputs": [
    {
     "name": "stderr",
     "output_type": "stream",
     "text": [
      "0.1s - loss: 1561.275 - acc: 0.000 - mae: 1559.865:   0%|          | 0/17 [00:00<?, ?it/s]"
     ]
    },
    {
     "name": "stdout",
     "output_type": "stream",
     "text": [
      "\n",
      "[*] Train on 17 samples, validate on 8 samples\n",
      "\n",
      "Epoch: 1/200 - LR: 0.000300\n"
     ]
    },
    {
     "name": "stderr",
     "output_type": "stream",
     "text": [
      "1.1s - loss: 43.032 - acc: 100.000 - mae: 40.757: 100%|██████████| 17/17 [00:01<00:00, 15.87it/s]    \n"
     ]
    },
    {
     "name": "stdout",
     "output_type": "stream",
     "text": [
      "train loss: 2599.779 - train acc: 23.529 - val loss: 5979.005 - val acc: 37.500 - val err: 62.500- train mae: 2598.109 - val mae: 5977.247 [*]\n"
     ]
    },
    {
     "name": "stderr",
     "output_type": "stream",
     "text": [
      "0.1s - loss: 22.018 - acc: 100.000 - mae: 19.749:   0%|          | 0/17 [00:00<?, ?it/s]"
     ]
    },
    {
     "name": "stdout",
     "output_type": "stream",
     "text": [
      "\n",
      "Epoch: 2/200 - LR: 0.000300\n"
     ]
    },
    {
     "name": "stderr",
     "output_type": "stream",
     "text": [
      "1.2s - loss: 1561.650 - acc: 0.000 - mae: 1559.623: 100%|██████████| 17/17 [00:01<00:00, 14.44it/s]  \n"
     ]
    },
    {
     "name": "stdout",
     "output_type": "stream",
     "text": [
      "train loss: 2599.785 - train acc: 35.294 - val loss: 5978.874 - val acc: 37.500 - val err: 62.500- train mae: 2597.963 - val mae: 5977.119 [*]\n"
     ]
    },
    {
     "name": "stderr",
     "output_type": "stream",
     "text": [
      "0.0s - loss: 7445.840 - acc: 0.000 - mae: 7444.624:   0%|          | 0/17 [00:00<?, ?it/s]"
     ]
    },
    {
     "name": "stdout",
     "output_type": "stream",
     "text": [
      "\n",
      "Epoch: 3/200 - LR: 0.000300\n"
     ]
    },
    {
     "name": "stderr",
     "output_type": "stream",
     "text": [
      "1.0s - loss: 63.542 - acc: 100.000 - mae: 61.579: 100%|██████████| 17/17 [00:00<00:00, 17.49it/s]    \n"
     ]
    },
    {
     "name": "stdout",
     "output_type": "stream",
     "text": [
      "train loss: 2599.650 - train acc: 35.294 - val loss: 5978.816 - val acc: 37.500 - val err: 62.500- train mae: 2597.911 - val mae: 5977.078 [*]\n"
     ]
    },
    {
     "name": "stderr",
     "output_type": "stream",
     "text": [
      "0.0s - loss: 63.508 - acc: 100.000 - mae: 61.582:   0%|          | 0/17 [00:00<?, ?it/s]"
     ]
    },
    {
     "name": "stdout",
     "output_type": "stream",
     "text": [
      "\n",
      "Epoch: 4/200 - LR: 0.000300\n"
     ]
    },
    {
     "name": "stderr",
     "output_type": "stream",
     "text": [
      "0.0s - loss: 63.508 - acc: 100.000 - mae: 61.582:   6%|▌         | 1/17 [00:00<00:03,  4.21it/s]\n"
     ]
    },
    {
     "ename": "KeyboardInterrupt",
     "evalue": "",
     "output_type": "error",
     "traceback": [
      "\u001b[0;31m---------------------------------------------------------------------------\u001b[0m",
      "\u001b[0;31mKeyboardInterrupt\u001b[0m                         Traceback (most recent call last)",
      "\u001b[0;32m<ipython-input-12-3435b262f1ae>\u001b[0m in \u001b[0;36m<module>\u001b[0;34m\u001b[0m\n\u001b[0;32m----> 1\u001b[0;31m \u001b[0mtrainer\u001b[0m\u001b[0;34m.\u001b[0m\u001b[0mtrain\u001b[0m\u001b[0;34m(\u001b[0m\u001b[0;34m)\u001b[0m\u001b[0;34m\u001b[0m\u001b[0;34m\u001b[0m\u001b[0m\n\u001b[0m",
      "\u001b[0;32m/rapids/notebooks/sciclone/geograd/Heather/RAM/CRAM/trainer.py\u001b[0m in \u001b[0;36mtrain\u001b[0;34m(self)\u001b[0m\n\u001b[1;32m    175\u001b[0m \u001b[0;34m\u001b[0m\u001b[0m\n\u001b[1;32m    176\u001b[0m             \u001b[0;31m# train for 1 epoch\u001b[0m\u001b[0;34m\u001b[0m\u001b[0;34m\u001b[0m\u001b[0;34m\u001b[0m\u001b[0m\n\u001b[0;32m--> 177\u001b[0;31m             \u001b[0mtrain_loss\u001b[0m\u001b[0;34m,\u001b[0m \u001b[0mtrain_acc\u001b[0m\u001b[0;34m,\u001b[0m \u001b[0mtrain_mae\u001b[0m \u001b[0;34m=\u001b[0m \u001b[0mself\u001b[0m\u001b[0;34m.\u001b[0m\u001b[0mtrain_one_epoch\u001b[0m\u001b[0;34m(\u001b[0m\u001b[0mepoch\u001b[0m\u001b[0;34m)\u001b[0m\u001b[0;34m\u001b[0m\u001b[0;34m\u001b[0m\u001b[0m\n\u001b[0m\u001b[1;32m    178\u001b[0m \u001b[0;34m\u001b[0m\u001b[0m\n\u001b[1;32m    179\u001b[0m             \u001b[0;31m# evaluate on validation set\u001b[0m\u001b[0;34m\u001b[0m\u001b[0;34m\u001b[0m\u001b[0;34m\u001b[0m\u001b[0m\n",
      "\u001b[0;32m/rapids/notebooks/sciclone/geograd/Heather/RAM/CRAM/trainer.py\u001b[0m in \u001b[0;36mtrain_one_epoch\u001b[0;34m(self, epoch)\u001b[0m\n\u001b[1;32m    342\u001b[0m                     \u001b[0mlocs\u001b[0m \u001b[0;34m=\u001b[0m \u001b[0;34m[\u001b[0m\u001b[0ml\u001b[0m\u001b[0;34m.\u001b[0m\u001b[0mcpu\u001b[0m\u001b[0;34m(\u001b[0m\u001b[0;34m)\u001b[0m\u001b[0;34m.\u001b[0m\u001b[0mdata\u001b[0m\u001b[0;34m.\u001b[0m\u001b[0mnumpy\u001b[0m\u001b[0;34m(\u001b[0m\u001b[0;34m)\u001b[0m \u001b[0;32mfor\u001b[0m \u001b[0ml\u001b[0m \u001b[0;32min\u001b[0m \u001b[0mlocs\u001b[0m\u001b[0;34m]\u001b[0m\u001b[0;34m\u001b[0m\u001b[0;34m\u001b[0m\u001b[0m\n\u001b[1;32m    343\u001b[0m                     pickle.dump(\n\u001b[0;32m--> 344\u001b[0;31m                         \u001b[0mimgs\u001b[0m\u001b[0;34m,\u001b[0m \u001b[0mopen\u001b[0m\u001b[0;34m(\u001b[0m\u001b[0mself\u001b[0m\u001b[0;34m.\u001b[0m\u001b[0mplot_dir\u001b[0m \u001b[0;34m+\u001b[0m \u001b[0;34m\"g_{}.p\"\u001b[0m\u001b[0;34m.\u001b[0m\u001b[0mformat\u001b[0m\u001b[0;34m(\u001b[0m\u001b[0mepoch\u001b[0m \u001b[0;34m+\u001b[0m \u001b[0;36m1\u001b[0m\u001b[0;34m)\u001b[0m\u001b[0;34m,\u001b[0m \u001b[0;34m\"wb\"\u001b[0m\u001b[0;34m)\u001b[0m\u001b[0;34m\u001b[0m\u001b[0;34m\u001b[0m\u001b[0m\n\u001b[0m\u001b[1;32m    345\u001b[0m                     )\n\u001b[1;32m    346\u001b[0m                     pickle.dump(\n",
      "\u001b[0;31mKeyboardInterrupt\u001b[0m: "
     ]
    }
   ],
   "source": [
    "trainer.train()"
   ]
  },
  {
   "cell_type": "code",
   "execution_count": null,
   "id": "74648eb3",
   "metadata": {},
   "outputs": [],
   "source": [
    "trainer.model"
   ]
  },
  {
   "cell_type": "code",
   "execution_count": null,
   "id": "80111dee",
   "metadata": {},
   "outputs": [],
   "source": [
    "# for n,p in trainer.model.named_parameters():\n",
    "#     print(n)"
   ]
  },
  {
   "cell_type": "code",
   "execution_count": null,
   "id": "42ed805d",
   "metadata": {},
   "outputs": [],
   "source": [
    "        new_loc = torch.distributions.Normal(mu, self.std).rsample()\n"
   ]
  }
 ],
 "metadata": {
  "kernelspec": {
   "display_name": "Python 3",
   "language": "python",
   "name": "python3"
  },
  "language_info": {
   "codemirror_mode": {
    "name": "ipython",
    "version": 3
   },
   "file_extension": ".py",
   "mimetype": "text/x-python",
   "name": "python",
   "nbconvert_exporter": "python",
   "pygments_lexer": "ipython3",
   "version": "3.7.10"
  }
 },
 "nbformat": 4,
 "nbformat_minor": 5
}
