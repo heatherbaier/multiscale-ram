{
 "cells": [
  {
   "cell_type": "code",
   "execution_count": 1,
   "id": "ccf2bc2c",
   "metadata": {},
   "outputs": [],
   "source": [
    "from utils import AverageMeter, load_inputs, get_png_names, get_ys, get_census\n",
    "from torch.optim.lr_scheduler import ReduceLROnPlateau\n",
    "from torchvision import transforms, utils, models\n",
    "from model import RecurrentAttention\n",
    "import torch.nn.functional as F\n",
    "from config import get_config\n",
    "from trainer import Trainer\n",
    "from PIL import Image\n",
    "from tqdm import tqdm\n",
    "import pandas as pd\n",
    "import torchvision\n",
    "import random\n",
    "import shutil\n",
    "import pickle\n",
    "import torch\n",
    "import utils\n",
    "import json\n",
    "import time\n",
    "\n",
    "import os\n",
    "os.environ[\"CUDA_DEVICE_ORDER\"] = \"PCI_BUS_ID\" \n",
    "os.environ[\"CUDA_VISIBLE_DEVICES\"] = \"5\""
   ]
  },
  {
   "cell_type": "code",
   "execution_count": 19,
   "id": "b70e14f9",
   "metadata": {},
   "outputs": [],
   "source": [
    "m = open(\"../../pooling/data/migration_data.json\",)\n",
    "mig_data = json.load(m)\n",
    "m.close()\n",
    "\n",
    "c = open(\"../../archive/CAOE/data/census_data.json\",)\n",
    "census = json.load(c)\n",
    "c.close()  "
   ]
  },
  {
   "cell_type": "code",
   "execution_count": 20,
   "id": "42d572dd",
   "metadata": {},
   "outputs": [
    {
     "data": {
      "text/html": [
       "<div>\n",
       "<style scoped>\n",
       "    .dataframe tbody tr th:only-of-type {\n",
       "        vertical-align: middle;\n",
       "    }\n",
       "\n",
       "    .dataframe tbody tr th {\n",
       "        vertical-align: top;\n",
       "    }\n",
       "\n",
       "    .dataframe thead th {\n",
       "        text-align: right;\n",
       "    }\n",
       "</style>\n",
       "<table border=\"1\" class=\"dataframe\">\n",
       "  <thead>\n",
       "    <tr style=\"text-align: right;\">\n",
       "      <th></th>\n",
       "      <th>muni_id</th>\n",
       "      <th>num_migrants</th>\n",
       "      <th>class</th>\n",
       "    </tr>\n",
       "  </thead>\n",
       "  <tbody>\n",
       "    <tr>\n",
       "      <th>0</th>\n",
       "      <td>484001001</td>\n",
       "      <td>42055.0</td>\n",
       "      <td>3</td>\n",
       "    </tr>\n",
       "    <tr>\n",
       "      <th>1</th>\n",
       "      <td>484001002</td>\n",
       "      <td>4017.0</td>\n",
       "      <td>3</td>\n",
       "    </tr>\n",
       "    <tr>\n",
       "      <th>2</th>\n",
       "      <td>484001003</td>\n",
       "      <td>11992.0</td>\n",
       "      <td>3</td>\n",
       "    </tr>\n",
       "    <tr>\n",
       "      <th>3</th>\n",
       "      <td>484001004</td>\n",
       "      <td>762.0</td>\n",
       "      <td>2</td>\n",
       "    </tr>\n",
       "    <tr>\n",
       "      <th>4</th>\n",
       "      <td>484001005</td>\n",
       "      <td>7551.0</td>\n",
       "      <td>3</td>\n",
       "    </tr>\n",
       "  </tbody>\n",
       "</table>\n",
       "</div>"
      ],
      "text/plain": [
       "     muni_id  num_migrants class\n",
       "0  484001001       42055.0     3\n",
       "1  484001002        4017.0     3\n",
       "2  484001003       11992.0     3\n",
       "3  484001004         762.0     2\n",
       "4  484001005        7551.0     3"
      ]
     },
     "execution_count": 20,
     "metadata": {},
     "output_type": "execute_result"
    }
   ],
   "source": [
    "mig_data = pd.DataFrame.from_dict(mig_data, orient = 'index').reset_index()\n",
    "mig_data.columns = ['muni_id', 'num_migrants']\n",
    "q = 4\n",
    "mig_data['class'] = pd.qcut(mig_data['num_migrants'], q = q, labels = [i for i in range(q)])\n",
    "mig_data.head()"
   ]
  },
  {
   "cell_type": "code",
   "execution_count": 21,
   "id": "c36a5878",
   "metadata": {},
   "outputs": [],
   "source": [
    "image_names = get_png_names(\"../../attn/data/MEX/\")\n",
    "y_class, y_mig = get_ys(image_names, mig_data)\n",
    "census_data = get_census(image_names, census)"
   ]
  },
  {
   "cell_type": "code",
   "execution_count": 22,
   "id": "87e27358",
   "metadata": {},
   "outputs": [],
   "source": [
    "train_num = int(25 * .70)\n",
    "train_indices = random.sample(range(0, 25), train_num)\n",
    "val_indices = [i for i in range(0, 25) if i not in train_indices]"
   ]
  },
  {
   "cell_type": "code",
   "execution_count": 23,
   "id": "902412da",
   "metadata": {},
   "outputs": [],
   "source": [
    "batch_size = 1\n",
    "train = [(torchvision.transforms.functional.adjust_brightness(load_inputs(image_names[i]), brightness_factor = 2).squeeze(), y_class[i], y_mig[i], torch.tensor(census_data[i])) for i in train_indices]\n",
    "val = [(torchvision.transforms.functional.adjust_brightness(load_inputs(image_names[i]), brightness_factor = 2).squeeze(), y_class[i], y_mig[i], torch.tensor(census_data[i])) for i in val_indices]\n",
    "train_dl = torch.utils.data.DataLoader(train, batch_size = batch_size, shuffle = True)\n",
    "val_dl = torch.utils.data.DataLoader(val, batch_size = batch_size, shuffle = True)"
   ]
  },
  {
   "cell_type": "code",
   "execution_count": 24,
   "id": "ae855ac9",
   "metadata": {},
   "outputs": [
    {
     "name": "stdout",
     "output_type": "stream",
     "text": [
      "Num training:  17\n",
      "Num validation:  8\n"
     ]
    }
   ],
   "source": [
    "print(\"Num training: \", len(train_dl))\n",
    "print(\"Num validation: \", len(val_dl))"
   ]
  },
  {
   "cell_type": "code",
   "execution_count": 25,
   "id": "272c6546",
   "metadata": {},
   "outputs": [],
   "source": [
    "import numpy as np\n",
    "from utils import plot_images\n",
    "\n",
    "import torch\n",
    "from torchvision import datasets\n",
    "from torchvision import transforms\n",
    "from torch.utils.data.sampler import SubsetRandomSampler"
   ]
  },
  {
   "cell_type": "code",
   "execution_count": 26,
   "id": "5538513f",
   "metadata": {},
   "outputs": [],
   "source": [
    "config, unparsed = get_config()"
   ]
  },
  {
   "cell_type": "code",
   "execution_count": 27,
   "id": "d9418012",
   "metadata": {},
   "outputs": [],
   "source": [
    "trainer = Trainer(config, (train_dl, val_dl))"
   ]
  },
  {
   "cell_type": "code",
   "execution_count": 48,
   "id": "594979ef",
   "metadata": {},
   "outputs": [],
   "source": [
    "checkpoint = torch.load(\"./ckpt/ram_4_50x50_0.75_model_best.pth.tar\")\n",
    "checkpoint = checkpoint[\"model_state\"]"
   ]
  },
  {
   "cell_type": "code",
   "execution_count": 49,
   "id": "65eab14d",
   "metadata": {},
   "outputs": [],
   "source": [
    "import matplotlib.pyplot as plt"
   ]
  },
  {
   "cell_type": "code",
   "execution_count": 50,
   "id": "e544bee4",
   "metadata": {},
   "outputs": [
    {
     "data": {
      "text/html": [
       "<div>\n",
       "<style scoped>\n",
       "    .dataframe tbody tr th:only-of-type {\n",
       "        vertical-align: middle;\n",
       "    }\n",
       "\n",
       "    .dataframe tbody tr th {\n",
       "        vertical-align: top;\n",
       "    }\n",
       "\n",
       "    .dataframe thead th {\n",
       "        text-align: right;\n",
       "    }\n",
       "</style>\n",
       "<table border=\"1\" class=\"dataframe\">\n",
       "  <thead>\n",
       "    <tr style=\"text-align: right;\">\n",
       "      <th></th>\n",
       "      <th>true</th>\n",
       "      <th>pred</th>\n",
       "      <th>class</th>\n",
       "    </tr>\n",
       "  </thead>\n",
       "  <tbody>\n",
       "    <tr>\n",
       "      <th>0</th>\n",
       "      <td>1446.0</td>\n",
       "      <td>741.402039</td>\n",
       "      <td>2</td>\n",
       "    </tr>\n",
       "    <tr>\n",
       "      <th>1</th>\n",
       "      <td>25.0</td>\n",
       "      <td>1434.538696</td>\n",
       "      <td>0</td>\n",
       "    </tr>\n",
       "    <tr>\n",
       "      <th>2</th>\n",
       "      <td>0.0</td>\n",
       "      <td>172.938095</td>\n",
       "      <td>0</td>\n",
       "    </tr>\n",
       "    <tr>\n",
       "      <th>3</th>\n",
       "      <td>1559.0</td>\n",
       "      <td>2133.662109</td>\n",
       "      <td>2</td>\n",
       "    </tr>\n",
       "    <tr>\n",
       "      <th>4</th>\n",
       "      <td>7551.0</td>\n",
       "      <td>7601.801758</td>\n",
       "      <td>3</td>\n",
       "    </tr>\n",
       "  </tbody>\n",
       "</table>\n",
       "</div>"
      ],
      "text/plain": [
       "     true         pred  class\n",
       "0  1446.0   741.402039      2\n",
       "1    25.0  1434.538696      0\n",
       "2     0.0   172.938095      0\n",
       "3  1559.0  2133.662109      2\n",
       "4  7551.0  7601.801758      3"
      ]
     },
     "execution_count": 50,
     "metadata": {},
     "output_type": "execute_result"
    }
   ],
   "source": [
    "trues, preds, classes = [], [], []\n",
    "\n",
    "# for i,o,o2 in val_dl:\n",
    "\n",
    "for im in image_names:\n",
    "    \n",
    "    muni_id = im.split(\"/\")[5]\n",
    "    \n",
    "    i = load_inputs(im)\n",
    "    o = torch.tensor(mig_data[mig_data[\"muni_id\"] == im.split(\"/\")[5]]['class'].values[0])\n",
    "    o2 = torch.tensor(mig_data[mig_data[\"muni_id\"] == im.split(\"/\")[5]]['num_migrants'].values[0])\n",
    "    cur_census = torch.tensor(census[muni_id])\n",
    "    \n",
    "    pred = trainer.predict(1, i, o, o2, cur_census, checkpoint).item()\n",
    "    true = o2.item()\n",
    "    \n",
    "    trues.append(true)\n",
    "    preds.append(pred)\n",
    "    classes.append(o.item())\n",
    "    \n",
    "preds_df = pd.DataFrame()\n",
    "preds_df['true'], preds_df['pred'], preds_df['class'] = trues, preds, classes\n",
    "preds_df.head()"
   ]
  },
  {
   "cell_type": "code",
   "execution_count": 51,
   "id": "34ff2af1",
   "metadata": {},
   "outputs": [
    {
     "data": {
      "text/plain": [
       "Text(0, 0.5, 'True')"
      ]
     },
     "execution_count": 51,
     "metadata": {},
     "output_type": "execute_result"
    },
    {
     "data": {
      "image/png": "[encoded data removed]",
      "text/plain": [
       "<Figure size 432x288 with 1 Axes>"
      ]
     },
     "metadata": {
      "needs_background": "light"
     },
     "output_type": "display_data"
    }
   ],
   "source": [
    "groups = preds_df.groupby(\"class\")\n",
    "for name, group in groups:\n",
    "    plt.plot(group[\"pred\"], group[\"true\"], marker=\"o\", linestyle=\"\", label=name)\n",
    "plt.legend()\n",
    "plt.xlabel(\"Predicted\")\n",
    "plt.ylabel(\"True\")"
   ]
  },
  {
   "cell_type": "code",
   "execution_count": 52,
   "id": "bbc7d2b6",
   "metadata": {},
   "outputs": [],
   "source": [
    "preds_df.to_csv(\"./imagery_census_preds_df_v4.csv\")"
   ]
  },
  {
   "cell_type": "code",
   "execution_count": 53,
   "id": "8561ab46",
   "metadata": {},
   "outputs": [
    {
     "data": {
      "text/plain": [
       "Text(0, 0.5, 'True')"
      ]
     },
     "execution_count": 53,
     "metadata": {},
     "output_type": "execute_result"
    },
    {
     "data": {
      "image/png": "[encoded data removed]",
      "text/plain": [
       "<Figure size 432x288 with 1 Axes>"
      ]
     },
     "metadata": {
      "needs_background": "light"
     },
     "output_type": "display_data"
    }
   ],
   "source": [
    "plt.scatter(preds_df['pred'], preds_df['true'])\n",
    "plt.xlabel(\"Predicted\")\n",
    "plt.ylabel(\"True\")"
   ]
  },
  {
   "cell_type": "code",
   "execution_count": 54,
   "id": "d37a1da6",
   "metadata": {},
   "outputs": [
    {
     "name": "stdout",
     "output_type": "stream",
     "text": [
      "0 287.3699846415557\n",
      "1 414.41567641731325\n",
      "2 677.4557640525325\n",
      "3 3868.4984039705855\n"
     ]
    }
   ],
   "source": [
    "for name, group in groups:\n",
    "    print(name, np.mean(abs(group[\"true\"] - group[\"pred\"])))"
   ]
  },
  {
   "cell_type": "code",
   "execution_count": 55,
   "id": "0ec487d3",
   "metadata": {},
   "outputs": [
    {
     "data": {
      "text/html": [
       "<div>\n",
       "<style scoped>\n",
       "    .dataframe tbody tr th:only-of-type {\n",
       "        vertical-align: middle;\n",
       "    }\n",
       "\n",
       "    .dataframe tbody tr th {\n",
       "        vertical-align: top;\n",
       "    }\n",
       "\n",
       "    .dataframe thead th {\n",
       "        text-align: right;\n",
       "    }\n",
       "</style>\n",
       "<table border=\"1\" class=\"dataframe\">\n",
       "  <thead>\n",
       "    <tr style=\"text-align: right;\">\n",
       "      <th></th>\n",
       "      <th>true</th>\n",
       "      <th>pred</th>\n",
       "      <th>class</th>\n",
       "    </tr>\n",
       "  </thead>\n",
       "  <tbody>\n",
       "    <tr>\n",
       "      <th>0</th>\n",
       "      <td>1446.0</td>\n",
       "      <td>741.402039</td>\n",
       "      <td>2</td>\n",
       "    </tr>\n",
       "    <tr>\n",
       "      <th>1</th>\n",
       "      <td>25.0</td>\n",
       "      <td>1434.538696</td>\n",
       "      <td>0</td>\n",
       "    </tr>\n",
       "    <tr>\n",
       "      <th>2</th>\n",
       "      <td>0.0</td>\n",
       "      <td>172.938095</td>\n",
       "      <td>0</td>\n",
       "    </tr>\n",
       "    <tr>\n",
       "      <th>3</th>\n",
       "      <td>1559.0</td>\n",
       "      <td>2133.662109</td>\n",
       "      <td>2</td>\n",
       "    </tr>\n",
       "    <tr>\n",
       "      <th>4</th>\n",
       "      <td>7551.0</td>\n",
       "      <td>7601.801758</td>\n",
       "      <td>3</td>\n",
       "    </tr>\n",
       "    <tr>\n",
       "      <th>...</th>\n",
       "      <td>...</td>\n",
       "      <td>...</td>\n",
       "      <td>...</td>\n",
       "    </tr>\n",
       "    <tr>\n",
       "      <th>2061</th>\n",
       "      <td>2487.0</td>\n",
       "      <td>3226.646484</td>\n",
       "      <td>3</td>\n",
       "    </tr>\n",
       "    <tr>\n",
       "      <th>2062</th>\n",
       "      <td>2024.0</td>\n",
       "      <td>1088.155640</td>\n",
       "      <td>3</td>\n",
       "    </tr>\n",
       "    <tr>\n",
       "      <th>2063</th>\n",
       "      <td>3084.0</td>\n",
       "      <td>947.591980</td>\n",
       "      <td>3</td>\n",
       "    </tr>\n",
       "    <tr>\n",
       "      <th>2064</th>\n",
       "      <td>2919.0</td>\n",
       "      <td>1878.654541</td>\n",
       "      <td>3</td>\n",
       "    </tr>\n",
       "    <tr>\n",
       "      <th>2065</th>\n",
       "      <td>2119.0</td>\n",
       "      <td>1957.739746</td>\n",
       "      <td>3</td>\n",
       "    </tr>\n",
       "  </tbody>\n",
       "</table>\n",
       "<p>2066 rows × 3 columns</p>\n",
       "</div>"
      ],
      "text/plain": [
       "        true         pred  class\n",
       "0     1446.0   741.402039      2\n",
       "1       25.0  1434.538696      0\n",
       "2        0.0   172.938095      0\n",
       "3     1559.0  2133.662109      2\n",
       "4     7551.0  7601.801758      3\n",
       "...      ...          ...    ...\n",
       "2061  2487.0  3226.646484      3\n",
       "2062  2024.0  1088.155640      3\n",
       "2063  3084.0   947.591980      3\n",
       "2064  2919.0  1878.654541      3\n",
       "2065  2119.0  1957.739746      3\n",
       "\n",
       "[2066 rows x 3 columns]"
      ]
     },
     "execution_count": 55,
     "metadata": {},
     "output_type": "execute_result"
    }
   ],
   "source": [
    "preds_df"
   ]
  },
  {
   "cell_type": "code",
   "execution_count": null,
   "id": "5d3d705f",
   "metadata": {},
   "outputs": [],
   "source": []
  },
  {
   "cell_type": "code",
   "execution_count": 7,
   "id": "c4a201dd",
   "metadata": {},
   "outputs": [
    {
     "data": {
      "text/plain": [
       "tensor([0.4022, 0.6815, 0.4634, 0.3108, 0.5225, 0.7232, 0.8244, 0.0774, 0.4723,\n",
       "        0.1403, 0.5124, 0.9170, 0.4406, 0.5869, 0.1935, 0.8079, 0.6587, 0.2768,\n",
       "        0.0741, 0.6938, 0.9845, 0.9124, 0.6817, 0.9085, 0.4821, 0.1587, 0.8403,\n",
       "        0.6928, 0.9084, 0.0583, 0.8985, 0.4787, 0.2940, 0.9754, 0.1638])"
      ]
     },
     "execution_count": 7,
     "metadata": {},
     "output_type": "execute_result"
    }
   ],
   "source": [
    "t1 = torch.rand(15)\n",
    "t2 = torch.rand(20)\n",
    "\n",
    "torch.cat((t1, t2), dim = 0)"
   ]
  },
  {
   "cell_type": "code",
   "execution_count": 5,
   "id": "09eb88cc",
   "metadata": {},
   "outputs": [
    {
     "data": {
      "text/plain": [
       "tensor([5.5405e-01, 1.8042e-01, 4.2831e-01, 7.1348e-02, 8.0335e-01, 9.6852e-01,\n",
       "        6.4902e-01, 6.4082e-01, 7.7943e-01, 9.3032e-01, 6.0273e-01, 6.1298e-01,\n",
       "        6.5617e-01, 1.7061e-01, 3.0664e-02, 6.1908e-01, 6.3068e-01, 6.8589e-01,\n",
       "        7.2470e-01, 8.6956e-01, 5.0539e-01, 5.3187e-02, 6.0771e-01, 5.0363e-01,\n",
       "        1.3508e-01, 1.6496e-01, 2.7752e-02, 8.3829e-01, 6.1804e-04, 4.1107e-01])"
      ]
     },
     "execution_count": 5,
     "metadata": {},
     "output_type": "execute_result"
    }
   ],
   "source": [
    "t1.flatten(start_dim = 0)"
   ]
  },
  {
   "cell_type": "code",
   "execution_count": null,
   "id": "26740ec8",
   "metadata": {},
   "outputs": [],
   "source": []
  }
 ],
 "metadata": {
  "kernelspec": {
   "display_name": "Python 3",
   "language": "python",
   "name": "python3"
  },
  "language_info": {
   "codemirror_mode": {
    "name": "ipython",
    "version": 3
   },
   "file_extension": ".py",
   "mimetype": "text/x-python",
   "name": "python",
   "nbconvert_exporter": "python",
   "pygments_lexer": "ipython3",
   "version": "3.7.10"
  }
 },
 "nbformat": 4,
 "nbformat_minor": 5
}
