{
 "cells": [
  {
   "cell_type": "code",
   "execution_count": 1,
   "id": "4497c35f",
   "metadata": {},
   "outputs": [],
   "source": [
    "from utils import AverageMeter, load_inputs, get_png_names, get_ys, get_census\n",
    "from torch.optim.lr_scheduler import ReduceLROnPlateau\n",
    "from torchvision import transforms, utils, models\n",
    "from model import RecurrentAttention\n",
    "import torch.nn.functional as F\n",
    "from config import get_config\n",
    "from trainer import Trainer\n",
    "from PIL import Image\n",
    "from tqdm import tqdm\n",
    "import pandas as pd\n",
    "import torchvision\n",
    "import random\n",
    "import shutil\n",
    "import pickle\n",
    "import torch\n",
    "import utils\n",
    "import json\n",
    "import time\n",
    "\n",
    "import os\n",
    "os.environ[\"CUDA_DEVICE_ORDER\"] = \"PCI_BUS_ID\" \n",
    "os.environ[\"CUDA_VISIBLE_DEVICES\"] = \"5\""
   ]
  },
  {
   "cell_type": "code",
   "execution_count": 2,
   "id": "2c99a699",
   "metadata": {},
   "outputs": [],
   "source": [
    "m = open(\"../../pooling/data/migration_data.json\",)\n",
    "mig_data = json.load(m)\n",
    "m.close()\n",
    "\n",
    "c = open(\"../../archive/CAOE/data/census_data.json\",)\n",
    "census = json.load(c)\n",
    "c.close()  "
   ]
  },
  {
   "cell_type": "code",
   "execution_count": 3,
   "id": "0395b083",
   "metadata": {},
   "outputs": [
    {
     "data": {
      "text/html": [
       "<div>\n",
       "<style scoped>\n",
       "    .dataframe tbody tr th:only-of-type {\n",
       "        vertical-align: middle;\n",
       "    }\n",
       "\n",
       "    .dataframe tbody tr th {\n",
       "        vertical-align: top;\n",
       "    }\n",
       "\n",
       "    .dataframe thead th {\n",
       "        text-align: right;\n",
       "    }\n",
       "</style>\n",
       "<table border=\"1\" class=\"dataframe\">\n",
       "  <thead>\n",
       "    <tr style=\"text-align: right;\">\n",
       "      <th></th>\n",
       "      <th>muni_id</th>\n",
       "      <th>num_migrants</th>\n",
       "      <th>class</th>\n",
       "    </tr>\n",
       "  </thead>\n",
       "  <tbody>\n",
       "    <tr>\n",
       "      <th>0</th>\n",
       "      <td>484001001</td>\n",
       "      <td>42055.0</td>\n",
       "      <td>3</td>\n",
       "    </tr>\n",
       "    <tr>\n",
       "      <th>1</th>\n",
       "      <td>484001002</td>\n",
       "      <td>4017.0</td>\n",
       "      <td>3</td>\n",
       "    </tr>\n",
       "    <tr>\n",
       "      <th>2</th>\n",
       "      <td>484001003</td>\n",
       "      <td>11992.0</td>\n",
       "      <td>3</td>\n",
       "    </tr>\n",
       "    <tr>\n",
       "      <th>3</th>\n",
       "      <td>484001004</td>\n",
       "      <td>762.0</td>\n",
       "      <td>2</td>\n",
       "    </tr>\n",
       "    <tr>\n",
       "      <th>4</th>\n",
       "      <td>484001005</td>\n",
       "      <td>7551.0</td>\n",
       "      <td>3</td>\n",
       "    </tr>\n",
       "  </tbody>\n",
       "</table>\n",
       "</div>"
      ],
      "text/plain": [
       "     muni_id  num_migrants class\n",
       "0  484001001       42055.0     3\n",
       "1  484001002        4017.0     3\n",
       "2  484001003       11992.0     3\n",
       "3  484001004         762.0     2\n",
       "4  484001005        7551.0     3"
      ]
     },
     "execution_count": 3,
     "metadata": {},
     "output_type": "execute_result"
    }
   ],
   "source": [
    "mig_data = pd.DataFrame.from_dict(mig_data, orient = 'index').reset_index()\n",
    "mig_data.columns = ['muni_id', 'num_migrants']\n",
    "q = 4\n",
    "mig_data['class'] = pd.qcut(mig_data['num_migrants'], q = q, labels = [i for i in range(q)])\n",
    "mig_data.head()"
   ]
  },
  {
   "cell_type": "code",
   "execution_count": 4,
   "id": "72157553",
   "metadata": {},
   "outputs": [],
   "source": [
    "image_names = get_png_names(\"../../attn/data/MEX/\")\n",
    "y_class, y_mig = get_ys(image_names, mig_data)\n",
    "census_data = get_census(image_names, census)"
   ]
  },
  {
   "cell_type": "code",
   "execution_count": 5,
   "id": "c351559c",
   "metadata": {},
   "outputs": [],
   "source": [
    "train_num = int(25 * .70)\n",
    "train_indices = random.sample(range(0, 25), train_num)\n",
    "val_indices = [i for i in range(0, 25) if i not in train_indices]"
   ]
  },
  {
   "cell_type": "code",
   "execution_count": 6,
   "id": "c7a95979",
   "metadata": {},
   "outputs": [],
   "source": [
    "batch_size = 1\n",
    "train = [(torchvision.transforms.functional.adjust_brightness(load_inputs(image_names[i]), brightness_factor = 2).squeeze(), y_class[i], y_mig[i], torch.tensor(census_data[i])) for i in train_indices]\n",
    "val = [(torchvision.transforms.functional.adjust_brightness(load_inputs(image_names[i]), brightness_factor = 2).squeeze(), y_class[i], y_mig[i], torch.tensor(census_data[i])) for i in val_indices]\n",
    "train_dl = torch.utils.data.DataLoader(train, batch_size = batch_size, shuffle = True)\n",
    "val_dl = torch.utils.data.DataLoader(val, batch_size = batch_size, shuffle = True)"
   ]
  },
  {
   "cell_type": "code",
   "execution_count": 7,
   "id": "31720c25",
   "metadata": {},
   "outputs": [
    {
     "name": "stdout",
     "output_type": "stream",
     "text": [
      "Num training:  17\n",
      "Num validation:  8\n"
     ]
    }
   ],
   "source": [
    "print(\"Num training: \", len(train_dl))\n",
    "print(\"Num validation: \", len(val_dl))"
   ]
  },
  {
   "cell_type": "code",
   "execution_count": 8,
   "id": "34f1fdf3",
   "metadata": {},
   "outputs": [],
   "source": [
    "import numpy as np\n",
    "from utils import plot_images\n",
    "\n",
    "import torch\n",
    "from torchvision import datasets\n",
    "from torchvision import transforms\n",
    "from torch.utils.data.sampler import SubsetRandomSampler"
   ]
  },
  {
   "cell_type": "code",
   "execution_count": 9,
   "id": "04fefa77",
   "metadata": {},
   "outputs": [],
   "source": [
    "config, unparsed = get_config()"
   ]
  },
  {
   "cell_type": "code",
   "execution_count": 10,
   "id": "74f73e9c",
   "metadata": {},
   "outputs": [],
   "source": [
    "trainer = Trainer(config, (train_dl, val_dl))"
   ]
  },
  {
   "cell_type": "code",
   "execution_count": 19,
   "id": "8cc2ef2c",
   "metadata": {},
   "outputs": [],
   "source": [
    "checkpoint = torch.load(\"./ckpt/ram_4_50x50_0.75_model_best.pth.tar\")\n",
    "checkpoint = checkpoint[\"model_state\"]"
   ]
  },
  {
   "cell_type": "code",
   "execution_count": 20,
   "id": "efd77f78",
   "metadata": {},
   "outputs": [],
   "source": [
    "import matplotlib.pyplot as plt"
   ]
  },
  {
   "cell_type": "code",
   "execution_count": 21,
   "id": "a4165166",
   "metadata": {},
   "outputs": [
    {
     "data": {
      "text/html": [
       "<div>\n",
       "<style scoped>\n",
       "    .dataframe tbody tr th:only-of-type {\n",
       "        vertical-align: middle;\n",
       "    }\n",
       "\n",
       "    .dataframe tbody tr th {\n",
       "        vertical-align: top;\n",
       "    }\n",
       "\n",
       "    .dataframe thead th {\n",
       "        text-align: right;\n",
       "    }\n",
       "</style>\n",
       "<table border=\"1\" class=\"dataframe\">\n",
       "  <thead>\n",
       "    <tr style=\"text-align: right;\">\n",
       "      <th></th>\n",
       "      <th>true</th>\n",
       "      <th>pred</th>\n",
       "      <th>class</th>\n",
       "    </tr>\n",
       "  </thead>\n",
       "  <tbody>\n",
       "    <tr>\n",
       "      <th>0</th>\n",
       "      <td>1446.0</td>\n",
       "      <td>950.289673</td>\n",
       "      <td>2</td>\n",
       "    </tr>\n",
       "    <tr>\n",
       "      <th>1</th>\n",
       "      <td>25.0</td>\n",
       "      <td>954.926758</td>\n",
       "      <td>0</td>\n",
       "    </tr>\n",
       "    <tr>\n",
       "      <th>2</th>\n",
       "      <td>0.0</td>\n",
       "      <td>1656.129639</td>\n",
       "      <td>0</td>\n",
       "    </tr>\n",
       "    <tr>\n",
       "      <th>3</th>\n",
       "      <td>1559.0</td>\n",
       "      <td>3428.569824</td>\n",
       "      <td>2</td>\n",
       "    </tr>\n",
       "    <tr>\n",
       "      <th>4</th>\n",
       "      <td>7551.0</td>\n",
       "      <td>10119.854492</td>\n",
       "      <td>3</td>\n",
       "    </tr>\n",
       "  </tbody>\n",
       "</table>\n",
       "</div>"
      ],
      "text/plain": [
       "     true          pred  class\n",
       "0  1446.0    950.289673      2\n",
       "1    25.0    954.926758      0\n",
       "2     0.0   1656.129639      0\n",
       "3  1559.0   3428.569824      2\n",
       "4  7551.0  10119.854492      3"
      ]
     },
     "execution_count": 21,
     "metadata": {},
     "output_type": "execute_result"
    }
   ],
   "source": [
    "trues, preds, classes = [], [], []\n",
    "\n",
    "# for i,o,o2 in val_dl:\n",
    "\n",
    "for im in image_names:\n",
    "    \n",
    "    muni_id = im.split(\"/\")[5]\n",
    "    \n",
    "    i = load_inputs(im)\n",
    "    o = torch.tensor(mig_data[mig_data[\"muni_id\"] == im.split(\"/\")[5]]['class'].values[0])\n",
    "    o2 = torch.tensor(mig_data[mig_data[\"muni_id\"] == im.split(\"/\")[5]]['num_migrants'].values[0])\n",
    "    cur_census = torch.tensor(census[muni_id])\n",
    "    \n",
    "    pred = trainer.predict(1, i, o, o2, cur_census, checkpoint).item()\n",
    "    true = o2.item()\n",
    "    \n",
    "    trues.append(true)\n",
    "    preds.append(pred)\n",
    "    classes.append(o.item())\n",
    "    \n",
    "preds_df = pd.DataFrame()\n",
    "preds_df['true'], preds_df['pred'], preds_df['class'] = trues, preds, classes\n",
    "preds_df.head()"
   ]
  },
  {
   "cell_type": "code",
   "execution_count": 22,
   "id": "3dd9a7d0",
   "metadata": {},
   "outputs": [
    {
     "data": {
      "text/plain": [
       "Text(0, 0.5, 'True')"
      ]
     },
     "execution_count": 22,
     "metadata": {},
     "output_type": "execute_result"
    },
    {
     "data": {
      "image/png": "[encoded data removed]",
      "text/plain": [
       "<Figure size 432x288 with 1 Axes>"
      ]
     },
     "metadata": {
      "needs_background": "light"
     },
     "output_type": "display_data"
    }
   ],
   "source": [
    "groups = preds_df.groupby(\"class\")\n",
    "for name, group in groups:\n",
    "    plt.plot(group[\"pred\"], group[\"true\"], marker=\"o\", linestyle=\"\", label=name)\n",
    "plt.legend()\n",
    "plt.xlabel(\"Predicted\")\n",
    "plt.ylabel(\"True\")"
   ]
  },
  {
   "cell_type": "code",
   "execution_count": 23,
   "id": "b6c10eac",
   "metadata": {},
   "outputs": [],
   "source": [
    "preds_df.to_csv(\"./imagery_census_preds_df_v7.csv\")"
   ]
  },
  {
   "cell_type": "code",
   "execution_count": 24,
   "id": "b097d8a7",
   "metadata": {},
   "outputs": [
    {
     "data": {
      "text/plain": [
       "Text(0, 0.5, 'True')"
      ]
     },
     "execution_count": 24,
     "metadata": {},
     "output_type": "execute_result"
    },
    {
     "data": {
      "image/png": "[encoded data removed]",
      "text/plain": [
       "<Figure size 432x288 with 1 Axes>"
      ]
     },
     "metadata": {
      "needs_background": "light"
     },
     "output_type": "display_data"
    }
   ],
   "source": [
    "plt.scatter(preds_df['pred'], preds_df['true'])\n",
    "plt.xlabel(\"Predicted\")\n",
    "plt.ylabel(\"True\")"
   ]
  },
  {
   "cell_type": "code",
   "execution_count": 25,
   "id": "dc82c4fa",
   "metadata": {},
   "outputs": [
    {
     "name": "stdout",
     "output_type": "stream",
     "text": [
      "0 340.7828929664553\n",
      "1 382.5595754713524\n",
      "2 677.593277079071\n",
      "3 4076.425653265428\n"
     ]
    }
   ],
   "source": [
    "for name, group in groups:\n",
    "    print(name, np.mean(abs(group[\"true\"] - group[\"pred\"])))"
   ]
  },
  {
   "cell_type": "code",
   "execution_count": 26,
   "id": "88af6a3d",
   "metadata": {},
   "outputs": [
    {
     "data": {
      "text/html": [
       "<div>\n",
       "<style scoped>\n",
       "    .dataframe tbody tr th:only-of-type {\n",
       "        vertical-align: middle;\n",
       "    }\n",
       "\n",
       "    .dataframe tbody tr th {\n",
       "        vertical-align: top;\n",
       "    }\n",
       "\n",
       "    .dataframe thead th {\n",
       "        text-align: right;\n",
       "    }\n",
       "</style>\n",
       "<table border=\"1\" class=\"dataframe\">\n",
       "  <thead>\n",
       "    <tr style=\"text-align: right;\">\n",
       "      <th></th>\n",
       "      <th>true</th>\n",
       "      <th>pred</th>\n",
       "      <th>class</th>\n",
       "    </tr>\n",
       "  </thead>\n",
       "  <tbody>\n",
       "    <tr>\n",
       "      <th>0</th>\n",
       "      <td>1446.0</td>\n",
       "      <td>950.289673</td>\n",
       "      <td>2</td>\n",
       "    </tr>\n",
       "    <tr>\n",
       "      <th>1</th>\n",
       "      <td>25.0</td>\n",
       "      <td>954.926758</td>\n",
       "      <td>0</td>\n",
       "    </tr>\n",
       "    <tr>\n",
       "      <th>2</th>\n",
       "      <td>0.0</td>\n",
       "      <td>1656.129639</td>\n",
       "      <td>0</td>\n",
       "    </tr>\n",
       "    <tr>\n",
       "      <th>3</th>\n",
       "      <td>1559.0</td>\n",
       "      <td>3428.569824</td>\n",
       "      <td>2</td>\n",
       "    </tr>\n",
       "    <tr>\n",
       "      <th>4</th>\n",
       "      <td>7551.0</td>\n",
       "      <td>10119.854492</td>\n",
       "      <td>3</td>\n",
       "    </tr>\n",
       "    <tr>\n",
       "      <th>...</th>\n",
       "      <td>...</td>\n",
       "      <td>...</td>\n",
       "      <td>...</td>\n",
       "    </tr>\n",
       "    <tr>\n",
       "      <th>2061</th>\n",
       "      <td>2487.0</td>\n",
       "      <td>5547.522461</td>\n",
       "      <td>3</td>\n",
       "    </tr>\n",
       "    <tr>\n",
       "      <th>2062</th>\n",
       "      <td>2024.0</td>\n",
       "      <td>529.879333</td>\n",
       "      <td>3</td>\n",
       "    </tr>\n",
       "    <tr>\n",
       "      <th>2063</th>\n",
       "      <td>3084.0</td>\n",
       "      <td>1948.031982</td>\n",
       "      <td>3</td>\n",
       "    </tr>\n",
       "    <tr>\n",
       "      <th>2064</th>\n",
       "      <td>2919.0</td>\n",
       "      <td>1503.957153</td>\n",
       "      <td>3</td>\n",
       "    </tr>\n",
       "    <tr>\n",
       "      <th>2065</th>\n",
       "      <td>2119.0</td>\n",
       "      <td>1481.457886</td>\n",
       "      <td>3</td>\n",
       "    </tr>\n",
       "  </tbody>\n",
       "</table>\n",
       "<p>2066 rows × 3 columns</p>\n",
       "</div>"
      ],
      "text/plain": [
       "        true          pred  class\n",
       "0     1446.0    950.289673      2\n",
       "1       25.0    954.926758      0\n",
       "2        0.0   1656.129639      0\n",
       "3     1559.0   3428.569824      2\n",
       "4     7551.0  10119.854492      3\n",
       "...      ...           ...    ...\n",
       "2061  2487.0   5547.522461      3\n",
       "2062  2024.0    529.879333      3\n",
       "2063  3084.0   1948.031982      3\n",
       "2064  2919.0   1503.957153      3\n",
       "2065  2119.0   1481.457886      3\n",
       "\n",
       "[2066 rows x 3 columns]"
      ]
     },
     "execution_count": 26,
     "metadata": {},
     "output_type": "execute_result"
    }
   ],
   "source": [
    "preds_df"
   ]
  },
  {
   "cell_type": "code",
   "execution_count": null,
   "id": "f097293d",
   "metadata": {},
   "outputs": [],
   "source": []
  },
  {
   "cell_type": "code",
   "execution_count": null,
   "id": "eb126b14",
   "metadata": {},
   "outputs": [],
   "source": []
  }
 ],
 "metadata": {
  "kernelspec": {
   "display_name": "Python 3",
   "language": "python",
   "name": "python3"
  },
  "language_info": {
   "codemirror_mode": {
    "name": "ipython",
    "version": 3
   },
   "file_extension": ".py",
   "mimetype": "text/x-python",
   "name": "python",
   "nbconvert_exporter": "python",
   "pygments_lexer": "ipython3",
   "version": "3.7.10"
  }
 },
 "nbformat": 4,
 "nbformat_minor": 5
}
