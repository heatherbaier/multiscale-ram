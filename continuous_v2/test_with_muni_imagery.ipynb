{
 "cells": [
  {
   "cell_type": "code",
   "execution_count": 1,
   "id": "4f7d308f",
   "metadata": {},
   "outputs": [],
   "source": [
    "import os\n",
    "import time\n",
    "import shutil\n",
    "import pickle\n",
    "\n",
    "import torch\n",
    "import torch.nn.functional as F\n",
    "\n",
    "from tqdm import tqdm\n",
    "from torch.optim.lr_scheduler import ReduceLROnPlateau\n",
    "# from tensorboard_logger import configure, log_value\n",
    "\n",
    "from model import RecurrentAttention\n",
    "from utils import AverageMeter\n",
    "\n",
    "from torchvision import transforms, utils, models\n",
    "from PIL import Image\n",
    "\n",
    "import torch\n",
    "\n",
    "import utils\n",
    "import data_loader\n",
    "\n",
    "from trainer import Trainer\n",
    "from config import get_config\n",
    "\n",
    "import os\n",
    "os.environ[\"CUDA_DEVICE_ORDER\"] = \"PCI_BUS_ID\" \n",
    "os.environ[\"CUDA_VISIBLE_DEVICES\"] = \"2\"\n",
    "\n",
    "import pandas as pd\n",
    "\n",
    "import json"
   ]
  },
  {
   "cell_type": "code",
   "execution_count": 2,
   "id": "05e85edf",
   "metadata": {},
   "outputs": [],
   "source": [
    "def load_inputs(impath):\n",
    "    to_tens = transforms.ToTensor()\n",
    "    return to_tens(Image.open(impath).convert('RGB')).unsqueeze(0)"
   ]
  },
  {
   "cell_type": "code",
   "execution_count": 3,
   "id": "989cada5",
   "metadata": {},
   "outputs": [
    {
     "data": {
      "text/html": [
       "<div>\n",
       "<style scoped>\n",
       "    .dataframe tbody tr th:only-of-type {\n",
       "        vertical-align: middle;\n",
       "    }\n",
       "\n",
       "    .dataframe tbody tr th {\n",
       "        vertical-align: top;\n",
       "    }\n",
       "\n",
       "    .dataframe thead th {\n",
       "        text-align: right;\n",
       "    }\n",
       "</style>\n",
       "<table border=\"1\" class=\"dataframe\">\n",
       "  <thead>\n",
       "    <tr style=\"text-align: right;\">\n",
       "      <th></th>\n",
       "      <th>muni_id</th>\n",
       "      <th>num_migrants</th>\n",
       "      <th>class</th>\n",
       "    </tr>\n",
       "  </thead>\n",
       "  <tbody>\n",
       "    <tr>\n",
       "      <th>0</th>\n",
       "      <td>484001001</td>\n",
       "      <td>42055.0</td>\n",
       "      <td>1</td>\n",
       "    </tr>\n",
       "    <tr>\n",
       "      <th>1</th>\n",
       "      <td>484001002</td>\n",
       "      <td>4017.0</td>\n",
       "      <td>1</td>\n",
       "    </tr>\n",
       "    <tr>\n",
       "      <th>2</th>\n",
       "      <td>484001003</td>\n",
       "      <td>11992.0</td>\n",
       "      <td>1</td>\n",
       "    </tr>\n",
       "    <tr>\n",
       "      <th>3</th>\n",
       "      <td>484001004</td>\n",
       "      <td>762.0</td>\n",
       "      <td>1</td>\n",
       "    </tr>\n",
       "    <tr>\n",
       "      <th>4</th>\n",
       "      <td>484001005</td>\n",
       "      <td>7551.0</td>\n",
       "      <td>1</td>\n",
       "    </tr>\n",
       "    <tr>\n",
       "      <th>...</th>\n",
       "      <td>...</td>\n",
       "      <td>...</td>\n",
       "      <td>...</td>\n",
       "    </tr>\n",
       "    <tr>\n",
       "      <th>2326</th>\n",
       "      <td>484032049</td>\n",
       "      <td>2487.0</td>\n",
       "      <td>1</td>\n",
       "    </tr>\n",
       "    <tr>\n",
       "      <th>2327</th>\n",
       "      <td>484032050</td>\n",
       "      <td>2024.0</td>\n",
       "      <td>1</td>\n",
       "    </tr>\n",
       "    <tr>\n",
       "      <th>2328</th>\n",
       "      <td>484032051</td>\n",
       "      <td>3084.0</td>\n",
       "      <td>1</td>\n",
       "    </tr>\n",
       "    <tr>\n",
       "      <th>2329</th>\n",
       "      <td>484032052</td>\n",
       "      <td>2919.0</td>\n",
       "      <td>1</td>\n",
       "    </tr>\n",
       "    <tr>\n",
       "      <th>2330</th>\n",
       "      <td>484032053</td>\n",
       "      <td>2119.0</td>\n",
       "      <td>1</td>\n",
       "    </tr>\n",
       "  </tbody>\n",
       "</table>\n",
       "<p>2331 rows × 3 columns</p>\n",
       "</div>"
      ],
      "text/plain": [
       "        muni_id  num_migrants class\n",
       "0     484001001       42055.0     1\n",
       "1     484001002        4017.0     1\n",
       "2     484001003       11992.0     1\n",
       "3     484001004         762.0     1\n",
       "4     484001005        7551.0     1\n",
       "...         ...           ...   ...\n",
       "2326  484032049        2487.0     1\n",
       "2327  484032050        2024.0     1\n",
       "2328  484032051        3084.0     1\n",
       "2329  484032052        2919.0     1\n",
       "2330  484032053        2119.0     1\n",
       "\n",
       "[2331 rows x 3 columns]"
      ]
     },
     "execution_count": 3,
     "metadata": {},
     "output_type": "execute_result"
    }
   ],
   "source": [
    "m = open(\"../../pooling/data/migration_data.json\",)\n",
    "mig_data = json.load(m)\n",
    "m.close()\n",
    "mig_data = pd.DataFrame.from_dict(mig_data, orient = 'index').reset_index()\n",
    "mig_data.columns = ['muni_id', 'num_migrants']\n",
    "q = 2\n",
    "mig_data['class'] = pd.qcut(mig_data['num_migrants'], q = q, labels = [i for i in range(q)])\n",
    "mig_data"
   ]
  },
  {
   "cell_type": "code",
   "execution_count": 4,
   "id": "4ce40cf0",
   "metadata": {},
   "outputs": [
    {
     "data": {
      "text/plain": [
       "0    1166\n",
       "1    1165\n",
       "Name: class, dtype: int64"
      ]
     },
     "execution_count": 4,
     "metadata": {},
     "output_type": "execute_result"
    }
   ],
   "source": [
    "mig_data['class'].value_counts()"
   ]
  },
  {
   "cell_type": "code",
   "execution_count": 5,
   "id": "55aae620",
   "metadata": {},
   "outputs": [],
   "source": [
    "def get_png_names(directory):\n",
    "    images = []\n",
    "    for i in os.listdir(directory):\n",
    "        try:\n",
    "            if os.path.isdir(os.path.join(directory, i)):\n",
    "                new_path = os.path.join(directory, i, \"pngs\")\n",
    "                image = os.listdir(new_path)[0]\n",
    "                images.append(os.path.join(directory, i, \"pngs\", image))\n",
    "        except:\n",
    "            pass\n",
    "    return images\n",
    "\n",
    "\n",
    "            \n",
    "\n",
    "image_names = get_png_names(\"../../pooling/data/MEX/\")\n",
    "\n",
    "y_class, y_mig = [], []\n",
    "\n",
    "for i in image_names:\n",
    "        dta = mig_data[mig_data[\"muni_id\"] == i.split(\"/\")[5]]\n",
    "        if len(dta) != 0:\n",
    "            y_class.append(dta['class'].values[0])\n",
    "            y_mig.append(dta['num_migrants'].values[0])"
   ]
  },
  {
   "cell_type": "code",
   "execution_count": 6,
   "id": "f244e31f",
   "metadata": {},
   "outputs": [],
   "source": [
    "import matplotlib.pyplot as plt\n",
    "import torchvision"
   ]
  },
  {
   "cell_type": "code",
   "execution_count": 7,
   "id": "1cdc9e15",
   "metadata": {},
   "outputs": [],
   "source": [
    "import random\n",
    "\n",
    "train_num = int(25 * .70)\n",
    "\n",
    "train_indices = random.sample(range(0, 25), train_num)\n",
    "val_indices = [i for i in range(0, 25) if i not in train_indices]"
   ]
  },
  {
   "cell_type": "code",
   "execution_count": 8,
   "id": "53dd8d27",
   "metadata": {},
   "outputs": [],
   "source": [
    "import torchvision\n",
    "\n",
    "batch_size = 1\n",
    "\n",
    "# train = [(load_inputs(image_paths[i]).squeeze()[:, 0:28, 0:28], ys[i]) for i in range(0, 93)]\n",
    "# val = [(load_inputs(image_paths[i]).squeeze()[:, 0:28, 0:28], ys[i]) for i in range(93, 133)]\n",
    "\n",
    "# brighten = torchvision.transforms.functional.adjust_brightness(brightness_factor = 2)\n",
    "\n",
    "\n",
    "train = [(torchvision.transforms.functional.adjust_brightness(load_inputs(image_names[i]), brightness_factor = 2).squeeze(), y_class[i], y_mig[i]) for i in train_indices]\n",
    "val = [(torchvision.transforms.functional.adjust_brightness(load_inputs(image_names[i]), brightness_factor = 2).squeeze(), y_class[i], y_mig[i]) for i in val_indices]\n",
    "\n",
    "\n",
    "train_dl = torch.utils.data.DataLoader(train, batch_size = batch_size, shuffle = True)\n",
    "val_dl = torch.utils.data.DataLoader(val, batch_size = batch_size, shuffle = True)"
   ]
  },
  {
   "cell_type": "code",
   "execution_count": 9,
   "id": "98e9e2f2",
   "metadata": {},
   "outputs": [
    {
     "name": "stdout",
     "output_type": "stream",
     "text": [
      "Num training:  17\n",
      "Num validation:  8\n"
     ]
    }
   ],
   "source": [
    "print(\"Num training: \", len(train_dl))\n",
    "print(\"Num validation: \", len(val_dl))"
   ]
  },
  {
   "cell_type": "code",
   "execution_count": 10,
   "id": "9c94f7db",
   "metadata": {},
   "outputs": [],
   "source": [
    "import numpy as np\n",
    "from utils import plot_images\n",
    "\n",
    "import torch\n",
    "from torchvision import datasets\n",
    "from torchvision import transforms\n",
    "from torch.utils.data.sampler import SubsetRandomSampler"
   ]
  },
  {
   "cell_type": "code",
   "execution_count": 11,
   "id": "e8effb6c",
   "metadata": {},
   "outputs": [],
   "source": [
    "config, unparsed = get_config()"
   ]
  },
  {
   "cell_type": "code",
   "execution_count": 12,
   "id": "39963b18",
   "metadata": {},
   "outputs": [],
   "source": [
    "trainer = Trainer(config, (train_dl, val_dl))"
   ]
  },
  {
   "cell_type": "code",
   "execution_count": 13,
   "id": "14e21185",
   "metadata": {},
   "outputs": [
    {
     "name": "stderr",
     "output_type": "stream",
     "text": [
      "  0%|          | 0/17 [00:00<?, ?it/s]/rapids/notebooks/sciclone/geograd/Heather/RAM/continuous_v2/modules.py:375: UserWarning: Implicit dimension choice for log_softmax has been deprecated. Change the call to include dim=X as an argument.\n",
      "  a_t_class = F.log_softmax(self.fc_class1(h_t)).flatten(start_dim = 0) # shape goes from [2,2] -> [1,4]\n",
      "/rapids/notebooks/sciclone/geograd/Heather/RAM/continuous_v2/modules.py:379: UserWarning: Implicit dimension choice for log_softmax has been deprecated. Change the call to include dim=X as an argument.\n",
      "  a_t_class = F.log_softmax(self.fc_class2(a_t_class)).unsqueeze(0)\n",
      "0.1s - loss: 0.943 - acc: 0.000 - mae: 13.716:   0%|          | 0/17 [00:00<?, ?it/s]"
     ]
    },
    {
     "name": "stdout",
     "output_type": "stream",
     "text": [
      "\n",
      "[*] Train on 17 samples, validate on 8 samples\n",
      "\n",
      "Epoch: 1/200 - LR: 0.000300\n"
     ]
    },
    {
     "name": "stderr",
     "output_type": "stream",
     "text": [
      "1.4s - loss: 124.582 - acc: 100.000 - mae: 11991.670: 100%|██████████| 17/17 [00:01<00:00, 12.14it/s]\n"
     ]
    },
    {
     "name": "stdout",
     "output_type": "stream",
     "text": [
      "train loss: 19.430 - train acc: 58.824 - val loss: 80.410 - val acc: 62.500 - val err: 37.500- train mae: 1616.324 - val mae: 7738.806 [*]\n"
     ]
    },
    {
     "name": "stderr",
     "output_type": "stream",
     "text": [
      "0.2s - loss: 12.966 - acc: 100.000 - mae: 954.667:  12%|█▏        | 2/17 [00:00<00:01, 11.10it/s]"
     ]
    },
    {
     "name": "stdout",
     "output_type": "stream",
     "text": [
      "\n",
      "Epoch: 2/200 - LR: 0.000300\n"
     ]
    },
    {
     "name": "stderr",
     "output_type": "stream",
     "text": [
      "0.9s - loss: 11.161 - acc: 100.000 - mae: 761.685: 100%|██████████| 17/17 [00:00<00:00, 19.17it/s]   \n",
      "0.0s - loss: 9.408 - acc: 100.000 - mae: 629.746:   0%|          | 0/17 [00:00<?, ?it/s]"
     ]
    },
    {
     "name": "stdout",
     "output_type": "stream",
     "text": [
      "train loss: 18.970 - train acc: 58.824 - val loss: 79.668 - val acc: 62.500 - val err: 37.500- train mae: 1616.235 - val mae: 7738.826\n",
      "\n",
      "Epoch: 3/200 - LR: 0.000300\n"
     ]
    },
    {
     "name": "stderr",
     "output_type": "stream",
     "text": [
      "0.9s - loss: 123.981 - acc: 100.000 - mae: 11991.661: 100%|██████████| 17/17 [00:00<00:00, 19.00it/s]\n",
      "0.0s - loss: 11.993 - acc: 100.000 - mae: 952.657:   0%|          | 0/17 [00:00<?, ?it/s]"
     ]
    },
    {
     "name": "stdout",
     "output_type": "stream",
     "text": [
      "train loss: 17.756 - train acc: 58.824 - val loss: 78.919 - val acc: 62.500 - val err: 37.500- train mae: 1616.249 - val mae: 7738.768\n",
      "\n",
      "Epoch: 4/200 - LR: 0.000300\n"
     ]
    },
    {
     "name": "stderr",
     "output_type": "stream",
     "text": [
      "0.9s - loss: 0.005 - acc: 0.000 - mae: 39.679: 100%|██████████| 17/17 [00:00<00:00, 18.66it/s]      \n",
      "0.0s - loss: 3.413 - acc: 0.000 - mae: 446.592:   0%|          | 0/17 [00:00<?, ?it/s]"
     ]
    },
    {
     "name": "stdout",
     "output_type": "stream",
     "text": [
      "train loss: 17.519 - train acc: 58.824 - val loss: 78.300 - val acc: 62.500 - val err: 37.500- train mae: 1616.233 - val mae: 7738.711\n",
      "\n",
      "Epoch: 5/200 - LR: 0.000300\n"
     ]
    },
    {
     "name": "stderr",
     "output_type": "stream",
     "text": [
      "1.4s - loss: 42.514 - acc: 100.000 - mae: 4016.574: 100%|██████████| 17/17 [00:01<00:00, 11.76it/s] \n",
      "0.0s - loss: 123.493 - acc: 100.000 - mae: 11991.606:   0%|          | 0/17 [00:00<?, ?it/s]"
     ]
    },
    {
     "name": "stdout",
     "output_type": "stream",
     "text": [
      "train loss: 17.152 - train acc: 58.824 - val loss: 78.456 - val acc: 62.500 - val err: 37.500- train mae: 1616.181 - val mae: 7738.704\n",
      "\n",
      "Epoch: 6/200 - LR: 0.000300\n"
     ]
    },
    {
     "name": "stderr",
     "output_type": "stream",
     "text": [
      "1.1s - loss: 13.717 - acc: 100.000 - mae: 987.534: 100%|██████████| 17/17 [00:01<00:00, 15.72it/s] \n",
      "0.0s - loss: 18.515 - acc: 100.000 - mae: 1445.569:   0%|          | 0/17 [00:00<?, ?it/s]"
     ]
    },
    {
     "name": "stdout",
     "output_type": "stream",
     "text": [
      "train loss: 17.199 - train acc: 58.824 - val loss: 79.005 - val acc: 62.500 - val err: 37.500- train mae: 1616.168 - val mae: 7738.715\n",
      "\n",
      "Epoch: 7/200 - LR: 0.000300\n"
     ]
    },
    {
     "name": "stderr",
     "output_type": "stream",
     "text": [
      "0.8s - loss: 121.995 - acc: 100.000 - mae: 11991.561: 100%|██████████| 17/17 [00:00<00:00, 20.20it/s]\n",
      "0.0s - loss: 36.092 - acc: 100.000 - mae: 3416.582:   0%|          | 0/17 [00:00<?, ?it/s]"
     ]
    },
    {
     "name": "stdout",
     "output_type": "stream",
     "text": [
      "train loss: 17.518 - train acc: 58.824 - val loss: 78.343 - val acc: 62.500 - val err: 37.500- train mae: 1616.165 - val mae: 7738.733\n",
      "\n",
      "Epoch: 8/200 - LR: 0.000300\n"
     ]
    },
    {
     "name": "stderr",
     "output_type": "stream",
     "text": [
      "0.9s - loss: 2.797 - acc: 0.000 - mae: 446.573: 100%|██████████| 17/17 [00:00<00:00, 18.74it/s]      \n",
      "0.0s - loss: 12.990 - acc: 100.000 - mae: 987.597:   0%|          | 0/17 [00:00<?, ?it/s]"
     ]
    },
    {
     "name": "stdout",
     "output_type": "stream",
     "text": [
      "train loss: 17.440 - train acc: 58.824 - val loss: 78.171 - val acc: 62.500 - val err: 37.500- train mae: 1616.165 - val mae: 7738.689\n",
      "\n",
      "Epoch: 9/200 - LR: 0.000300\n"
     ]
    },
    {
     "name": "stderr",
     "output_type": "stream",
     "text": [
      "1.0s - loss: 42.752 - acc: 100.000 - mae: 4016.525: 100%|██████████| 17/17 [00:00<00:00, 17.30it/s]  \n",
      "0.0s - loss: -0.302 - acc: 0.000 - mae: 13.526:   0%|          | 0/17 [00:00<?, ?it/s]"
     ]
    },
    {
     "name": "stdout",
     "output_type": "stream",
     "text": [
      "train loss: 17.577 - train acc: 58.824 - val loss: 78.505 - val acc: 62.500 - val err: 37.500- train mae: 1616.145 - val mae: 7738.666\n",
      "\n",
      "Epoch: 10/200 - LR: 0.000300\n"
     ]
    },
    {
     "name": "stderr",
     "output_type": "stream",
     "text": [
      "1.3s - loss: 46.231 - acc: 100.000 - mae: 4016.493: 100%|██████████| 17/17 [00:01<00:00, 12.79it/s]  \n",
      "0.0s - loss: 11.338 - acc: 100.000 - mae: 987.530:   0%|          | 0/17 [00:00<?, ?it/s]"
     ]
    },
    {
     "name": "stdout",
     "output_type": "stream",
     "text": [
      "train loss: 16.910 - train acc: 58.824 - val loss: 78.305 - val acc: 62.500 - val err: 37.500- train mae: 1616.151 - val mae: 7738.696\n",
      "\n",
      "Epoch: 11/200 - LR: 0.000300\n"
     ]
    },
    {
     "name": "stderr",
     "output_type": "stream",
     "text": [
      "1.0s - loss: 3.484 - acc: 0.000 - mae: 446.565: 100%|██████████| 17/17 [00:01<00:00, 16.83it/s]     \n",
      "0.0s - loss: 42.193 - acc: 100.000 - mae: 4016.534:   0%|          | 0/17 [00:00<?, ?it/s]"
     ]
    },
    {
     "name": "stdout",
     "output_type": "stream",
     "text": [
      "train loss: 16.114 - train acc: 58.824 - val loss: 77.523 - val acc: 62.500 - val err: 37.500- train mae: 1616.102 - val mae: 7738.581\n",
      "\n",
      "Epoch: 12/200 - LR: 0.000300\n"
     ]
    },
    {
     "name": "stderr",
     "output_type": "stream",
     "text": [
      "1.0s - loss: 36.197 - acc: 100.000 - mae: 3416.300: 100%|██████████| 17/17 [00:01<00:00, 16.33it/s] \n",
      "0.1s - loss: 1.129 - acc: 0.000 - mae: 85.520:   0%|          | 0/17 [00:00<?, ?it/s]"
     ]
    },
    {
     "name": "stdout",
     "output_type": "stream",
     "text": [
      "train loss: 16.567 - train acc: 58.824 - val loss: 78.428 - val acc: 62.500 - val err: 37.500- train mae: 1615.980 - val mae: 7738.573\n",
      "\n",
      "Epoch: 13/200 - LR: 0.000300\n"
     ]
    },
    {
     "name": "stderr",
     "output_type": "stream",
     "text": [
      "1.7s - loss: -1.302 - acc: 0.000 - mae: 46.529: 100%|██████████| 17/17 [00:01<00:00, 10.27it/s]      \n",
      "0.0s - loss: 11.113 - acc: 100.000 - mae: 987.475:   0%|          | 0/17 [00:00<?, ?it/s]"
     ]
    },
    {
     "name": "stdout",
     "output_type": "stream",
     "text": [
      "train loss: 17.316 - train acc: 58.824 - val loss: 78.306 - val acc: 62.500 - val err: 37.500- train mae: 1616.077 - val mae: 7738.523\n",
      "\n",
      "Epoch: 14/200 - LR: 0.000300\n"
     ]
    },
    {
     "name": "stderr",
     "output_type": "stream",
     "text": [
      "1.0s - loss: 3.245 - acc: 0.000 - mae: 446.415: 100%|██████████| 17/17 [00:01<00:00, 16.60it/s]      \n",
      "0.0s - loss: -0.400 - acc: 0.000 - mae: 39.231:   0%|          | 0/17 [00:00<?, ?it/s]"
     ]
    },
    {
     "name": "stdout",
     "output_type": "stream",
     "text": [
      "train loss: 16.422 - train acc: 58.824 - val loss: 77.898 - val acc: 62.500 - val err: 37.500- train mae: 1615.960 - val mae: 7738.408\n",
      "\n",
      "Epoch: 15/200 - LR: 0.000300\n"
     ]
    },
    {
     "name": "stderr",
     "output_type": "stream",
     "text": [
      "1.5s - loss: 43.007 - acc: 100.000 - mae: 4016.800: 100%|██████████| 17/17 [00:01<00:00, 11.37it/s]  \n",
      "0.1s - loss: -0.984 - acc: 0.000 - mae: 13.845:   0%|          | 0/17 [00:00<?, ?it/s]"
     ]
    },
    {
     "name": "stdout",
     "output_type": "stream",
     "text": [
      "train loss: 17.151 - train acc: 58.824 - val loss: 78.803 - val acc: 62.500 - val err: 37.500- train mae: 1615.907 - val mae: 7738.484\n",
      "\n",
      "Epoch: 16/200 - LR: 0.000300\n"
     ]
    },
    {
     "name": "stderr",
     "output_type": "stream",
     "text": [
      "1.3s - loss: 4.188 - acc: 0.000 - mae: 446.387: 100%|██████████| 17/17 [00:01<00:00, 12.79it/s]     \n",
      "0.1s - loss: 3.736 - acc: 0.000 - mae: 446.507:   0%|          | 0/17 [00:00<?, ?it/s]"
     ]
    },
    {
     "name": "stdout",
     "output_type": "stream",
     "text": [
      "train loss: 17.361 - train acc: 58.824 - val loss: 79.617 - val acc: 62.500 - val err: 37.500- train mae: 1616.066 - val mae: 7738.508\n",
      "\n",
      "Epoch: 17/200 - LR: 0.000300\n"
     ]
    },
    {
     "name": "stderr",
     "output_type": "stream",
     "text": [
      "1.5s - loss: 0.160 - acc: 0.000 - mae: 46.341: 100%|██████████| 17/17 [00:01<00:00, 11.60it/s]      \n",
      "0.1s - loss: -0.950 - acc: 0.000 - mae: 13.664:   0%|          | 0/17 [00:00<?, ?it/s]"
     ]
    },
    {
     "name": "stdout",
     "output_type": "stream",
     "text": [
      "train loss: 17.985 - train acc: 58.824 - val loss: 78.916 - val acc: 62.500 - val err: 37.500- train mae: 1615.999 - val mae: 7738.507\n",
      "\n",
      "Epoch: 18/200 - LR: 0.000300\n"
     ]
    },
    {
     "name": "stderr",
     "output_type": "stream",
     "text": [
      "1.3s - loss: 7.514 - acc: 100.000 - mae: 629.109: 100%|██████████| 17/17 [00:01<00:00, 12.88it/s]   \n",
      "0.0s - loss: 121.911 - acc: 100.000 - mae: 11991.166:   0%|          | 0/17 [00:00<?, ?it/s]"
     ]
    },
    {
     "name": "stdout",
     "output_type": "stream",
     "text": [
      "train loss: 17.323 - train acc: 58.824 - val loss: 77.995 - val acc: 62.500 - val err: 37.500- train mae: 1615.914 - val mae: 7738.406\n",
      "\n",
      "Epoch: 19/200 - LR: 0.000300\n"
     ]
    },
    {
     "name": "stderr",
     "output_type": "stream",
     "text": [
      "1.0s - loss: 10.833 - acc: 100.000 - mae: 952.116: 100%|██████████| 17/17 [00:01<00:00, 16.66it/s]\n",
      "0.0s - loss: 42.556 - acc: 100.000 - mae: 4016.333:   0%|          | 0/17 [00:00<?, ?it/s]"
     ]
    },
    {
     "name": "stdout",
     "output_type": "stream",
     "text": [
      "train loss: 16.599 - train acc: 58.824 - val loss: 78.547 - val acc: 62.500 - val err: 37.500- train mae: 1615.850 - val mae: 7738.400\n",
      "\n",
      "Epoch: 20/200 - LR: 0.000300\n"
     ]
    },
    {
     "name": "stderr",
     "output_type": "stream",
     "text": [
      "1.0s - loss: 11.097 - acc: 100.000 - mae: 954.193: 100%|██████████| 17/17 [00:00<00:00, 17.05it/s]  \n",
      "0.1s - loss: -1.172 - acc: 0.000 - mae: 85.536:   0%|          | 0/17 [00:00<?, ?it/s]"
     ]
    },
    {
     "name": "stdout",
     "output_type": "stream",
     "text": [
      "train loss: 17.035 - train acc: 58.824 - val loss: 78.265 - val acc: 62.500 - val err: 37.500- train mae: 1615.880 - val mae: 7738.484\n",
      "\n",
      "Epoch: 21/200 - LR: 0.000300\n"
     ]
    },
    {
     "name": "stderr",
     "output_type": "stream",
     "text": [
      "1.7s - loss: -0.257 - acc: 0.000 - mae: 36.366: 100%|██████████| 17/17 [00:01<00:00,  9.83it/s]     \n",
      "0.0s - loss: 0.847 - acc: 0.000 - mae: 39.287:   0%|          | 0/17 [00:00<?, ?it/s]"
     ]
    },
    {
     "name": "stdout",
     "output_type": "stream",
     "text": [
      "train loss: 15.932 - train acc: 47.059 - val loss: 79.092 - val acc: 62.500 - val err: 37.500- train mae: 1615.955 - val mae: 7738.513\n",
      "\n",
      "Epoch: 22/200 - LR: 0.000300\n"
     ]
    },
    {
     "name": "stderr",
     "output_type": "stream",
     "text": [
      "1.5s - loss: 0.985 - acc: 0.000 - mae: 46.309: 100%|██████████| 17/17 [00:01<00:00, 11.16it/s]       \n",
      "0.0s - loss: 0.653 - acc: 0.000 - mae: 46.322:   0%|          | 0/17 [00:00<?, ?it/s]"
     ]
    },
    {
     "name": "stdout",
     "output_type": "stream",
     "text": [
      "train loss: 18.395 - train acc: 58.824 - val loss: 80.003 - val acc: 62.500 - val err: 37.500- train mae: 1615.913 - val mae: 7738.457\n",
      "\n",
      "Epoch: 23/200 - LR: 0.000300\n"
     ]
    },
    {
     "name": "stderr",
     "output_type": "stream",
     "text": [
      "1.1s - loss: 12.294 - acc: 100.000 - mae: 629.328: 100%|██████████| 17/17 [00:01<00:00, 15.89it/s]  \n",
      "0.0s - loss: 122.609 - acc: 100.000 - mae: 11991.270:   0%|          | 0/17 [00:00<?, ?it/s]"
     ]
    },
    {
     "name": "stdout",
     "output_type": "stream",
     "text": [
      "train loss: 18.236 - train acc: 58.824 - val loss: 79.460 - val acc: 62.500 - val err: 37.500- train mae: 1615.883 - val mae: 7738.390\n",
      "\n",
      "Epoch: 24/200 - LR: 0.000300\n"
     ]
    },
    {
     "name": "stderr",
     "output_type": "stream",
     "text": [
      "1.1s - loss: 3.666 - acc: 0.000 - mae: 446.173: 100%|██████████| 17/17 [00:01<00:00, 15.45it/s]    \n",
      "0.1s - loss: 0.986 - acc: 0.000 - mae: 91.292:   0%|          | 0/17 [00:00<?, ?it/s]"
     ]
    },
    {
     "name": "stdout",
     "output_type": "stream",
     "text": [
      "train loss: 17.636 - train acc: 58.824 - val loss: 79.203 - val acc: 62.500 - val err: 37.500- train mae: 1615.849 - val mae: 7738.361\n",
      "\n",
      "Epoch: 25/200 - LR: 0.000300\n"
     ]
    },
    {
     "name": "stderr",
     "output_type": "stream",
     "text": [
      "1.8s - loss: 9.068 - acc: 100.000 - mae: 761.300: 100%|██████████| 17/17 [00:01<00:00,  9.63it/s]    \n",
      "0.0s - loss: -0.447 - acc: 0.000 - mae: 39.306:   0%|          | 0/17 [00:00<?, ?it/s]"
     ]
    },
    {
     "name": "stdout",
     "output_type": "stream",
     "text": [
      "train loss: 16.937 - train acc: 58.824 - val loss: 78.447 - val acc: 62.500 - val err: 37.500- train mae: 1615.841 - val mae: 7738.401\n",
      "\n",
      "Epoch: 26/200 - LR: 0.000300\n"
     ]
    },
    {
     "name": "stderr",
     "output_type": "stream",
     "text": [
      "1.5s - loss: 11.680 - acc: 100.000 - mae: 954.167: 100%|██████████| 17/17 [00:01<00:00, 11.44it/s]  \n",
      "0.0s - loss: 16.011 - acc: 100.000 - mae: 1445.136:   0%|          | 0/17 [00:00<?, ?it/s]"
     ]
    },
    {
     "name": "stdout",
     "output_type": "stream",
     "text": [
      "train loss: 17.169 - train acc: 58.824 - val loss: 78.399 - val acc: 62.500 - val err: 37.500- train mae: 1615.805 - val mae: 7738.288\n",
      "\n",
      "Epoch: 27/200 - LR: 0.000300\n"
     ]
    },
    {
     "name": "stderr",
     "output_type": "stream",
     "text": [
      "0.9s - loss: 0.092 - acc: 0.000 - mae: 46.142: 100%|██████████| 17/17 [00:00<00:00, 19.90it/s]      \n",
      "0.0s - loss: 12.415 - acc: 100.000 - mae: 987.176:   0%|          | 0/17 [00:00<?, ?it/s]"
     ]
    },
    {
     "name": "stdout",
     "output_type": "stream",
     "text": [
      "train loss: 17.270 - train acc: 58.824 - val loss: 78.963 - val acc: 62.500 - val err: 37.500- train mae: 1615.758 - val mae: 7738.298\n",
      "\n",
      "Epoch: 28/200 - LR: 0.000300\n"
     ]
    },
    {
     "name": "stderr",
     "output_type": "stream",
     "text": [
      "0.5s - loss: 42.357 - acc: 100.000 - mae: 4016.198:  41%|████      | 7/17 [00:00<00:00, 12.28it/s]\n"
     ]
    },
    {
     "ename": "KeyboardInterrupt",
     "evalue": "",
     "output_type": "error",
     "traceback": [
      "\u001b[0;31m---------------------------------------------------------------------------\u001b[0m",
      "\u001b[0;31mIndexError\u001b[0m                                Traceback (most recent call last)",
      "\u001b[0;32m/rapids/notebooks/sciclone/geograd/Heather/RAM/continuous_v2/trainer.py\u001b[0m in \u001b[0;36mtrain_one_epoch\u001b[0;34m(self, epoch)\u001b[0m\n\u001b[1;32m    270\u001b[0m                 \u001b[0;32mtry\u001b[0m\u001b[0;34m:\u001b[0m\u001b[0;34m\u001b[0m\u001b[0;34m\u001b[0m\u001b[0m\n\u001b[0;32m--> 271\u001b[0;31m                     \u001b[0mbaselines\u001b[0m \u001b[0;34m=\u001b[0m \u001b[0mtorch\u001b[0m\u001b[0;34m.\u001b[0m\u001b[0mstack\u001b[0m\u001b[0;34m(\u001b[0m\u001b[0mbaselines\u001b[0m\u001b[0;34m)\u001b[0m\u001b[0;34m.\u001b[0m\u001b[0mtranspose\u001b[0m\u001b[0;34m(\u001b[0m\u001b[0;36m1\u001b[0m\u001b[0;34m,\u001b[0m \u001b[0;36m0\u001b[0m\u001b[0;34m)\u001b[0m\u001b[0;34m\u001b[0m\u001b[0;34m\u001b[0m\u001b[0m\n\u001b[0m\u001b[1;32m    272\u001b[0m                 \u001b[0;32mexcept\u001b[0m\u001b[0;34m:\u001b[0m\u001b[0;34m\u001b[0m\u001b[0;34m\u001b[0m\u001b[0m\n",
      "\u001b[0;31mIndexError\u001b[0m: Dimension out of range (expected to be in range of [-1, 0], but got 1)",
      "\nDuring handling of the above exception, another exception occurred:\n",
      "\u001b[0;31mKeyboardInterrupt\u001b[0m                         Traceback (most recent call last)",
      "\u001b[0;32m<ipython-input-13-3435b262f1ae>\u001b[0m in \u001b[0;36m<module>\u001b[0;34m\u001b[0m\n\u001b[0;32m----> 1\u001b[0;31m \u001b[0mtrainer\u001b[0m\u001b[0;34m.\u001b[0m\u001b[0mtrain\u001b[0m\u001b[0;34m(\u001b[0m\u001b[0;34m)\u001b[0m\u001b[0;34m\u001b[0m\u001b[0;34m\u001b[0m\u001b[0m\n\u001b[0m",
      "\u001b[0;32m/rapids/notebooks/sciclone/geograd/Heather/RAM/continuous_v2/trainer.py\u001b[0m in \u001b[0;36mtrain\u001b[0;34m(self)\u001b[0m\n\u001b[1;32m    171\u001b[0m \u001b[0;34m\u001b[0m\u001b[0m\n\u001b[1;32m    172\u001b[0m             \u001b[0;31m# train for 1 epoch\u001b[0m\u001b[0;34m\u001b[0m\u001b[0;34m\u001b[0m\u001b[0;34m\u001b[0m\u001b[0m\n\u001b[0;32m--> 173\u001b[0;31m             \u001b[0mtrain_loss\u001b[0m\u001b[0;34m,\u001b[0m \u001b[0mtrain_acc\u001b[0m\u001b[0;34m,\u001b[0m \u001b[0mtrain_mae\u001b[0m \u001b[0;34m=\u001b[0m \u001b[0mself\u001b[0m\u001b[0;34m.\u001b[0m\u001b[0mtrain_one_epoch\u001b[0m\u001b[0;34m(\u001b[0m\u001b[0mepoch\u001b[0m\u001b[0;34m)\u001b[0m\u001b[0;34m\u001b[0m\u001b[0;34m\u001b[0m\u001b[0m\n\u001b[0m\u001b[1;32m    174\u001b[0m \u001b[0;34m\u001b[0m\u001b[0m\n\u001b[1;32m    175\u001b[0m             \u001b[0;31m# evaluate on validation set\u001b[0m\u001b[0;34m\u001b[0m\u001b[0;34m\u001b[0m\u001b[0;34m\u001b[0m\u001b[0m\n",
      "\u001b[0;32m/rapids/notebooks/sciclone/geograd/Heather/RAM/continuous_v2/trainer.py\u001b[0m in \u001b[0;36mtrain_one_epoch\u001b[0;34m(self, epoch)\u001b[0m\n\u001b[1;32m    269\u001b[0m                 \u001b[0;31m# convert list to tensors and reshape\u001b[0m\u001b[0;34m\u001b[0m\u001b[0;34m\u001b[0m\u001b[0;34m\u001b[0m\u001b[0m\n\u001b[1;32m    270\u001b[0m                 \u001b[0;32mtry\u001b[0m\u001b[0;34m:\u001b[0m\u001b[0;34m\u001b[0m\u001b[0;34m\u001b[0m\u001b[0m\n\u001b[0;32m--> 271\u001b[0;31m                     \u001b[0mbaselines\u001b[0m \u001b[0;34m=\u001b[0m \u001b[0mtorch\u001b[0m\u001b[0;34m.\u001b[0m\u001b[0mstack\u001b[0m\u001b[0;34m(\u001b[0m\u001b[0mbaselines\u001b[0m\u001b[0;34m)\u001b[0m\u001b[0;34m.\u001b[0m\u001b[0mtranspose\u001b[0m\u001b[0;34m(\u001b[0m\u001b[0;36m1\u001b[0m\u001b[0;34m,\u001b[0m \u001b[0;36m0\u001b[0m\u001b[0;34m)\u001b[0m\u001b[0;34m\u001b[0m\u001b[0;34m\u001b[0m\u001b[0m\n\u001b[0m\u001b[1;32m    272\u001b[0m                 \u001b[0;32mexcept\u001b[0m\u001b[0;34m:\u001b[0m\u001b[0;34m\u001b[0m\u001b[0;34m\u001b[0m\u001b[0m\n\u001b[1;32m    273\u001b[0m                     \u001b[0mbaselines\u001b[0m \u001b[0;34m=\u001b[0m \u001b[0mtorch\u001b[0m\u001b[0;34m.\u001b[0m\u001b[0mstack\u001b[0m\u001b[0;34m(\u001b[0m\u001b[0mbaselines\u001b[0m\u001b[0;34m)\u001b[0m\u001b[0;34m.\u001b[0m\u001b[0munsqueeze\u001b[0m\u001b[0;34m(\u001b[0m\u001b[0;36m1\u001b[0m\u001b[0;34m)\u001b[0m\u001b[0;34m.\u001b[0m\u001b[0mtranspose\u001b[0m\u001b[0;34m(\u001b[0m\u001b[0;36m1\u001b[0m\u001b[0;34m,\u001b[0m \u001b[0;36m0\u001b[0m\u001b[0;34m)\u001b[0m\u001b[0;34m\u001b[0m\u001b[0;34m\u001b[0m\u001b[0m\n",
      "\u001b[0;31mKeyboardInterrupt\u001b[0m: "
     ]
    }
   ],
   "source": [
    "trainer.train()"
   ]
  },
  {
   "cell_type": "code",
   "execution_count": null,
   "id": "ec982813",
   "metadata": {},
   "outputs": [],
   "source": []
  },
  {
   "cell_type": "code",
   "execution_count": null,
   "id": "68e31cc4",
   "metadata": {},
   "outputs": [],
   "source": []
  },
  {
   "cell_type": "code",
   "execution_count": null,
   "id": "4a4eeb01",
   "metadata": {},
   "outputs": [],
   "source": []
  },
  {
   "cell_type": "code",
   "execution_count": 23,
   "id": "7a23fd56",
   "metadata": {},
   "outputs": [],
   "source": [
    "test = torch.rand(2, 256)\n",
    "patch_dict = {}\n",
    "\n",
    "for patch in range(0, test.shape[0]):\n",
    "    cur_vals = list(test[patch].numpy())\n",
    "    patch_dict[patch] = [str(i) for i in cur_vals]\n",
    "    \n",
    "with open(\"sample.json\", \"w\") as outfile: \n",
    "    json.dump(patch_dict, outfile)"
   ]
  },
  {
   "cell_type": "code",
   "execution_count": null,
   "id": "a0bc22d6",
   "metadata": {},
   "outputs": [],
   "source": []
  }
 ],
 "metadata": {
  "kernelspec": {
   "display_name": "Python 3",
   "language": "python",
   "name": "python3"
  },
  "language_info": {
   "codemirror_mode": {
    "name": "ipython",
    "version": 3
   },
   "file_extension": ".py",
   "mimetype": "text/x-python",
   "name": "python",
   "nbconvert_exporter": "python",
   "pygments_lexer": "ipython3",
   "version": "3.7.10"
  }
 },
 "nbformat": 4,
 "nbformat_minor": 5
}
