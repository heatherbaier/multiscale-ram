{
 "cells": [
  {
   "cell_type": "code",
   "execution_count": 1,
   "id": "2108c698",
   "metadata": {},
   "outputs": [],
   "source": [
    "import os\n",
    "import time\n",
    "import shutil\n",
    "import pickle\n",
    "\n",
    "import torch\n",
    "import torch.nn.functional as F\n",
    "\n",
    "from tqdm import tqdm\n",
    "from torch.optim.lr_scheduler import ReduceLROnPlateau\n",
    "# from tensorboard_logger import configure, log_value\n",
    "\n",
    "from model import RecurrentAttention\n",
    "from utils import AverageMeter\n",
    "\n",
    "from torchvision import transforms, utils, models\n",
    "from PIL import Image\n",
    "\n",
    "import torch\n",
    "\n",
    "import utils\n",
    "import data_loader\n",
    "\n",
    "from trainer import Trainer\n",
    "from config import get_config\n",
    "\n",
    "import os\n",
    "os.environ[\"CUDA_DEVICE_ORDER\"] = \"PCI_BUS_ID\" \n",
    "os.environ[\"CUDA_VISIBLE_DEVICES\"] = \"2\"\n",
    "\n",
    "import pandas as pd\n",
    "\n",
    "import json"
   ]
  },
  {
   "cell_type": "code",
   "execution_count": 2,
   "id": "fa6b5a80",
   "metadata": {},
   "outputs": [],
   "source": [
    "def load_inputs(impath):\n",
    "    to_tens = transforms.ToTensor()\n",
    "    return to_tens(Image.open(impath).convert('RGB')).unsqueeze(0)"
   ]
  },
  {
   "cell_type": "code",
   "execution_count": 3,
   "id": "35500115",
   "metadata": {},
   "outputs": [],
   "source": [
    "# class miniConv(torch.nn.Module):\n",
    "#     def __init__(self, resnet):\n",
    "#         super().__init__()\n",
    "        \n",
    "#         self.conv1 = resnet.conv1\n",
    "#         self.bn1 = resnet.bn1\n",
    "#         self.relu = resnet.relu\n",
    "#         self.maxpool = resnet.maxpool\n",
    "#         self.layer1 = resnet.layer1\n",
    "#         self.adp_pool = torch.nn.AdaptiveAvgPool2d((1,1))\n",
    "        \n",
    "#     def forward(self, x):\n",
    "        \n",
    "#         x = self.conv1(x)\n",
    "#         x = self.bn1(x)\n",
    "#         x = self.maxpool(x)\n",
    "#         x = self.layer1(x)\n",
    "#         x = self.adp_pool(x)\n",
    "#         x = x.flatten(start_dim = 1)\n",
    "#         return x\n",
    "        "
   ]
  },
  {
   "cell_type": "code",
   "execution_count": 4,
   "id": "5725bb30",
   "metadata": {},
   "outputs": [],
   "source": [
    "# model = miniConv(resnet = torchvision.models.resnet18())\n",
    "# test = torch.rand(1,3, 256, 256)\n",
    "# model(test).shape"
   ]
  },
  {
   "cell_type": "code",
   "execution_count": 5,
   "id": "27b4291f",
   "metadata": {},
   "outputs": [],
   "source": [
    "# import torchvision\n",
    "\n",
    "# torchvision.models.resnet18()"
   ]
  },
  {
   "cell_type": "code",
   "execution_count": 6,
   "id": "833cc760",
   "metadata": {},
   "outputs": [],
   "source": [
    "# type(mig_data)"
   ]
  },
  {
   "cell_type": "code",
   "execution_count": 7,
   "id": "88343673",
   "metadata": {},
   "outputs": [
    {
     "data": {
      "text/html": [
       "<div>\n",
       "<style scoped>\n",
       "    .dataframe tbody tr th:only-of-type {\n",
       "        vertical-align: middle;\n",
       "    }\n",
       "\n",
       "    .dataframe tbody tr th {\n",
       "        vertical-align: top;\n",
       "    }\n",
       "\n",
       "    .dataframe thead th {\n",
       "        text-align: right;\n",
       "    }\n",
       "</style>\n",
       "<table border=\"1\" class=\"dataframe\">\n",
       "  <thead>\n",
       "    <tr style=\"text-align: right;\">\n",
       "      <th></th>\n",
       "      <th>muni_id</th>\n",
       "      <th>num_migrants</th>\n",
       "      <th>class</th>\n",
       "    </tr>\n",
       "  </thead>\n",
       "  <tbody>\n",
       "    <tr>\n",
       "      <th>0</th>\n",
       "      <td>484001001</td>\n",
       "      <td>42055.0</td>\n",
       "      <td>1</td>\n",
       "    </tr>\n",
       "    <tr>\n",
       "      <th>1</th>\n",
       "      <td>484001002</td>\n",
       "      <td>4017.0</td>\n",
       "      <td>1</td>\n",
       "    </tr>\n",
       "    <tr>\n",
       "      <th>2</th>\n",
       "      <td>484001003</td>\n",
       "      <td>11992.0</td>\n",
       "      <td>1</td>\n",
       "    </tr>\n",
       "    <tr>\n",
       "      <th>3</th>\n",
       "      <td>484001004</td>\n",
       "      <td>762.0</td>\n",
       "      <td>1</td>\n",
       "    </tr>\n",
       "    <tr>\n",
       "      <th>4</th>\n",
       "      <td>484001005</td>\n",
       "      <td>7551.0</td>\n",
       "      <td>1</td>\n",
       "    </tr>\n",
       "    <tr>\n",
       "      <th>...</th>\n",
       "      <td>...</td>\n",
       "      <td>...</td>\n",
       "      <td>...</td>\n",
       "    </tr>\n",
       "    <tr>\n",
       "      <th>2326</th>\n",
       "      <td>484032049</td>\n",
       "      <td>2487.0</td>\n",
       "      <td>1</td>\n",
       "    </tr>\n",
       "    <tr>\n",
       "      <th>2327</th>\n",
       "      <td>484032050</td>\n",
       "      <td>2024.0</td>\n",
       "      <td>1</td>\n",
       "    </tr>\n",
       "    <tr>\n",
       "      <th>2328</th>\n",
       "      <td>484032051</td>\n",
       "      <td>3084.0</td>\n",
       "      <td>1</td>\n",
       "    </tr>\n",
       "    <tr>\n",
       "      <th>2329</th>\n",
       "      <td>484032052</td>\n",
       "      <td>2919.0</td>\n",
       "      <td>1</td>\n",
       "    </tr>\n",
       "    <tr>\n",
       "      <th>2330</th>\n",
       "      <td>484032053</td>\n",
       "      <td>2119.0</td>\n",
       "      <td>1</td>\n",
       "    </tr>\n",
       "  </tbody>\n",
       "</table>\n",
       "<p>2331 rows × 3 columns</p>\n",
       "</div>"
      ],
      "text/plain": [
       "        muni_id  num_migrants class\n",
       "0     484001001       42055.0     1\n",
       "1     484001002        4017.0     1\n",
       "2     484001003       11992.0     1\n",
       "3     484001004         762.0     1\n",
       "4     484001005        7551.0     1\n",
       "...         ...           ...   ...\n",
       "2326  484032049        2487.0     1\n",
       "2327  484032050        2024.0     1\n",
       "2328  484032051        3084.0     1\n",
       "2329  484032052        2919.0     1\n",
       "2330  484032053        2119.0     1\n",
       "\n",
       "[2331 rows x 3 columns]"
      ]
     },
     "execution_count": 7,
     "metadata": {},
     "output_type": "execute_result"
    }
   ],
   "source": [
    "m = open(\"../../pooling/data/migration_data.json\",)\n",
    "mig_data = json.load(m)\n",
    "m.close()\n",
    "mig_data = pd.DataFrame.from_dict(mig_data, orient = 'index').reset_index()\n",
    "mig_data.columns = ['muni_id', 'num_migrants']\n",
    "q = 2\n",
    "mig_data['class'] = pd.qcut(mig_data['num_migrants'], q = q, labels = [i for i in range(q)])\n",
    "mig_data"
   ]
  },
  {
   "cell_type": "code",
   "execution_count": 8,
   "id": "0fed9669",
   "metadata": {},
   "outputs": [
    {
     "data": {
      "text/plain": [
       "0    1166\n",
       "1    1165\n",
       "Name: class, dtype: int64"
      ]
     },
     "execution_count": 8,
     "metadata": {},
     "output_type": "execute_result"
    }
   ],
   "source": [
    "mig_data['class'].value_counts()"
   ]
  },
  {
   "cell_type": "code",
   "execution_count": 9,
   "id": "ea9dafa4",
   "metadata": {},
   "outputs": [],
   "source": [
    "def get_png_names(directory):\n",
    "    images = []\n",
    "    for i in os.listdir(directory):\n",
    "        try:\n",
    "            if os.path.isdir(os.path.join(directory, i)):\n",
    "                new_path = os.path.join(directory, i, \"pngs\")\n",
    "                image = os.listdir(new_path)[0]\n",
    "                images.append(os.path.join(directory, i, \"pngs\", image))\n",
    "        except:\n",
    "            pass\n",
    "    return images\n",
    "\n",
    "\n",
    "            \n",
    "\n",
    "image_names = get_png_names(\"../../pooling/data/MEX/\")\n",
    "\n",
    "ys = []\n",
    "for i in image_names:\n",
    "        dta = mig_data[mig_data[\"muni_id\"] == i.split(\"/\")[5]]\n",
    "        if len(dta) != 0:\n",
    "            ys.append(dta['class'].values[0])"
   ]
  },
  {
   "cell_type": "code",
   "execution_count": 10,
   "id": "58ad67c2",
   "metadata": {},
   "outputs": [],
   "source": [
    "import random\n",
    "\n",
    "# train_num = int(25 * .70)\n",
    "\n",
    "# train_indices = random.sample(range(0, 25), train_num)\n",
    "# val_indices = [i for i in range(0, 25) if i not in train_indices]\n",
    "\n",
    "\n",
    "\n",
    "import random\n",
    "\n",
    "train_num = int(len(image_names) * .70)\n",
    "\n",
    "train_indices = random.sample(range(0, len(image_names)), train_num)\n",
    "val_indices = [i for i in range(0, len(image_names)) if i not in train_indices]"
   ]
  },
  {
   "cell_type": "code",
   "execution_count": 11,
   "id": "280bd440",
   "metadata": {},
   "outputs": [],
   "source": [
    "# val_indices"
   ]
  },
  {
   "cell_type": "code",
   "execution_count": 12,
   "id": "50d907cd",
   "metadata": {},
   "outputs": [],
   "source": [
    "import torchvision\n",
    "\n",
    "batch_size = 1\n",
    "\n",
    "# train = [(load_inputs(image_paths[i]).squeeze()[:, 0:28, 0:28], ys[i]) for i in range(0, 93)]\n",
    "# val = [(load_inputs(image_paths[i]).squeeze()[:, 0:28, 0:28], ys[i]) for i in range(93, 133)]\n",
    "\n",
    "# brighten = torchvision.transforms.functional.adjust_brightness(brightness_factor = 2)\n",
    "\n",
    "\n",
    "train = [(torchvision.transforms.functional.adjust_brightness(load_inputs(image_names[i]), brightness_factor = 2).squeeze(), ys[i]) for i in train_indices]\n",
    "val = [(torchvision.transforms.functional.adjust_brightness(load_inputs(image_names[i]), brightness_factor = 2).squeeze(), ys[i]) for i in val_indices]\n",
    "\n",
    "\n",
    "train_dl = torch.utils.data.DataLoader(train, batch_size = batch_size, shuffle = True)\n",
    "val_dl = torch.utils.data.DataLoader(val, batch_size = batch_size, shuffle = True)"
   ]
  },
  {
   "cell_type": "code",
   "execution_count": 13,
   "id": "067f03f9",
   "metadata": {},
   "outputs": [
    {
     "name": "stdout",
     "output_type": "stream",
     "text": [
      "Num training:  1204\n",
      "Num validation:  517\n"
     ]
    }
   ],
   "source": [
    "print(\"Num training: \", len(train_dl))\n",
    "print(\"Num validation: \", len(val_dl))"
   ]
  },
  {
   "cell_type": "code",
   "execution_count": 14,
   "id": "07ec3fdf",
   "metadata": {},
   "outputs": [],
   "source": [
    "import numpy as np\n",
    "from utils import plot_images\n",
    "\n",
    "import torch\n",
    "from torchvision import datasets\n",
    "from torchvision import transforms\n",
    "from torch.utils.data.sampler import SubsetRandomSampler"
   ]
  },
  {
   "cell_type": "code",
   "execution_count": 15,
   "id": "a652a5c7",
   "metadata": {},
   "outputs": [],
   "source": [
    "config, unparsed = get_config()"
   ]
  },
  {
   "cell_type": "code",
   "execution_count": 16,
   "id": "497f2834",
   "metadata": {},
   "outputs": [],
   "source": [
    "trainer = Trainer(config, (train_dl, val_dl))"
   ]
  },
  {
   "cell_type": "code",
   "execution_count": 17,
   "id": "fe5b1eef",
   "metadata": {},
   "outputs": [],
   "source": [
    "# test = torch.rand(1,3,50,50)\n",
    "# test = test.view(test.shape[0], -1)\n",
    "# test.shape"
   ]
  },
  {
   "cell_type": "code",
   "execution_count": null,
   "id": "96711924",
   "metadata": {},
   "outputs": [],
   "source": []
  },
  {
   "cell_type": "code",
   "execution_count": null,
   "id": "6a63e500",
   "metadata": {},
   "outputs": [
    {
     "name": "stderr",
     "output_type": "stream",
     "text": [
      "0.2s - loss: 1.522 - acc: 100.000:   2%|▏         | 2/93 [00:00<00:05, 17.39it/s]"
     ]
    },
    {
     "name": "stdout",
     "output_type": "stream",
     "text": [
      "\n",
      "[*] Train on 93 samples, validate on 40 samples\n",
      "\n",
      "Epoch: 1/200 - LR: 0.000300\n"
     ]
    },
    {
     "name": "stderr",
     "output_type": "stream",
     "text": [
      "57.2s - loss: 1.073 - acc: 100.000: : 1204it [00:57, 21.05it/s]                   \n"
     ]
    },
    {
     "name": "stdout",
     "output_type": "stream",
     "text": [
      "train loss: 1.041 - train acc: 51.163 - val loss: 0.971 - val acc: 49.516 - val err: 50.484 [*]\n"
     ]
    },
    {
     "name": "stderr",
     "output_type": "stream",
     "text": [
      "0.2s - loss: 0.925 - acc: 0.000:   3%|▎         | 3/93 [00:00<00:05, 16.38it/s]"
     ]
    },
    {
     "name": "stdout",
     "output_type": "stream",
     "text": [
      "\n",
      "Epoch: 2/200 - LR: 0.000300\n"
     ]
    },
    {
     "name": "stderr",
     "output_type": "stream",
     "text": [
      "54.7s - loss: 1.111 - acc: 100.000: : 1204it [00:54, 22.00it/s]                   \n"
     ]
    },
    {
     "name": "stdout",
     "output_type": "stream",
     "text": [
      "train loss: 0.991 - train acc: 51.744 - val loss: 1.002 - val acc: 52.031 - val err: 47.969 [*]\n"
     ]
    },
    {
     "name": "stderr",
     "output_type": "stream",
     "text": [
      "0.1s - loss: 0.962 - acc: 0.000:   0%|          | 0/93 [00:00<?, ?it/s]"
     ]
    },
    {
     "name": "stdout",
     "output_type": "stream",
     "text": [
      "\n",
      "Epoch: 3/200 - LR: 0.000300\n"
     ]
    },
    {
     "name": "stderr",
     "output_type": "stream",
     "text": [
      "55.9s - loss: 0.964 - acc: 0.000: : 1204it [00:55, 21.55it/s]                     \n"
     ]
    },
    {
     "name": "stdout",
     "output_type": "stream",
     "text": [
      "train loss: 0.973 - train acc: 57.060 - val loss: 0.952 - val acc: 65.957 - val err: 34.043 [*]\n"
     ]
    },
    {
     "name": "stderr",
     "output_type": "stream",
     "text": [
      "0.2s - loss: 0.880 - acc: 100.000:   2%|▏         | 2/93 [00:00<00:08, 10.68it/s]"
     ]
    },
    {
     "name": "stdout",
     "output_type": "stream",
     "text": [
      "\n",
      "Epoch: 4/200 - LR: 0.000300\n"
     ]
    },
    {
     "name": "stderr",
     "output_type": "stream",
     "text": [
      "55.6s - loss: 0.808 - acc: 100.000: : 1204it [00:55, 21.64it/s]                   \n"
     ]
    },
    {
     "name": "stdout",
     "output_type": "stream",
     "text": [
      "train loss: 0.929 - train acc: 62.791 - val loss: 0.909 - val acc: 67.118 - val err: 32.882 [*]\n"
     ]
    },
    {
     "name": "stderr",
     "output_type": "stream",
     "text": [
      "0.1s - loss: 1.114 - acc: 0.000:   0%|          | 0/93 [00:00<?, ?it/s]"
     ]
    },
    {
     "name": "stdout",
     "output_type": "stream",
     "text": [
      "\n",
      "Epoch: 5/200 - LR: 0.000300\n"
     ]
    },
    {
     "name": "stderr",
     "output_type": "stream",
     "text": [
      "55.8s - loss: 0.708 - acc: 100.000: : 1204it [00:55, 21.58it/s]                   \n",
      "0.0s - loss: 0.733 - acc: 100.000:   0%|          | 0/93 [00:00<?, ?it/s]"
     ]
    },
    {
     "name": "stdout",
     "output_type": "stream",
     "text": [
      "train loss: 0.915 - train acc: 63.953 - val loss: 0.911 - val acc: 66.151 - val err: 33.849\n",
      "\n",
      "Epoch: 6/200 - LR: 0.000300\n"
     ]
    },
    {
     "name": "stderr",
     "output_type": "stream",
     "text": [
      "54.6s - loss: 0.970 - acc: 100.000: : 1204it [00:54, 22.05it/s]                   \n"
     ]
    },
    {
     "name": "stdout",
     "output_type": "stream",
     "text": [
      "train loss: 0.914 - train acc: 62.542 - val loss: 0.915 - val acc: 67.311 - val err: 32.689 [*]\n"
     ]
    },
    {
     "name": "stderr",
     "output_type": "stream",
     "text": [
      "0.2s - loss: 0.751 - acc: 100.000:   2%|▏         | 2/93 [00:00<00:05, 17.08it/s]"
     ]
    },
    {
     "name": "stdout",
     "output_type": "stream",
     "text": [
      "\n",
      "Epoch: 7/200 - LR: 0.000300\n"
     ]
    },
    {
     "name": "stderr",
     "output_type": "stream",
     "text": [
      "54.7s - loss: 0.797 - acc: 100.000: : 1204it [00:54, 22.02it/s]                   \n",
      "0.0s - loss: 0.723 - acc: 100.000:   0%|          | 0/93 [00:00<?, ?it/s]"
     ]
    },
    {
     "name": "stdout",
     "output_type": "stream",
     "text": [
      "train loss: 0.884 - train acc: 65.033 - val loss: 0.892 - val acc: 67.311 - val err: 32.689\n",
      "\n",
      "Epoch: 8/200 - LR: 0.000300\n"
     ]
    },
    {
     "name": "stderr",
     "output_type": "stream",
     "text": [
      "55.1s - loss: 0.563 - acc: 100.000: : 1204it [00:55, 21.87it/s]                   \n"
     ]
    },
    {
     "name": "stdout",
     "output_type": "stream",
     "text": [
      "train loss: 0.875 - train acc: 66.113 - val loss: 0.835 - val acc: 68.279 - val err: 31.721 [*]\n"
     ]
    },
    {
     "name": "stderr",
     "output_type": "stream",
     "text": [
      "0.2s - loss: 0.421 - acc: 100.000:   2%|▏         | 2/93 [00:00<00:05, 15.25it/s]"
     ]
    },
    {
     "name": "stdout",
     "output_type": "stream",
     "text": [
      "\n",
      "Epoch: 9/200 - LR: 0.000300\n"
     ]
    },
    {
     "name": "stderr",
     "output_type": "stream",
     "text": [
      "54.8s - loss: 1.995 - acc: 0.000: : 1204it [00:54, 21.96it/s]                     \n",
      "0.0s - loss: 0.848 - acc: 100.000:   0%|          | 0/93 [00:00<?, ?it/s]"
     ]
    },
    {
     "name": "stdout",
     "output_type": "stream",
     "text": [
      "train loss: 0.880 - train acc: 64.120 - val loss: 0.872 - val acc: 65.571 - val err: 34.429\n",
      "\n",
      "Epoch: 10/200 - LR: 0.000300\n"
     ]
    },
    {
     "name": "stderr",
     "output_type": "stream",
     "text": [
      "56.0s - loss: 0.347 - acc: 100.000: : 1204it [00:56, 21.50it/s]                   \n"
     ]
    },
    {
     "name": "stdout",
     "output_type": "stream",
     "text": [
      "train loss: 0.873 - train acc: 65.033 - val loss: 0.835 - val acc: 70.600 - val err: 29.400 [*]\n"
     ]
    },
    {
     "name": "stderr",
     "output_type": "stream",
     "text": [
      "0.0s - loss: 0.616 - acc: 100.000:   0%|          | 0/93 [00:00<?, ?it/s]"
     ]
    },
    {
     "name": "stdout",
     "output_type": "stream",
     "text": [
      "\n",
      "Epoch: 11/200 - LR: 0.000300\n"
     ]
    },
    {
     "name": "stderr",
     "output_type": "stream",
     "text": [
      "55.3s - loss: 5.139 - acc: 0.000: : 1204it [00:55, 21.76it/s]                     \n",
      "0.0s - loss: 0.569 - acc: 100.000:   0%|          | 0/93 [00:00<?, ?it/s]"
     ]
    },
    {
     "name": "stdout",
     "output_type": "stream",
     "text": [
      "train loss: 0.878 - train acc: 64.950 - val loss: 0.910 - val acc: 68.665 - val err: 31.335\n",
      "\n",
      "Epoch: 12/200 - LR: 0.000300\n"
     ]
    },
    {
     "name": "stderr",
     "output_type": "stream",
     "text": [
      "54.3s - loss: 1.124 - acc: 0.000: : 1204it [00:54, 22.19it/s]                     \n",
      "0.1s - loss: 0.577 - acc: 100.000:   0%|          | 0/93 [00:00<?, ?it/s]"
     ]
    },
    {
     "name": "stdout",
     "output_type": "stream",
     "text": [
      "train loss: 0.862 - train acc: 66.528 - val loss: 0.855 - val acc: 69.052 - val err: 30.948\n",
      "\n",
      "Epoch: 13/200 - LR: 0.000300\n"
     ]
    },
    {
     "name": "stderr",
     "output_type": "stream",
     "text": [
      "54.6s - loss: 0.815 - acc: 100.000: : 1204it [00:54, 22.06it/s]                   \n",
      "0.0s - loss: 0.805 - acc: 100.000:   0%|          | 0/93 [00:00<?, ?it/s]"
     ]
    },
    {
     "name": "stdout",
     "output_type": "stream",
     "text": [
      "train loss: 0.879 - train acc: 64.452 - val loss: 0.954 - val acc: 47.969 - val err: 52.031\n",
      "\n",
      "Epoch: 14/200 - LR: 0.000300\n"
     ]
    },
    {
     "name": "stderr",
     "output_type": "stream",
     "text": [
      "54.2s - loss: 1.032 - acc: 100.000: : 1204it [00:54, 22.23it/s]                   \n",
      "0.1s - loss: 1.008 - acc: 100.000:   0%|          | 0/93 [00:00<?, ?it/s]"
     ]
    },
    {
     "name": "stdout",
     "output_type": "stream",
     "text": [
      "train loss: 0.948 - train acc: 48.007 - val loss: 0.948 - val acc: 52.031 - val err: 47.969\n",
      "\n",
      "Epoch: 15/200 - LR: 0.000300\n"
     ]
    },
    {
     "name": "stderr",
     "output_type": "stream",
     "text": [
      "54.7s - loss: 0.968 - acc: 100.000: : 1204it [00:54, 22.03it/s]                   \n",
      "0.0s - loss: 0.950 - acc: 100.000:   0%|          | 0/93 [00:00<?, ?it/s]"
     ]
    },
    {
     "name": "stdout",
     "output_type": "stream",
     "text": [
      "train loss: 0.943 - train acc: 51.661 - val loss: 0.937 - val acc: 52.031 - val err: 47.969\n",
      "\n",
      "Epoch: 16/200 - LR: 0.000300\n"
     ]
    },
    {
     "name": "stderr",
     "output_type": "stream",
     "text": [
      "54.9s - loss: 0.992 - acc: 100.000: : 1204it [00:54, 21.93it/s]                   \n",
      "0.1s - loss: 1.009 - acc: 100.000:   0%|          | 0/93 [00:00<?, ?it/s]"
     ]
    },
    {
     "name": "stdout",
     "output_type": "stream",
     "text": [
      "train loss: 0.939 - train acc: 54.817 - val loss: 0.899 - val acc: 60.155 - val err: 39.845\n",
      "\n",
      "Epoch: 17/200 - LR: 0.000300\n"
     ]
    },
    {
     "name": "stderr",
     "output_type": "stream",
     "text": [
      "55.4s - loss: 0.581 - acc: 100.000: : 1204it [00:55, 21.72it/s]                   \n",
      "0.1s - loss: 0.264 - acc: 100.000:   1%|          | 1/93 [00:00<00:08, 10.49it/s]"
     ]
    },
    {
     "name": "stdout",
     "output_type": "stream",
     "text": [
      "train loss: 0.906 - train acc: 61.296 - val loss: 0.852 - val acc: 66.925 - val err: 33.075\n",
      "\n",
      "Epoch: 18/200 - LR: 0.000300\n"
     ]
    },
    {
     "name": "stderr",
     "output_type": "stream",
     "text": [
      "55.2s - loss: 0.773 - acc: 100.000: : 1204it [00:55, 21.83it/s]                   \n",
      "0.1s - loss: 0.874 - acc: 100.000:   0%|          | 0/93 [00:00<?, ?it/s]"
     ]
    },
    {
     "name": "stdout",
     "output_type": "stream",
     "text": [
      "train loss: 0.878 - train acc: 64.701 - val loss: 0.896 - val acc: 63.250 - val err: 36.750\n",
      "\n",
      "Epoch: 19/200 - LR: 0.000300\n"
     ]
    },
    {
     "name": "stderr",
     "output_type": "stream",
     "text": [
      "55.4s - loss: 0.206 - acc: 100.000: : 1204it [00:55, 21.72it/s]                   \n",
      "0.1s - loss: 1.173 - acc: 0.000:   0%|          | 0/93 [00:00<?, ?it/s]"
     ]
    },
    {
     "name": "stdout",
     "output_type": "stream",
     "text": [
      "train loss: 0.886 - train acc: 63.206 - val loss: 0.872 - val acc: 65.377 - val err: 34.623\n",
      "\n",
      "Epoch: 20/200 - LR: 0.000300\n"
     ]
    },
    {
     "name": "stderr",
     "output_type": "stream",
     "text": [
      "55.9s - loss: 2.787 - acc: 0.000: : 1204it [00:55, 21.54it/s]                     \n",
      "0.1s - loss: 0.848 - acc: 100.000:   0%|          | 0/93 [00:00<?, ?it/s]"
     ]
    },
    {
     "name": "stdout",
     "output_type": "stream",
     "text": [
      "train loss: 0.865 - train acc: 65.532 - val loss: 0.854 - val acc: 67.698 - val err: 32.302\n",
      "\n",
      "Epoch: 21/200 - LR: 0.000300\n"
     ]
    },
    {
     "name": "stderr",
     "output_type": "stream",
     "text": [
      "24.4s - loss: 1.378 - acc: 0.000: : 521it [00:24, 22.22it/s]                      "
     ]
    }
   ],
   "source": [
    "trainer.train()"
   ]
  },
  {
   "cell_type": "code",
   "execution_count": null,
   "id": "83169931",
   "metadata": {},
   "outputs": [],
   "source": [
    "un = []\n",
    "\n",
    "for i,o in val_dl:\n",
    "    if o not in un:\n",
    "        un.append(o)\n",
    "        \n",
    "un"
   ]
  },
  {
   "cell_type": "code",
   "execution_count": 31,
   "id": "73f70234",
   "metadata": {},
   "outputs": [],
   "source": [
    "trues, preds = [], []\n",
    "\n",
    "for i,o in train_dl:\n",
    "    trues.append(o.item())\n",
    "    preds.append(trainer.predict(1, i, o))"
   ]
  },
  {
   "cell_type": "code",
   "execution_count": 32,
   "id": "8663ceb3",
   "metadata": {},
   "outputs": [],
   "source": [
    "from sklearn.metrics import confusion_matrix, accuracy_score"
   ]
  },
  {
   "cell_type": "code",
   "execution_count": 33,
   "id": "dd6bbbee",
   "metadata": {},
   "outputs": [
    {
     "data": {
      "text/plain": [
       "array([[263, 363],\n",
       "       [158, 420]])"
      ]
     },
     "execution_count": 33,
     "metadata": {},
     "output_type": "execute_result"
    }
   ],
   "source": [
    "confusion_matrix(trues, preds)"
   ]
  },
  {
   "cell_type": "code",
   "execution_count": 34,
   "id": "7d374d97",
   "metadata": {},
   "outputs": [
    {
     "data": {
      "text/plain": [
       "0.5672757475083057"
      ]
     },
     "execution_count": 34,
     "metadata": {},
     "output_type": "execute_result"
    }
   ],
   "source": [
    "accuracy_score(trues, preds)"
   ]
  },
  {
   "cell_type": "code",
   "execution_count": 1,
   "id": "9443ac33",
   "metadata": {},
   "outputs": [],
   "source": [
    "import pickle\n",
    "import argparse\n",
    "import numpy as np\n",
    "import matplotlib.pyplot as plt\n",
    "import matplotlib.animation as animation\n",
    "\n",
    "from utils import denormalize, bounding_box\n",
    "\n",
    "def denormalize(T, coords):\n",
    "    return 0.5 * ((coords + 1.0) * T)"
   ]
  },
  {
   "cell_type": "code",
   "execution_count": 6,
   "id": "fa0463a7",
   "metadata": {},
   "outputs": [],
   "source": [
    "def plot(plot_dir, epoch):\n",
    "    # read in pickle files\n",
    "    glimpses = pickle.load(open(plot_dir + \"g_{}.p\".format(epoch), \"rb\"))\n",
    "    locations = pickle.load(open(plot_dir + \"l_{}.p\".format(epoch), \"rb\"))\n",
    "    \n",
    "    from ipdb import set_trace\n",
    "\n",
    "    glimpses = np.concatenate(glimpses)\n",
    "    glimpses = np.expand_dims(glimpses, axis = 0)\n",
    "    \n",
    "    print(glimpses.shape)\n",
    "    \n",
    "    # grab useful params\n",
    "    size = int(plot_dir.split(\"_\")[2].split(\"x\")[0])\n",
    "    \n",
    "#     size = int(min(H, W) / (6 * 2))\n",
    "    \n",
    "    size = int(min(glimpses.shape[2], glimpses.shape[3]) / (6 * 2))\n",
    "    \n",
    "    num_anims = len(locations)\n",
    "    num_cols = glimpses.shape[0]\n",
    "    img_shape = glimpses.shape[2]\n",
    "    \n",
    "    # denormalize coordinates\n",
    "    coords = [denormalize(img_shape, l) for l in locations]\n",
    "    \n",
    "#     print(coords)\n",
    "    \n",
    "    if num_cols == 1:\n",
    "        \n",
    "        fig = plt.figure()\n",
    "        ax = fig.add_subplot(1, 1, 1)\n",
    "\n",
    "        \n",
    "        plt.imshow(np.transpose(glimpses[0], (1,2,0)), cmap=\"Greys_r\")\n",
    "#         plt.get_xaxis().set_visible(False)\n",
    "#         plt.get_yaxis().set_visible(False)   \n",
    "        \n",
    "        def updateData(i):\n",
    "            color = \"r\"\n",
    "            co = coords[i]\n",
    "            for p in ax.patches:\n",
    "                p.remove()\n",
    "            c = co[0]\n",
    "            rect = bounding_box(c[0], c[1], size, color)\n",
    "            ax.add_patch(rect)\n",
    "        \n",
    "        # animate\n",
    "        anim = animation.FuncAnimation(\n",
    "            fig, updateData, frames = num_anims, interval=500, repeat=True\n",
    "        )\n",
    "\n",
    "        # save as mp4\n",
    "        name = plot_dir + \"epoch_{}.mp4\".format(epoch)\n",
    "        anim.save(name, extra_args=[\"-vcodec\", \"h264\", \"-pix_fmt\", \"yuv420p\"])        \n",
    "        \n",
    "    else:\n",
    "    \n",
    "        print(np.array(coords))\n",
    "\n",
    "        fig, axs = plt.subplots(nrows=1, ncols=num_cols)\n",
    "        # fig.set_dpi(100)\n",
    "\n",
    "        # plot base image\n",
    "        for j, ax in enumerate(axs.flat):\n",
    "            print(glimpses[j].shape)\n",
    "            ax.imshow(np.transpose(glimpses[j], (1,2,0)), cmap=\"Greys_r\")\n",
    "            ax.get_xaxis().set_visible(False)\n",
    "            ax.get_yaxis().set_visible(False)\n",
    "\n",
    "        def updateData(i):\n",
    "            color = \"r\"\n",
    "            co = coords[i]\n",
    "            for j, ax in enumerate(axs.flat):\n",
    "                for p in ax.patches:\n",
    "                    p.remove()\n",
    "                c = co[j]\n",
    "                rect = bounding_box(c[0], c[1], size, color)\n",
    "                ax.add_patch(rect)\n",
    "\n",
    "        # animate\n",
    "        anim = animation.FuncAnimation(\n",
    "            fig, updateData, frames = num_anims, interval = 500, repeat = True\n",
    "        )\n",
    "\n",
    "        # save as mp4\n",
    "        name = plot_dir + \"epoch_{}.mp4\".format(epoch)\n",
    "        anim.save(name, extra_args=[\"-vcodec\", \"h264\", \"-pix_fmt\", \"yuv420p\"])\n"
   ]
  },
  {
   "cell_type": "code",
   "execution_count": 7,
   "id": "f44b9842",
   "metadata": {},
   "outputs": [
    {
     "name": "stdout",
     "output_type": "stream",
     "text": [
      "(1, 3, 1092, 1368)\n"
     ]
    },
    {
     "data": {
      "image/png": "[encoded data removed]",
      "text/plain": [
       "<Figure size 432x288 with 1 Axes>"
      ]
     },
     "metadata": {
      "needs_background": "light"
     },
     "output_type": "display_data"
    }
   ],
   "source": [
    "plot(\"./plots/ram_6_50x50_1/\", 10)"
   ]
  },
  {
   "cell_type": "code",
   "execution_count": null,
   "id": "d59a4452",
   "metadata": {},
   "outputs": [],
   "source": []
  }
 ],
 "metadata": {
  "kernelspec": {
   "display_name": "Python 3",
   "language": "python",
   "name": "python3"
  },
  "language_info": {
   "codemirror_mode": {
    "name": "ipython",
    "version": 3
   },
   "file_extension": ".py",
   "mimetype": "text/x-python",
   "name": "python",
   "nbconvert_exporter": "python",
   "pygments_lexer": "ipython3",
   "version": "3.7.10"
  }
 },
 "nbformat": 4,
 "nbformat_minor": 5
}
