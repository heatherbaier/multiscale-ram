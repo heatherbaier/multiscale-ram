{
 "cells": [
  {
   "cell_type": "code",
   "execution_count": 1,
   "id": "43704836",
   "metadata": {},
   "outputs": [],
   "source": [
    "from torch.utils.data.sampler import SubsetRandomSampler\n",
    "from torch.optim.lr_scheduler import ReduceLROnPlateau\n",
    "from tensorboard_logger import configure, log_value\n",
    "from model import RecurrentAttention\n",
    "from torchvision import transforms\n",
    "from torchvision import datasets\n",
    "import torch.nn.functional as F\n",
    "import matplotlib.pyplot as plt\n",
    "from utils import AverageMeter\n",
    "from config import get_config\n",
    "from utils import plot_images\n",
    "from trainer import Trainer\n",
    "from tqdm import tqdm\n",
    "import pandas as pd\n",
    "import torchvision\n",
    "import numpy as np\n",
    "import random\n",
    "import pickle\n",
    "import shutil\n",
    "import torch\n",
    "import time\n",
    "\n",
    "import os\n",
    "os.environ[\"CUDA_DEVICE_ORDER\"] = \"PCI_BUS_ID\" \n",
    "os.environ[\"CUDA_VISIBLE_DEVICES\"] = \"3\"\n",
    "\n",
    "from utils import *"
   ]
  },
  {
   "cell_type": "code",
   "execution_count": 2,
   "id": "5efa0731",
   "metadata": {},
   "outputs": [
    {
     "data": {
      "text/html": [
       "<div>\n",
       "<style scoped>\n",
       "    .dataframe tbody tr th:only-of-type {\n",
       "        vertical-align: middle;\n",
       "    }\n",
       "\n",
       "    .dataframe tbody tr th {\n",
       "        vertical-align: top;\n",
       "    }\n",
       "\n",
       "    .dataframe thead th {\n",
       "        text-align: right;\n",
       "    }\n",
       "</style>\n",
       "<table border=\"1\" class=\"dataframe\">\n",
       "  <thead>\n",
       "    <tr style=\"text-align: right;\">\n",
       "      <th></th>\n",
       "      <th>muni_id</th>\n",
       "      <th>num_migrants</th>\n",
       "      <th>class</th>\n",
       "    </tr>\n",
       "  </thead>\n",
       "  <tbody>\n",
       "    <tr>\n",
       "      <th>0</th>\n",
       "      <td>484001001</td>\n",
       "      <td>42055.0</td>\n",
       "      <td>3</td>\n",
       "    </tr>\n",
       "    <tr>\n",
       "      <th>1</th>\n",
       "      <td>484001002</td>\n",
       "      <td>4017.0</td>\n",
       "      <td>3</td>\n",
       "    </tr>\n",
       "    <tr>\n",
       "      <th>2</th>\n",
       "      <td>484001003</td>\n",
       "      <td>11992.0</td>\n",
       "      <td>3</td>\n",
       "    </tr>\n",
       "    <tr>\n",
       "      <th>3</th>\n",
       "      <td>484001004</td>\n",
       "      <td>762.0</td>\n",
       "      <td>2</td>\n",
       "    </tr>\n",
       "    <tr>\n",
       "      <th>4</th>\n",
       "      <td>484001005</td>\n",
       "      <td>7551.0</td>\n",
       "      <td>3</td>\n",
       "    </tr>\n",
       "  </tbody>\n",
       "</table>\n",
       "</div>"
      ],
      "text/plain": [
       "     muni_id  num_migrants class\n",
       "0  484001001       42055.0     3\n",
       "1  484001002        4017.0     3\n",
       "2  484001003       11992.0     3\n",
       "3  484001004         762.0     2\n",
       "4  484001005        7551.0     3"
      ]
     },
     "execution_count": 2,
     "metadata": {},
     "output_type": "execute_result"
    }
   ],
   "source": [
    "q = 4\n",
    "with open(\"../../pooling/data/migration_data.json\") as m:\n",
    "    mig_data = json.load(m)\n",
    "m.close()\n",
    "mig_data = pd.DataFrame.from_dict(mig_data, orient = 'index').reset_index()\n",
    "mig_data.columns = ['muni_id', 'num_migrants']\n",
    "mig_data['class'] = pd.qcut(mig_data['num_migrants'], q = q, labels = [i for i in range(q)])\n",
    "mig_data.head()"
   ]
  },
  {
   "cell_type": "code",
   "execution_count": 3,
   "id": "36f4d34b",
   "metadata": {},
   "outputs": [],
   "source": [
    "image_names = get_png_names(\"../../attn/data/MEX/\")\n",
    "y_class, y_mig = get_ys(image_names, mig_data)\n",
    "\n",
    "with open(\"../val_images.txt\") as ims:\n",
    "    val_names = ims.read().splitlines()\n",
    "    \n",
    "train_names = [i for i in image_names if i not in val_names]\n",
    "\n",
    "val_indices = [image_names.index(i) for i in val_names]\n",
    "train_indices = [image_names.index(i) for i in train_names]\n",
    "train_num = int(len(train_indices))"
   ]
  },
  {
   "cell_type": "code",
   "execution_count": 4,
   "id": "ef544f49",
   "metadata": {},
   "outputs": [],
   "source": [
    "# train_indices = train_indices[0:25]\n",
    "# val_indices = val_indices[0:10]"
   ]
  },
  {
   "cell_type": "code",
   "execution_count": 5,
   "id": "ff6076a2",
   "metadata": {},
   "outputs": [],
   "source": [
    "# image_names[2].split(\"/\")[5]"
   ]
  },
  {
   "cell_type": "code",
   "execution_count": 6,
   "id": "bacaf4c8",
   "metadata": {},
   "outputs": [],
   "source": [
    "batch_size = 1\n",
    "train = [(torchvision.transforms.functional.adjust_brightness(load_inputs(image_names[i]), brightness_factor = 2).squeeze(), y_mig[i], image_names[i].split(\"/\")[5]) for i in train_indices]\n",
    "val = [(torchvision.transforms.functional.adjust_brightness(load_inputs(image_names[i]), brightness_factor = 2).squeeze(), y_mig[i], image_names[i].split(\"/\")[5]) for i in val_indices]\n",
    "train_dl = torch.utils.data.DataLoader(train, batch_size = batch_size, shuffle = True)\n",
    "val_dl = torch.utils.data.DataLoader(val, batch_size = batch_size, shuffle = True)"
   ]
  },
  {
   "cell_type": "code",
   "execution_count": 7,
   "id": "5febebfb",
   "metadata": {},
   "outputs": [
    {
     "name": "stdout",
     "output_type": "stream",
     "text": [
      "Num training:  1446\n",
      "Num validation:  620\n"
     ]
    }
   ],
   "source": [
    "print(\"Num training: \", len(train_dl))\n",
    "print(\"Num validation: \", len(val_dl))"
   ]
  },
  {
   "cell_type": "code",
   "execution_count": 8,
   "id": "96d7e7b0",
   "metadata": {},
   "outputs": [],
   "source": [
    "# mu = torch.tensor([[-0.0070, -0.0172]])\n",
    "# std = 0.4\n",
    "# torch.distributions.Normal(mu, std).mean"
   ]
  },
  {
   "cell_type": "code",
   "execution_count": 9,
   "id": "25842280",
   "metadata": {},
   "outputs": [],
   "source": [
    "# def get_dists(mu, std, n):\n",
    "#     return torch.cat([torch.distributions.Normal(mu, std).rsample() for i in range(n)]).numpy().tolist()\n",
    "\n",
    "# get_dists(mu, std, 5)    "
   ]
  },
  {
   "cell_type": "code",
   "execution_count": 10,
   "id": "96543e76",
   "metadata": {},
   "outputs": [],
   "source": [
    "# import json"
   ]
  },
  {
   "cell_type": "code",
   "execution_count": 11,
   "id": "ccba85b7",
   "metadata": {},
   "outputs": [],
   "source": [
    "# with open('test.json', \"r\") as f:\n",
    "#     cur = json.load(f)\n",
    "    \n",
    "# cur[k] = "
   ]
  },
  {
   "cell_type": "code",
   "execution_count": 12,
   "id": "4fc21e91",
   "metadata": {},
   "outputs": [],
   "source": [
    "# with open('test.json', \"w\") as f:\n",
    "#     json.dump({1: get_dists(mu, std, 5)}, f)"
   ]
  },
  {
   "cell_type": "code",
   "execution_count": 13,
   "id": "3e918079",
   "metadata": {},
   "outputs": [],
   "source": [
    "# torch.distributions.Normal(mu, std).rsample()"
   ]
  },
  {
   "cell_type": "code",
   "execution_count": 14,
   "id": "1ba8df7c",
   "metadata": {},
   "outputs": [],
   "source": [
    "# torch.distributions.Normal(mu, std).sample_n(5)"
   ]
  },
  {
   "cell_type": "code",
   "execution_count": null,
   "id": "5c149260",
   "metadata": {},
   "outputs": [
    {
     "name": "stderr",
     "output_type": "stream",
     "text": [
      "0.2s - loss: 795.167 - mae: 795.163:   0%|          | 2/1446 [00:00<01:54, 12.57it/s]"
     ]
    },
    {
     "name": "stdout",
     "output_type": "stream",
     "text": [
      "\n",
      "[*] Train on 1446 samples, validate on 620 samples\n",
      "\n",
      "Epoch: 1/200 - LR: 0.000300\n"
     ]
    },
    {
     "name": "stderr",
     "output_type": "stream",
     "text": [
      "481.0s - loss: 750.502 - mae: 727.010: 100%|██████████| 1446/1446 [08:00<00:00,  3.01it/s]    \n"
     ]
    },
    {
     "name": "stdout",
     "output_type": "stream",
     "text": [
      "train loss: 1874.693 - val loss: 1617.186- train mae: 1865.280 - val mae: 1601.236 [*]\n"
     ]
    },
    {
     "name": "stderr",
     "output_type": "stream",
     "text": [
      "0.2s - loss: 12701.476 - mae: 12694.146:   0%|          | 2/1446 [00:00<02:14, 10.72it/s]"
     ]
    },
    {
     "name": "stdout",
     "output_type": "stream",
     "text": [
      "\n",
      "Epoch: 2/200 - LR: 0.000300\n"
     ]
    },
    {
     "name": "stderr",
     "output_type": "stream",
     "text": [
      "464.6s - loss: 8032.611 - mae: 8031.382: 100%|██████████| 1446/1446 [07:44<00:00,  3.11it/s]  \n"
     ]
    },
    {
     "name": "stdout",
     "output_type": "stream",
     "text": [
      "train loss: 1828.865 - val loss: 1599.904- train mae: 1817.903 - val mae: 1591.957 [*]\n"
     ]
    },
    {
     "name": "stderr",
     "output_type": "stream",
     "text": [
      "0.2s - loss: 246.846 - mae: 246.624:   0%|          | 2/1446 [00:00<02:13, 10.82it/s]"
     ]
    },
    {
     "name": "stdout",
     "output_type": "stream",
     "text": [
      "\n",
      "Epoch: 3/200 - LR: 0.000300\n"
     ]
    },
    {
     "name": "stderr",
     "output_type": "stream",
     "text": [
      "465.3s - loss: 128.010 - mae: 127.433: 100%|██████████| 1446/1446 [07:45<00:00,  3.11it/s]    \n"
     ]
    },
    {
     "name": "stdout",
     "output_type": "stream",
     "text": [
      "train loss: 1804.795 - val loss: 1549.423- train mae: 1793.228 - val mae: 1538.661 [*]\n"
     ]
    },
    {
     "name": "stderr",
     "output_type": "stream",
     "text": [
      "0.2s - loss: 976.013 - mae: 964.861:   0%|          | 2/1446 [00:00<01:58, 12.17it/s]"
     ]
    },
    {
     "name": "stdout",
     "output_type": "stream",
     "text": [
      "\n",
      "Epoch: 4/200 - LR: 0.000300\n"
     ]
    },
    {
     "name": "stderr",
     "output_type": "stream",
     "text": [
      "481.3s - loss: 10022.066 - mae: 10020.075: 100%|██████████| 1446/1446 [08:01<00:00,  3.00it/s]\n",
      "  0%|          | 0/1446 [00:00<?, ?it/s]"
     ]
    },
    {
     "name": "stdout",
     "output_type": "stream",
     "text": [
      "train loss: 1812.736 - val loss: 1549.588- train mae: 1801.133 - val mae: 1541.552\n",
      "\n",
      "Epoch: 5/200 - LR: 0.000300\n"
     ]
    },
    {
     "name": "stderr",
     "output_type": "stream",
     "text": [
      "483.7s - loss: 1140.400 - mae: 1126.692: 100%|██████████| 1446/1446 [08:03<00:00,  2.99it/s]  \n",
      "  0%|          | 0/1446 [00:00<?, ?it/s]"
     ]
    },
    {
     "name": "stdout",
     "output_type": "stream",
     "text": [
      "train loss: 1804.771 - val loss: 1552.925- train mae: 1793.517 - val mae: 1542.761\n",
      "\n",
      "Epoch: 6/200 - LR: 0.000300\n"
     ]
    },
    {
     "name": "stderr",
     "output_type": "stream",
     "text": [
      "480.5s - loss: 1935.011 - mae: 1934.058: 100%|██████████| 1446/1446 [08:00<00:00,  3.01it/s]  \n",
      "  0%|          | 0/1446 [00:00<?, ?it/s]"
     ]
    },
    {
     "name": "stdout",
     "output_type": "stream",
     "text": [
      "train loss: 1800.523 - val loss: 1564.961- train mae: 1789.096 - val mae: 1556.731\n",
      "\n",
      "Epoch: 7/200 - LR: 0.000300\n"
     ]
    },
    {
     "name": "stderr",
     "output_type": "stream",
     "text": [
      "481.4s - loss: 93.912 - mae: 39.197: 100%|██████████| 1446/1446 [08:01<00:00,  3.00it/s]      \n",
      "  0%|          | 0/1446 [00:00<?, ?it/s]"
     ]
    },
    {
     "name": "stdout",
     "output_type": "stream",
     "text": [
      "train loss: 1797.864 - val loss: 1552.713- train mae: 1786.397 - val mae: 1545.442\n",
      "\n",
      "Epoch: 8/200 - LR: 0.000300\n"
     ]
    },
    {
     "name": "stderr",
     "output_type": "stream",
     "text": [
      "482.3s - loss: 361.447 - mae: 361.211: 100%|██████████| 1446/1446 [08:02<00:00,  3.00it/s]    \n"
     ]
    },
    {
     "name": "stdout",
     "output_type": "stream",
     "text": [
      "train loss: 1795.730 - val loss: 1551.956- train mae: 1783.604 - val mae: 1542.825\n"
     ]
    },
    {
     "name": "stderr",
     "output_type": "stream",
     "text": [
      "0.1s - loss: 102.367 - mae: 9.773:   0%|          | 1/1446 [00:00<02:31,  9.52it/s]"
     ]
    },
    {
     "name": "stdout",
     "output_type": "stream",
     "text": [
      "\n",
      "Epoch: 9/200 - LR: 0.000300\n"
     ]
    },
    {
     "name": "stderr",
     "output_type": "stream",
     "text": [
      "480.1s - loss: 254.945 - mae: 253.015: 100%|██████████| 1446/1446 [08:00<00:00,  3.01it/s]    \n",
      "  0%|          | 0/1446 [00:00<?, ?it/s]"
     ]
    },
    {
     "name": "stdout",
     "output_type": "stream",
     "text": [
      "train loss: 1801.868 - val loss: 1548.620- train mae: 1789.985 - val mae: 1539.414\n",
      "\n",
      "Epoch: 10/200 - LR: 0.000300\n"
     ]
    },
    {
     "name": "stderr",
     "output_type": "stream",
     "text": [
      "483.2s - loss: 114.859 - mae: 113.819: 100%|██████████| 1446/1446 [08:03<00:00,  2.99it/s]    \n",
      "  0%|          | 0/1446 [00:00<?, ?it/s]"
     ]
    },
    {
     "name": "stdout",
     "output_type": "stream",
     "text": [
      "train loss: 1798.809 - val loss: 1547.854- train mae: 1787.908 - val mae: 1539.483\n",
      "\n",
      "Epoch: 11/200 - LR: 0.000300\n"
     ]
    },
    {
     "name": "stderr",
     "output_type": "stream",
     "text": [
      "479.9s - loss: 212.642 - mae: 212.228: 100%|██████████| 1446/1446 [07:59<00:00,  3.01it/s]    \n",
      "  0%|          | 0/1446 [00:00<?, ?it/s]"
     ]
    },
    {
     "name": "stdout",
     "output_type": "stream",
     "text": [
      "train loss: 1800.774 - val loss: 1551.030- train mae: 1789.573 - val mae: 1542.110\n",
      "\n",
      "Epoch: 12/200 - LR: 0.000300\n"
     ]
    },
    {
     "name": "stderr",
     "output_type": "stream",
     "text": [
      "480.8s - loss: 4155.514 - mae: 4154.651: 100%|██████████| 1446/1446 [08:00<00:00,  3.01it/s]  \n"
     ]
    }
   ],
   "source": [
    "config, unparsed = get_config()\n",
    "trainer = Trainer(config, (train_dl, val_dl))\n",
    "trainer.train()"
   ]
  },
  {
   "cell_type": "code",
   "execution_count": null,
   "id": "54261a25",
   "metadata": {},
   "outputs": [],
   "source": []
  },
  {
   "cell_type": "code",
   "execution_count": null,
   "id": "6505333c",
   "metadata": {},
   "outputs": [],
   "source": []
  }
 ],
 "metadata": {
  "kernelspec": {
   "display_name": "Python 3",
   "language": "python",
   "name": "python3"
  },
  "language_info": {
   "codemirror_mode": {
    "name": "ipython",
    "version": 3
   },
   "file_extension": ".py",
   "mimetype": "text/x-python",
   "name": "python",
   "nbconvert_exporter": "python",
   "pygments_lexer": "ipython3",
   "version": "3.7.10"
  }
 },
 "nbformat": 4,
 "nbformat_minor": 5
}
