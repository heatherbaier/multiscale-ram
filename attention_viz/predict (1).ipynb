{
 "cells": [
  {
   "cell_type": "code",
   "execution_count": 1,
   "id": "4fc96e84",
   "metadata": {},
   "outputs": [],
   "source": [
    "from torch.utils.data.sampler import SubsetRandomSampler\n",
    "from torch.optim.lr_scheduler import ReduceLROnPlateau\n",
    "from tensorboard_logger import configure, log_value\n",
    "from model import RecurrentAttention\n",
    "from torchvision import transforms\n",
    "from torchvision import datasets\n",
    "import torch.nn.functional as F\n",
    "import matplotlib.pyplot as plt\n",
    "from utils import AverageMeter\n",
    "from config import get_config\n",
    "from utils import plot_images\n",
    "from trainer import Trainer\n",
    "from tqdm import tqdm\n",
    "import pandas as pd\n",
    "import torchvision\n",
    "import numpy as np\n",
    "import random\n",
    "import pickle\n",
    "import shutil\n",
    "import torch\n",
    "import time\n",
    "\n",
    "import os\n",
    "os.environ[\"CUDA_DEVICE_ORDER\"] = \"PCI_BUS_ID\" \n",
    "os.environ[\"CUDA_VISIBLE_DEVICES\"] = \"2\"\n",
    "\n",
    "from utils import *"
   ]
  },
  {
   "cell_type": "code",
   "execution_count": 2,
   "id": "84d4d6b5",
   "metadata": {},
   "outputs": [
    {
     "data": {
      "text/html": [
       "<div>\n",
       "<style scoped>\n",
       "    .dataframe tbody tr th:only-of-type {\n",
       "        vertical-align: middle;\n",
       "    }\n",
       "\n",
       "    .dataframe tbody tr th {\n",
       "        vertical-align: top;\n",
       "    }\n",
       "\n",
       "    .dataframe thead th {\n",
       "        text-align: right;\n",
       "    }\n",
       "</style>\n",
       "<table border=\"1\" class=\"dataframe\">\n",
       "  <thead>\n",
       "    <tr style=\"text-align: right;\">\n",
       "      <th></th>\n",
       "      <th>muni_id</th>\n",
       "      <th>num_migrants</th>\n",
       "      <th>class</th>\n",
       "    </tr>\n",
       "  </thead>\n",
       "  <tbody>\n",
       "    <tr>\n",
       "      <th>0</th>\n",
       "      <td>484001001</td>\n",
       "      <td>42055.0</td>\n",
       "      <td>3</td>\n",
       "    </tr>\n",
       "    <tr>\n",
       "      <th>1</th>\n",
       "      <td>484001002</td>\n",
       "      <td>4017.0</td>\n",
       "      <td>3</td>\n",
       "    </tr>\n",
       "    <tr>\n",
       "      <th>2</th>\n",
       "      <td>484001003</td>\n",
       "      <td>11992.0</td>\n",
       "      <td>3</td>\n",
       "    </tr>\n",
       "    <tr>\n",
       "      <th>3</th>\n",
       "      <td>484001004</td>\n",
       "      <td>762.0</td>\n",
       "      <td>2</td>\n",
       "    </tr>\n",
       "    <tr>\n",
       "      <th>4</th>\n",
       "      <td>484001005</td>\n",
       "      <td>7551.0</td>\n",
       "      <td>3</td>\n",
       "    </tr>\n",
       "  </tbody>\n",
       "</table>\n",
       "</div>"
      ],
      "text/plain": [
       "     muni_id  num_migrants class\n",
       "0  484001001       42055.0     3\n",
       "1  484001002        4017.0     3\n",
       "2  484001003       11992.0     3\n",
       "3  484001004         762.0     2\n",
       "4  484001005        7551.0     3"
      ]
     },
     "execution_count": 2,
     "metadata": {},
     "output_type": "execute_result"
    }
   ],
   "source": [
    "m = open(\"../../pooling/data/migration_data.json\",)\n",
    "mig_data = json.load(m)\n",
    "m.close()\n",
    "mig_data = pd.DataFrame.from_dict(mig_data, orient = 'index').reset_index()\n",
    "mig_data.columns = ['muni_id', 'num_migrants']\n",
    "q = 4\n",
    "mig_data['class'] = pd.qcut(mig_data['num_migrants'], q = q, labels = [i for i in range(q)])\n",
    "mig_data.head()"
   ]
  },
  {
   "cell_type": "code",
   "execution_count": 3,
   "id": "2dc83d9b",
   "metadata": {},
   "outputs": [],
   "source": [
    "image_names = get_png_names(\"../../attn/data/MEX/\")\n",
    "\n",
    "with open(\"../val_images.txt\") as ims:\n",
    "    val_names = ims.read().splitlines()\n",
    "    \n",
    "train_names = [i for i in image_names if i not in val_names]"
   ]
  },
  {
   "cell_type": "code",
   "execution_count": 4,
   "id": "ea24146c",
   "metadata": {},
   "outputs": [],
   "source": [
    "y_class, y_mig = get_ys(image_names, mig_data)"
   ]
  },
  {
   "cell_type": "code",
   "execution_count": 5,
   "id": "bc60026a",
   "metadata": {},
   "outputs": [],
   "source": [
    "train_num = int(25 * .70)\n",
    "train_indices = random.sample(range(0, 25), train_num)\n",
    "val_indices = [i for i in range(0, 25) if i not in train_indices]"
   ]
  },
  {
   "cell_type": "code",
   "execution_count": 6,
   "id": "a2b1e7c3",
   "metadata": {},
   "outputs": [],
   "source": [
    "batch_size = 1\n",
    "train = [(torchvision.transforms.functional.adjust_brightness(load_inputs(image_names[i]), brightness_factor = 2).squeeze(), y_class[i], y_mig[i]) for i in train_indices]\n",
    "val = [(torchvision.transforms.functional.adjust_brightness(load_inputs(image_names[i]), brightness_factor = 2).squeeze(), y_class[i], y_mig[i]) for i in val_indices]\n",
    "train_dl = torch.utils.data.DataLoader(train, batch_size = batch_size, shuffle = True)\n",
    "val_dl = torch.utils.data.DataLoader(val, batch_size = batch_size, shuffle = True)"
   ]
  },
  {
   "cell_type": "code",
   "execution_count": 7,
   "id": "a74b9a2e",
   "metadata": {},
   "outputs": [
    {
     "name": "stdout",
     "output_type": "stream",
     "text": [
      "Num training:  17\n",
      "Num validation:  8\n"
     ]
    }
   ],
   "source": [
    "print(\"Num training: \", len(train_dl))\n",
    "print(\"Num validation: \", len(val_dl))"
   ]
  },
  {
   "cell_type": "code",
   "execution_count": 8,
   "id": "32eb0f80",
   "metadata": {},
   "outputs": [],
   "source": [
    "import numpy as np\n",
    "from utils import plot_images\n",
    "\n",
    "import torch\n",
    "from torchvision import datasets\n",
    "from torchvision import transforms\n",
    "from torch.utils.data.sampler import SubsetRandomSampler"
   ]
  },
  {
   "cell_type": "code",
   "execution_count": 9,
   "id": "da33ad75",
   "metadata": {},
   "outputs": [],
   "source": [
    "config, unparsed = get_config()"
   ]
  },
  {
   "cell_type": "code",
   "execution_count": 10,
   "id": "dea3a131",
   "metadata": {},
   "outputs": [],
   "source": [
    "trainer = Trainer(config, (train_dl, val_dl))"
   ]
  },
  {
   "cell_type": "code",
   "execution_count": 11,
   "id": "ad6e6b9b",
   "metadata": {},
   "outputs": [],
   "source": [
    "checkpoint = torch.load(\"./ckpt/ram_4_50x50_0.75_model_best.pth.tar\")\n",
    "checkpoint = checkpoint[\"model_state\"]"
   ]
  },
  {
   "cell_type": "code",
   "execution_count": 15,
   "id": "5f1c0b5e",
   "metadata": {},
   "outputs": [
    {
     "data": {
      "text/html": [
       "<div>\n",
       "<style scoped>\n",
       "    .dataframe tbody tr th:only-of-type {\n",
       "        vertical-align: middle;\n",
       "    }\n",
       "\n",
       "    .dataframe tbody tr th {\n",
       "        vertical-align: top;\n",
       "    }\n",
       "\n",
       "    .dataframe thead th {\n",
       "        text-align: right;\n",
       "    }\n",
       "</style>\n",
       "<table border=\"1\" class=\"dataframe\">\n",
       "  <thead>\n",
       "    <tr style=\"text-align: right;\">\n",
       "      <th></th>\n",
       "      <th>true</th>\n",
       "      <th>pred</th>\n",
       "      <th>class</th>\n",
       "    </tr>\n",
       "  </thead>\n",
       "  <tbody>\n",
       "    <tr>\n",
       "      <th>0</th>\n",
       "      <td>1446.0</td>\n",
       "      <td>1094.029541</td>\n",
       "      <td>2</td>\n",
       "    </tr>\n",
       "    <tr>\n",
       "      <th>1</th>\n",
       "      <td>25.0</td>\n",
       "      <td>813.932251</td>\n",
       "      <td>0</td>\n",
       "    </tr>\n",
       "    <tr>\n",
       "      <th>2</th>\n",
       "      <td>7551.0</td>\n",
       "      <td>4059.980713</td>\n",
       "      <td>3</td>\n",
       "    </tr>\n",
       "    <tr>\n",
       "      <th>3</th>\n",
       "      <td>988.0</td>\n",
       "      <td>1397.649292</td>\n",
       "      <td>2</td>\n",
       "    </tr>\n",
       "    <tr>\n",
       "      <th>4</th>\n",
       "      <td>7444.0</td>\n",
       "      <td>2284.040039</td>\n",
       "      <td>3</td>\n",
       "    </tr>\n",
       "  </tbody>\n",
       "</table>\n",
       "</div>"
      ],
      "text/plain": [
       "     true         pred  class\n",
       "0  1446.0  1094.029541      2\n",
       "1    25.0   813.932251      0\n",
       "2  7551.0  4059.980713      3\n",
       "3   988.0  1397.649292      2\n",
       "4  7444.0  2284.040039      3"
      ]
     },
     "execution_count": 15,
     "metadata": {},
     "output_type": "execute_result"
    }
   ],
   "source": [
    "trues, preds, classes, tv = [], [], [], []\n",
    "\n",
    "for im in val_names:\n",
    "        \n",
    "    i = load_inputs(im)\n",
    "    o = torch.tensor(mig_data[mig_data[\"muni_id\"] == im.split(\"/\")[5]]['class'].values[0])\n",
    "    o2 = torch.tensor(mig_data[mig_data[\"muni_id\"] == im.split(\"/\")[5]]['num_migrants'].values[0])\n",
    "    \n",
    "    pred = trainer.predict(1, i, o, o2, checkpoint).item()\n",
    "    true = o2.item()\n",
    "    \n",
    "    trues.append(true)\n",
    "    preds.append(pred)\n",
    "    classes.append(o.item())\n",
    "    tv.append('val')\n",
    "    \n",
    "for im in train_names:\n",
    "        \n",
    "    i = load_inputs(im)\n",
    "    o = torch.tensor(mig_data[mig_data[\"muni_id\"] == im.split(\"/\")[5]]['class'].values[0])\n",
    "    o2 = torch.tensor(mig_data[mig_data[\"muni_id\"] == im.split(\"/\")[5]]['num_migrants'].values[0])\n",
    "    \n",
    "    pred = trainer.predict(1, i, o, o2, checkpoint).item()\n",
    "    true = o2.item()\n",
    "    \n",
    "    trues.append(true)\n",
    "    preds.append(pred)\n",
    "    classes.append(o.item())\n",
    "    tv.append('train')    \n",
    "    \n",
    "    \n",
    "preds_df = pd.DataFrame()\n",
    "preds_df['true'], preds_df['pred'], preds_df['class'] = trues, preds, classes\n",
    "preds_df.head()"
   ]
  },
  {
   "cell_type": "code",
   "execution_count": 16,
   "id": "49af53fa",
   "metadata": {},
   "outputs": [],
   "source": [
    "preds_df['tv'] = tv"
   ]
  },
  {
   "cell_type": "code",
   "execution_count": 17,
   "id": "dc4d850a",
   "metadata": {},
   "outputs": [
    {
     "data": {
      "text/plain": [
       "Text(0, 0.5, 'True')"
      ]
     },
     "execution_count": 17,
     "metadata": {},
     "output_type": "execute_result"
    },
    {
     "data": {
      "image/png": "[encoded data removed]",
      "text/plain": [
       "<Figure size 432x288 with 1 Axes>"
      ]
     },
     "metadata": {
      "needs_background": "light"
     },
     "output_type": "display_data"
    }
   ],
   "source": [
    "groups = preds_df.groupby(\"class\")\n",
    "for name, group in groups:\n",
    "    plt.plot(group[\"pred\"], group[\"true\"], marker=\"o\", linestyle=\"\", label=name)\n",
    "plt.legend()\n",
    "plt.xlabel(\"Predicted\")\n",
    "plt.ylabel(\"True\")"
   ]
  },
  {
   "cell_type": "code",
   "execution_count": 18,
   "id": "8e037b2e",
   "metadata": {},
   "outputs": [],
   "source": [
    "preds_df.to_csv(\"./4_locs_std4_noclass_v1.csv\")"
   ]
  },
  {
   "cell_type": "code",
   "execution_count": 19,
   "id": "2c22259d",
   "metadata": {},
   "outputs": [
    {
     "data": {
      "text/plain": [
       "Text(0, 0.5, 'True')"
      ]
     },
     "execution_count": 19,
     "metadata": {},
     "output_type": "execute_result"
    },
    {
     "data": {
      "image/png": "[encoded data removed]",
      "text/plain": [
       "<Figure size 432x288 with 1 Axes>"
      ]
     },
     "metadata": {
      "needs_background": "light"
     },
     "output_type": "display_data"
    }
   ],
   "source": [
    "plt.scatter(preds_df['pred'], preds_df['true'])\n",
    "plt.xlabel(\"Predicted\")\n",
    "plt.ylabel(\"True\")"
   ]
  },
  {
   "cell_type": "code",
   "execution_count": 20,
   "id": "23b8281f",
   "metadata": {},
   "outputs": [
    {
     "name": "stdout",
     "output_type": "stream",
     "text": [
      "0 445.57567018316695\n",
      "1 437.551542207012\n",
      "2 720.6718332413938\n",
      "3 4552.609256744385\n"
     ]
    }
   ],
   "source": [
    "for name, group in groups:\n",
    "    print(name, np.mean(abs(group[\"true\"] - group[\"pred\"])))"
   ]
  },
  {
   "cell_type": "code",
   "execution_count": 21,
   "id": "049129b4",
   "metadata": {},
   "outputs": [
    {
     "data": {
      "text/html": [
       "<div>\n",
       "<style scoped>\n",
       "    .dataframe tbody tr th:only-of-type {\n",
       "        vertical-align: middle;\n",
       "    }\n",
       "\n",
       "    .dataframe tbody tr th {\n",
       "        vertical-align: top;\n",
       "    }\n",
       "\n",
       "    .dataframe thead th {\n",
       "        text-align: right;\n",
       "    }\n",
       "</style>\n",
       "<table border=\"1\" class=\"dataframe\">\n",
       "  <thead>\n",
       "    <tr style=\"text-align: right;\">\n",
       "      <th></th>\n",
       "      <th>true</th>\n",
       "      <th>pred</th>\n",
       "      <th>class</th>\n",
       "      <th>tv</th>\n",
       "    </tr>\n",
       "  </thead>\n",
       "  <tbody>\n",
       "    <tr>\n",
       "      <th>0</th>\n",
       "      <td>1446.0</td>\n",
       "      <td>1094.029541</td>\n",
       "      <td>2</td>\n",
       "      <td>val</td>\n",
       "    </tr>\n",
       "    <tr>\n",
       "      <th>1</th>\n",
       "      <td>25.0</td>\n",
       "      <td>813.932251</td>\n",
       "      <td>0</td>\n",
       "      <td>val</td>\n",
       "    </tr>\n",
       "    <tr>\n",
       "      <th>2</th>\n",
       "      <td>7551.0</td>\n",
       "      <td>4059.980713</td>\n",
       "      <td>3</td>\n",
       "      <td>val</td>\n",
       "    </tr>\n",
       "    <tr>\n",
       "      <th>3</th>\n",
       "      <td>988.0</td>\n",
       "      <td>1397.649292</td>\n",
       "      <td>2</td>\n",
       "      <td>val</td>\n",
       "    </tr>\n",
       "    <tr>\n",
       "      <th>4</th>\n",
       "      <td>7444.0</td>\n",
       "      <td>2284.040039</td>\n",
       "      <td>3</td>\n",
       "      <td>val</td>\n",
       "    </tr>\n",
       "    <tr>\n",
       "      <th>...</th>\n",
       "      <td>...</td>\n",
       "      <td>...</td>\n",
       "      <td>...</td>\n",
       "      <td>...</td>\n",
       "    </tr>\n",
       "    <tr>\n",
       "      <th>2061</th>\n",
       "      <td>1551.0</td>\n",
       "      <td>1061.712891</td>\n",
       "      <td>2</td>\n",
       "      <td>train</td>\n",
       "    </tr>\n",
       "    <tr>\n",
       "      <th>2062</th>\n",
       "      <td>717.0</td>\n",
       "      <td>1128.044922</td>\n",
       "      <td>2</td>\n",
       "      <td>train</td>\n",
       "    </tr>\n",
       "    <tr>\n",
       "      <th>2063</th>\n",
       "      <td>2487.0</td>\n",
       "      <td>2691.961426</td>\n",
       "      <td>3</td>\n",
       "      <td>train</td>\n",
       "    </tr>\n",
       "    <tr>\n",
       "      <th>2064</th>\n",
       "      <td>2024.0</td>\n",
       "      <td>829.575378</td>\n",
       "      <td>3</td>\n",
       "      <td>train</td>\n",
       "    </tr>\n",
       "    <tr>\n",
       "      <th>2065</th>\n",
       "      <td>3084.0</td>\n",
       "      <td>2060.615234</td>\n",
       "      <td>3</td>\n",
       "      <td>train</td>\n",
       "    </tr>\n",
       "  </tbody>\n",
       "</table>\n",
       "<p>2066 rows × 4 columns</p>\n",
       "</div>"
      ],
      "text/plain": [
       "        true         pred  class     tv\n",
       "0     1446.0  1094.029541      2    val\n",
       "1       25.0   813.932251      0    val\n",
       "2     7551.0  4059.980713      3    val\n",
       "3      988.0  1397.649292      2    val\n",
       "4     7444.0  2284.040039      3    val\n",
       "...      ...          ...    ...    ...\n",
       "2061  1551.0  1061.712891      2  train\n",
       "2062   717.0  1128.044922      2  train\n",
       "2063  2487.0  2691.961426      3  train\n",
       "2064  2024.0   829.575378      3  train\n",
       "2065  3084.0  2060.615234      3  train\n",
       "\n",
       "[2066 rows x 4 columns]"
      ]
     },
     "execution_count": 21,
     "metadata": {},
     "output_type": "execute_result"
    }
   ],
   "source": [
    "preds_df"
   ]
  },
  {
   "cell_type": "code",
   "execution_count": 22,
   "id": "c1938bc2",
   "metadata": {},
   "outputs": [
    {
     "data": {
      "text/plain": [
       "0.12422404531232756"
      ]
     },
     "execution_count": 22,
     "metadata": {},
     "output_type": "execute_result"
    }
   ],
   "source": [
    "import sklearn.metrics\n",
    "\n",
    "sklearn.metrics.r2_score(preds_df['true'], preds_df['pred'])"
   ]
  },
  {
   "cell_type": "code",
   "execution_count": null,
   "id": "2768b378",
   "metadata": {},
   "outputs": [],
   "source": []
  }
 ],
 "metadata": {
  "kernelspec": {
   "display_name": "Python 3",
   "language": "python",
   "name": "python3"
  },
  "language_info": {
   "codemirror_mode": {
    "name": "ipython",
    "version": 3
   },
   "file_extension": ".py",
   "mimetype": "text/x-python",
   "name": "python",
   "nbconvert_exporter": "python",
   "pygments_lexer": "ipython3",
   "version": "3.7.10"
  }
 },
 "nbformat": 4,
 "nbformat_minor": 5
}
