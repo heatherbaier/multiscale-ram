{
 "cells": [
  {
   "cell_type": "code",
   "execution_count": 1,
   "id": "28be088b",
   "metadata": {},
   "outputs": [],
   "source": [
    "from torch.utils.data.sampler import SubsetRandomSampler\n",
    "from torch.optim.lr_scheduler import ReduceLROnPlateau\n",
    "from tensorboard_logger import configure, log_value\n",
    "from model import RecurrentAttention\n",
    "from torchvision import transforms\n",
    "from torchvision import datasets\n",
    "import torch.nn.functional as F\n",
    "import matplotlib.pyplot as plt\n",
    "from utils import AverageMeter\n",
    "from config import get_config\n",
    "from utils import plot_images\n",
    "from trainer import Trainer\n",
    "from tqdm import tqdm\n",
    "import pandas as pd\n",
    "import torchvision\n",
    "import numpy as np\n",
    "import random\n",
    "import pickle\n",
    "import shutil\n",
    "import torch\n",
    "import time\n",
    "\n",
    "import os\n",
    "os.environ[\"CUDA_DEVICE_ORDER\"] = \"PCI_BUS_ID\" \n",
    "os.environ[\"CUDA_VISIBLE_DEVICES\"] = \"3\"\n",
    "\n",
    "from utils import *"
   ]
  },
  {
   "cell_type": "code",
   "execution_count": 2,
   "id": "77e59d16",
   "metadata": {},
   "outputs": [
    {
     "data": {
      "text/html": [
       "<div>\n",
       "<style scoped>\n",
       "    .dataframe tbody tr th:only-of-type {\n",
       "        vertical-align: middle;\n",
       "    }\n",
       "\n",
       "    .dataframe tbody tr th {\n",
       "        vertical-align: top;\n",
       "    }\n",
       "\n",
       "    .dataframe thead th {\n",
       "        text-align: right;\n",
       "    }\n",
       "</style>\n",
       "<table border=\"1\" class=\"dataframe\">\n",
       "  <thead>\n",
       "    <tr style=\"text-align: right;\">\n",
       "      <th></th>\n",
       "      <th>muni_id</th>\n",
       "      <th>num_migrants</th>\n",
       "      <th>class</th>\n",
       "    </tr>\n",
       "  </thead>\n",
       "  <tbody>\n",
       "    <tr>\n",
       "      <th>0</th>\n",
       "      <td>484001001</td>\n",
       "      <td>42055.0</td>\n",
       "      <td>3</td>\n",
       "    </tr>\n",
       "    <tr>\n",
       "      <th>1</th>\n",
       "      <td>484001002</td>\n",
       "      <td>4017.0</td>\n",
       "      <td>3</td>\n",
       "    </tr>\n",
       "    <tr>\n",
       "      <th>2</th>\n",
       "      <td>484001003</td>\n",
       "      <td>11992.0</td>\n",
       "      <td>3</td>\n",
       "    </tr>\n",
       "    <tr>\n",
       "      <th>3</th>\n",
       "      <td>484001004</td>\n",
       "      <td>762.0</td>\n",
       "      <td>2</td>\n",
       "    </tr>\n",
       "    <tr>\n",
       "      <th>4</th>\n",
       "      <td>484001005</td>\n",
       "      <td>7551.0</td>\n",
       "      <td>3</td>\n",
       "    </tr>\n",
       "  </tbody>\n",
       "</table>\n",
       "</div>"
      ],
      "text/plain": [
       "     muni_id  num_migrants class\n",
       "0  484001001       42055.0     3\n",
       "1  484001002        4017.0     3\n",
       "2  484001003       11992.0     3\n",
       "3  484001004         762.0     2\n",
       "4  484001005        7551.0     3"
      ]
     },
     "execution_count": 2,
     "metadata": {},
     "output_type": "execute_result"
    }
   ],
   "source": [
    "q = 4\n",
    "with open(\"../../pooling/data/migration_data.json\") as m:\n",
    "    mig_data = json.load(m)\n",
    "m.close()\n",
    "mig_data = pd.DataFrame.from_dict(mig_data, orient = 'index').reset_index()\n",
    "mig_data.columns = ['muni_id', 'num_migrants']\n",
    "mig_data['class'] = pd.qcut(mig_data['num_migrants'], q = q, labels = [i for i in range(q)])\n",
    "mig_data.head()"
   ]
  },
  {
   "cell_type": "code",
   "execution_count": 3,
   "id": "778a1e41",
   "metadata": {},
   "outputs": [],
   "source": [
    "image_names = get_png_names(\"../../attn/data/MEX/\")\n",
    "y_class, y_mig = get_ys(image_names, mig_data)\n",
    "\n",
    "with open(\"../val_images.txt\") as ims:\n",
    "    val_names = ims.read().splitlines()\n",
    "    \n",
    "train_names = [i for i in image_names if i not in val_names]\n",
    "\n",
    "val_indices = [image_names.index(i) for i in val_names]\n",
    "train_indices = [image_names.index(i) for i in train_names]\n",
    "train_num = int(len(train_indices))"
   ]
  },
  {
   "cell_type": "code",
   "execution_count": 4,
   "id": "54dd0e87",
   "metadata": {},
   "outputs": [],
   "source": [
    "# train_indices = train_indices[0:25]\n",
    "# val_indices = val_indices[0:10]"
   ]
  },
  {
   "cell_type": "code",
   "execution_count": 5,
   "id": "68bf4d89",
   "metadata": {},
   "outputs": [],
   "source": [
    "batch_size = 1\n",
    "train = [(torchvision.transforms.functional.adjust_brightness(load_inputs(image_names[i]), brightness_factor = 2).squeeze(), y_class[i], y_mig[i]) for i in train_indices]\n",
    "val = [(torchvision.transforms.functional.adjust_brightness(load_inputs(image_names[i]), brightness_factor = 2).squeeze(), y_class[i], y_mig[i]) for i in val_indices]\n",
    "train_dl = torch.utils.data.DataLoader(train, batch_size = batch_size, shuffle = True)\n",
    "val_dl = torch.utils.data.DataLoader(val, batch_size = batch_size, shuffle = True)"
   ]
  },
  {
   "cell_type": "code",
   "execution_count": 6,
   "id": "44c92c3f",
   "metadata": {},
   "outputs": [
    {
     "name": "stdout",
     "output_type": "stream",
     "text": [
      "Num training:  1446\n",
      "Num validation:  620\n"
     ]
    }
   ],
   "source": [
    "print(\"Num training: \", len(train_dl))\n",
    "print(\"Num validation: \", len(val_dl))"
   ]
  },
  {
   "cell_type": "code",
   "execution_count": null,
   "id": "a56062bc",
   "metadata": {},
   "outputs": [
    {
     "name": "stderr",
     "output_type": "stream",
     "text": [
      "0.1s - loss: 2675.982 - acc: 0.000 - mae: 2675.983:   0%|          | 0/1446 [00:00<?, ?it/s]"
     ]
    },
    {
     "name": "stdout",
     "output_type": "stream",
     "text": [
      "\n",
      "[*] Train on 1446 samples, validate on 620 samples\n",
      "\n",
      "Epoch: 1/200 - LR: 0.000300\n"
     ]
    },
    {
     "name": "stderr",
     "output_type": "stream",
     "text": [
      "61.9s - loss: 143.793 - acc: 0.000 - mae: 143.791: 100%|██████████| 1446/1446 [01:01<00:00, 23.35it/s]    \n"
     ]
    },
    {
     "name": "stdout",
     "output_type": "stream",
     "text": [
      "train loss: 1874.831 - train acc: 25.934 - val loss: 1575.046 - val acc: 24.355 - val err: 75.645- train mae: 1874.510 - val mae: 1574.922 [*]\n"
     ]
    },
    {
     "name": "stderr",
     "output_type": "stream",
     "text": [
      "0.2s - loss: 158.088 - acc: 0.000 - mae: 158.087:   0%|          | 2/1446 [00:00<01:56, 12.34it/s]    "
     ]
    },
    {
     "name": "stdout",
     "output_type": "stream",
     "text": [
      "\n",
      "Epoch: 2/200 - LR: 0.000300\n"
     ]
    },
    {
     "name": "stderr",
     "output_type": "stream",
     "text": [
      "61.4s - loss: 12.584 - acc: 0.000 - mae: 12.584: 100%|██████████| 1446/1446 [01:01<00:00, 23.53it/s]      \n"
     ]
    },
    {
     "name": "stdout",
     "output_type": "stream",
     "text": [
      "train loss: 1809.887 - train acc: 25.934 - val loss: 1543.471 - val acc: 24.355 - val err: 75.645- train mae: 1809.713 - val mae: 1543.461 [*]\n"
     ]
    },
    {
     "name": "stderr",
     "output_type": "stream",
     "text": [
      "0.2s - loss: 1010.394 - acc: 0.000 - mae: 1010.370:   0%|          | 2/1446 [00:00<01:53, 12.73it/s]"
     ]
    },
    {
     "name": "stdout",
     "output_type": "stream",
     "text": [
      "\n",
      "Epoch: 3/200 - LR: 0.000300\n"
     ]
    },
    {
     "name": "stderr",
     "output_type": "stream",
     "text": [
      "60.9s - loss: 158.378 - acc: 0.000 - mae: 158.377: 100%|██████████| 1446/1446 [01:00<00:00, 23.75it/s]    \n",
      "  0%|          | 0/1446 [00:00<?, ?it/s]"
     ]
    },
    {
     "name": "stdout",
     "output_type": "stream",
     "text": [
      "train loss: 1806.856 - train acc: 25.726 - val loss: 1544.731 - val acc: 24.355 - val err: 75.645- train mae: 1806.536 - val mae: 1544.725\n",
      "\n",
      "Epoch: 4/200 - LR: 0.000300\n"
     ]
    },
    {
     "name": "stderr",
     "output_type": "stream",
     "text": [
      "60.3s - loss: 667.603 - acc: 0.000 - mae: 667.603: 100%|██████████| 1446/1446 [01:00<00:00, 23.99it/s]    \n",
      "  0%|          | 0/1446 [00:00<?, ?it/s]"
     ]
    },
    {
     "name": "stdout",
     "output_type": "stream",
     "text": [
      "train loss: 1799.315 - train acc: 26.003 - val loss: 1551.071 - val acc: 24.839 - val err: 75.161- train mae: 1799.074 - val mae: 1551.068\n",
      "\n",
      "Epoch: 5/200 - LR: 0.000300\n"
     ]
    },
    {
     "name": "stderr",
     "output_type": "stream",
     "text": [
      "62.2s - loss: 709.451 - acc: 0.000 - mae: 709.450: 100%|██████████| 1446/1446 [01:02<00:00, 23.25it/s]    \n",
      "0.0s - loss: 382.902 - acc: 0.000 - mae: 382.900:   0%|          | 0/1446 [00:00<?, ?it/s]"
     ]
    },
    {
     "name": "stdout",
     "output_type": "stream",
     "text": [
      "train loss: 1792.970 - train acc: 26.072 - val loss: 1568.249 - val acc: 24.032 - val err: 75.968- train mae: 1792.958 - val mae: 1568.233\n",
      "\n",
      "Epoch: 6/200 - LR: 0.000300\n"
     ]
    },
    {
     "name": "stderr",
     "output_type": "stream",
     "text": [
      "60.7s - loss: 231.595 - acc: 0.000 - mae: 231.595: 100%|██████████| 1446/1446 [01:00<00:00, 23.82it/s]    \n"
     ]
    },
    {
     "name": "stdout",
     "output_type": "stream",
     "text": [
      "train loss: 1778.576 - train acc: 25.519 - val loss: 1540.472 - val acc: 24.516 - val err: 75.484- train mae: 1777.987 - val mae: 1540.465 [*]\n"
     ]
    },
    {
     "name": "stderr",
     "output_type": "stream",
     "text": [
      "0.2s - loss: 403.559 - acc: 0.000 - mae: 403.518:   0%|          | 2/1446 [00:00<01:45, 13.71it/s]  "
     ]
    },
    {
     "name": "stdout",
     "output_type": "stream",
     "text": [
      "\n",
      "Epoch: 7/200 - LR: 0.000300\n"
     ]
    },
    {
     "name": "stderr",
     "output_type": "stream",
     "text": [
      "61.7s - loss: 175.429 - acc: 0.000 - mae: 175.418: 100%|██████████| 1446/1446 [01:01<00:00, 23.43it/s]    \n",
      "  0%|          | 0/1446 [00:00<?, ?it/s]"
     ]
    },
    {
     "name": "stdout",
     "output_type": "stream",
     "text": [
      "train loss: 1781.987 - train acc: 25.380 - val loss: 1543.148 - val acc: 25.323 - val err: 74.677- train mae: 1781.734 - val mae: 1543.136\n",
      "\n",
      "Epoch: 8/200 - LR: 0.000300\n"
     ]
    },
    {
     "name": "stderr",
     "output_type": "stream",
     "text": [
      "62.8s - loss: 2239.375 - acc: 0.000 - mae: 2239.373: 100%|██████████| 1446/1446 [01:02<00:00, 23.03it/s]  \n",
      "  0%|          | 0/1446 [00:00<?, ?it/s]"
     ]
    },
    {
     "name": "stdout",
     "output_type": "stream",
     "text": [
      "train loss: 1772.378 - train acc: 24.620 - val loss: 1541.921 - val acc: 24.677 - val err: 75.323- train mae: 1772.370 - val mae: 1541.917\n",
      "\n",
      "Epoch: 9/200 - LR: 0.000300\n"
     ]
    },
    {
     "name": "stderr",
     "output_type": "stream",
     "text": [
      "62.1s - loss: 4799.684 - acc: 0.000 - mae: 4799.682: 100%|██████████| 1446/1446 [01:02<00:00, 23.29it/s]  \n"
     ]
    },
    {
     "name": "stdout",
     "output_type": "stream",
     "text": [
      "train loss: 1780.135 - train acc: 25.380 - val loss: 1535.931 - val acc: 25.323 - val err: 74.677- train mae: 1779.523 - val mae: 1535.924 [*]\n"
     ]
    },
    {
     "name": "stderr",
     "output_type": "stream",
     "text": [
      "0.0s - loss: 45082.172 - acc: 0.000 - mae: 45082.160:   0%|          | 0/1446 [00:00<?, ?it/s]"
     ]
    },
    {
     "name": "stdout",
     "output_type": "stream",
     "text": [
      "\n",
      "Epoch: 10/200 - LR: 0.000300\n"
     ]
    },
    {
     "name": "stderr",
     "output_type": "stream",
     "text": [
      "60.9s - loss: 1169.009 - acc: 0.000 - mae: 1169.002: 100%|██████████| 1446/1446 [01:00<00:00, 23.74it/s]  \n",
      "0.0s - loss: 486.391 - acc: 100.000 - mae: 486.391:   0%|          | 0/1446 [00:00<?, ?it/s]"
     ]
    },
    {
     "name": "stdout",
     "output_type": "stream",
     "text": [
      "train loss: 1773.870 - train acc: 24.481 - val loss: 1557.044 - val acc: 24.355 - val err: 75.645- train mae: 1773.859 - val mae: 1557.039\n",
      "\n",
      "Epoch: 11/200 - LR: 0.000300\n"
     ]
    },
    {
     "name": "stderr",
     "output_type": "stream",
     "text": [
      "61.4s - loss: 171.075 - acc: 0.000 - mae: 170.945: 100%|██████████| 1446/1446 [01:01<00:00, 23.54it/s]    \n"
     ]
    },
    {
     "name": "stdout",
     "output_type": "stream",
     "text": [
      "train loss: 1771.028 - train acc: 24.066 - val loss: 1531.402 - val acc: 23.387 - val err: 76.613- train mae: 1770.937 - val mae: 1527.848 [*]\n"
     ]
    },
    {
     "name": "stderr",
     "output_type": "stream",
     "text": [
      "0.2s - loss: 1645.671 - acc: 0.000 - mae: 1645.426:   0%|          | 2/1446 [00:00<01:21, 17.68it/s]"
     ]
    },
    {
     "name": "stdout",
     "output_type": "stream",
     "text": [
      "\n",
      "Epoch: 12/200 - LR: 0.000300\n"
     ]
    },
    {
     "name": "stderr",
     "output_type": "stream",
     "text": [
      "58.3s - loss: 253.865 - acc: 0.000 - mae: 253.865: 100%|██████████| 1446/1446 [00:58<00:00, 24.80it/s]    \n",
      "  0%|          | 0/1446 [00:00<?, ?it/s]"
     ]
    },
    {
     "name": "stdout",
     "output_type": "stream",
     "text": [
      "train loss: 1753.158 - train acc: 24.896 - val loss: 1534.941 - val acc: 24.516 - val err: 75.484- train mae: 1753.048 - val mae: 1534.940\n",
      "\n",
      "Epoch: 13/200 - LR: 0.000300\n"
     ]
    },
    {
     "name": "stderr",
     "output_type": "stream",
     "text": [
      "59.3s - loss: 455.424 - acc: 100.000 - mae: 455.420: 100%|██████████| 1446/1446 [00:59<00:00, 24.37it/s]  \n",
      "0.0s - loss: 83.404 - acc: 100.000 - mae: 83.397:   0%|          | 0/1446 [00:00<?, ?it/s]"
     ]
    },
    {
     "name": "stdout",
     "output_type": "stream",
     "text": [
      "train loss: 1764.781 - train acc: 24.205 - val loss: 1533.120 - val acc: 25.968 - val err: 74.032- train mae: 1764.248 - val mae: 1533.116\n",
      "\n",
      "Epoch: 14/200 - LR: 0.000300\n"
     ]
    },
    {
     "name": "stderr",
     "output_type": "stream",
     "text": [
      "59.3s - loss: 899.857 - acc: 100.000 - mae: 899.856: 100%|██████████| 1446/1446 [00:59<00:00, 24.37it/s]  \n"
     ]
    },
    {
     "name": "stdout",
     "output_type": "stream",
     "text": [
      "train loss: 1764.206 - train acc: 26.003 - val loss: 1523.641 - val acc: 24.839 - val err: 75.161- train mae: 1764.123 - val mae: 1523.635 [*]\n"
     ]
    },
    {
     "name": "stderr",
     "output_type": "stream",
     "text": [
      "0.0s - loss: 396.531 - acc: 100.000 - mae: 396.520:   0%|          | 0/1446 [00:00<?, ?it/s]"
     ]
    },
    {
     "name": "stdout",
     "output_type": "stream",
     "text": [
      "\n",
      "Epoch: 15/200 - LR: 0.000300\n"
     ]
    },
    {
     "name": "stderr",
     "output_type": "stream",
     "text": [
      "59.3s - loss: 1371.812 - acc: 100.000 - mae: 1371.811: 100%|██████████| 1446/1446 [00:59<00:00, 24.39it/s]\n",
      "0.0s - loss: 1242.646 - acc: 0.000 - mae: 1242.637:   0%|          | 0/1446 [00:00<?, ?it/s]"
     ]
    },
    {
     "name": "stdout",
     "output_type": "stream",
     "text": [
      "train loss: 1758.792 - train acc: 25.380 - val loss: 1527.302 - val acc: 24.194 - val err: 75.806- train mae: 1758.645 - val mae: 1527.294\n",
      "\n",
      "Epoch: 16/200 - LR: 0.000300\n"
     ]
    },
    {
     "name": "stderr",
     "output_type": "stream",
     "text": [
      "58.4s - loss: 2301.370 - acc: 0.000 - mae: 2301.240: 100%|██████████| 1446/1446 [00:58<00:00, 24.77it/s]  \n",
      "  0%|          | 0/1446 [00:00<?, ?it/s]"
     ]
    },
    {
     "name": "stdout",
     "output_type": "stream",
     "text": [
      "train loss: 1765.560 - train acc: 25.864 - val loss: 1588.419 - val acc: 25.323 - val err: 74.677- train mae: 1765.545 - val mae: 1588.414\n",
      "\n",
      "Epoch: 17/200 - LR: 0.000300\n"
     ]
    },
    {
     "name": "stderr",
     "output_type": "stream",
     "text": [
      "61.2s - loss: 116.421 - acc: 0.000 - mae: 116.420: 100%|██████████| 1446/1446 [01:01<00:00, 23.63it/s]    \n"
     ]
    },
    {
     "name": "stdout",
     "output_type": "stream",
     "text": [
      "train loss: 1744.361 - train acc: 25.726 - val loss: 1503.931 - val acc: 23.548 - val err: 76.452- train mae: 1744.216 - val mae: 1503.927 [*]\n"
     ]
    },
    {
     "name": "stderr",
     "output_type": "stream",
     "text": [
      "0.0s - loss: 2746.771 - acc: 0.000 - mae: 2746.770:   0%|          | 0/1446 [00:00<?, ?it/s]"
     ]
    },
    {
     "name": "stdout",
     "output_type": "stream",
     "text": [
      "\n",
      "Epoch: 18/200 - LR: 0.000300\n"
     ]
    },
    {
     "name": "stderr",
     "output_type": "stream",
     "text": [
      "60.8s - loss: 858.156 - acc: 0.000 - mae: 858.151: 100%|██████████| 1446/1446 [01:00<00:00, 23.77it/s]    \n",
      "  0%|          | 0/1446 [00:00<?, ?it/s]"
     ]
    },
    {
     "name": "stdout",
     "output_type": "stream",
     "text": [
      "train loss: 1746.083 - train acc: 25.934 - val loss: 1521.426 - val acc: 24.839 - val err: 75.161- train mae: 1745.854 - val mae: 1521.418\n",
      "\n",
      "Epoch: 19/200 - LR: 0.000300\n"
     ]
    },
    {
     "name": "stderr",
     "output_type": "stream",
     "text": [
      "62.5s - loss: 266.549 - acc: 0.000 - mae: 266.549: 100%|██████████| 1446/1446 [01:02<00:00, 23.15it/s]    \n",
      "  0%|          | 0/1446 [00:00<?, ?it/s]"
     ]
    },
    {
     "name": "stdout",
     "output_type": "stream",
     "text": [
      "train loss: 1740.885 - train acc: 25.726 - val loss: 1754.841 - val acc: 25.645 - val err: 74.355- train mae: 1740.824 - val mae: 1754.827\n",
      "\n",
      "Epoch: 20/200 - LR: 0.000300\n"
     ]
    },
    {
     "name": "stderr",
     "output_type": "stream",
     "text": [
      "61.8s - loss: 436.428 - acc: 0.000 - mae: 436.422: 100%|██████████| 1446/1446 [01:01<00:00, 23.38it/s]    \n",
      "0.0s - loss: 494.398 - acc: 0.000 - mae: 494.397:   0%|          | 0/1446 [00:00<?, ?it/s]"
     ]
    },
    {
     "name": "stdout",
     "output_type": "stream",
     "text": [
      "train loss: 1742.591 - train acc: 26.003 - val loss: 1552.369 - val acc: 24.677 - val err: 75.323- train mae: 1742.563 - val mae: 1552.364\n",
      "\n",
      "Epoch: 21/200 - LR: 0.000300\n"
     ]
    },
    {
     "name": "stderr",
     "output_type": "stream",
     "text": [
      "62.7s - loss: 2063.754 - acc: 0.000 - mae: 2063.751: 100%|██████████| 1446/1446 [01:02<00:00, 23.06it/s]  \n",
      "  0%|          | 0/1446 [00:00<?, ?it/s]"
     ]
    },
    {
     "name": "stdout",
     "output_type": "stream",
     "text": [
      "train loss: 1753.242 - train acc: 25.864 - val loss: 1518.505 - val acc: 24.194 - val err: 75.806- train mae: 1753.136 - val mae: 1518.502\n",
      "\n",
      "Epoch: 22/200 - LR: 0.000300\n"
     ]
    },
    {
     "name": "stderr",
     "output_type": "stream",
     "text": [
      "61.0s - loss: 115.649 - acc: 0.000 - mae: 115.649: 100%|██████████| 1446/1446 [01:01<00:00, 23.70it/s]    \n",
      "  0%|          | 0/1446 [00:00<?, ?it/s]"
     ]
    },
    {
     "name": "stdout",
     "output_type": "stream",
     "text": [
      "train loss: 1749.849 - train acc: 25.864 - val loss: 1507.143 - val acc: 24.677 - val err: 75.323- train mae: 1749.842 - val mae: 1507.103\n",
      "\n",
      "Epoch: 23/200 - LR: 0.000300\n"
     ]
    },
    {
     "name": "stderr",
     "output_type": "stream",
     "text": [
      "60.7s - loss: 485.086 - acc: 100.000 - mae: 485.081: 100%|██████████| 1446/1446 [01:00<00:00, 23.81it/s]  \n",
      "  0%|          | 0/1446 [00:00<?, ?it/s]"
     ]
    },
    {
     "name": "stdout",
     "output_type": "stream",
     "text": [
      "train loss: 1733.345 - train acc: 26.210 - val loss: 1505.048 - val acc: 24.355 - val err: 75.645- train mae: 1732.992 - val mae: 1505.042\n",
      "\n",
      "Epoch: 24/200 - LR: 0.000300\n"
     ]
    },
    {
     "name": "stderr",
     "output_type": "stream",
     "text": [
      "60.7s - loss: 90.519 - acc: 0.000 - mae: 90.516: 100%|██████████| 1446/1446 [01:00<00:00, 23.82it/s]      \n",
      "0.0s - loss: 785.095 - acc: 0.000 - mae: 785.094:   0%|          | 0/1446 [00:00<?, ?it/s]"
     ]
    },
    {
     "name": "stdout",
     "output_type": "stream",
     "text": [
      "train loss: 1732.643 - train acc: 26.072 - val loss: 1560.239 - val acc: 25.484 - val err: 74.516- train mae: 1732.639 - val mae: 1560.234\n",
      "\n",
      "Epoch: 25/200 - LR: 0.000300\n"
     ]
    },
    {
     "name": "stderr",
     "output_type": "stream",
     "text": [
      "61.2s - loss: 169.740 - acc: 100.000 - mae: 169.737: 100%|██████████| 1446/1446 [01:01<00:00, 23.63it/s]  \n"
     ]
    },
    {
     "name": "stdout",
     "output_type": "stream",
     "text": [
      "train loss: 1725.008 - train acc: 25.864 - val loss: 1502.168 - val acc: 25.968 - val err: 74.032- train mae: 1725.002 - val mae: 1502.167 [*]\n"
     ]
    },
    {
     "name": "stderr",
     "output_type": "stream",
     "text": [
      "0.0s - loss: 1.591 - acc: 0.000 - mae: 1.585:   0%|          | 0/1446 [00:00<?, ?it/s]"
     ]
    },
    {
     "name": "stdout",
     "output_type": "stream",
     "text": [
      "\n",
      "Epoch: 26/200 - LR: 0.000300\n"
     ]
    },
    {
     "name": "stderr",
     "output_type": "stream",
     "text": [
      "60.6s - loss: 59.670 - acc: 0.000 - mae: 59.669: 100%|██████████| 1446/1446 [01:00<00:00, 23.84it/s]      \n",
      "  0%|          | 0/1446 [00:00<?, ?it/s]"
     ]
    },
    {
     "name": "stdout",
     "output_type": "stream",
     "text": [
      "train loss: 1728.611 - train acc: 26.418 - val loss: 1511.542 - val acc: 24.032 - val err: 75.968- train mae: 1728.592 - val mae: 1511.540\n",
      "\n",
      "Epoch: 27/200 - LR: 0.000300\n"
     ]
    },
    {
     "name": "stderr",
     "output_type": "stream",
     "text": [
      "62.5s - loss: 19.473 - acc: 0.000 - mae: 19.473: 100%|██████████| 1446/1446 [01:02<00:00, 23.12it/s]      \n"
     ]
    },
    {
     "name": "stdout",
     "output_type": "stream",
     "text": [
      "train loss: 1721.641 - train acc: 24.896 - val loss: 1484.191 - val acc: 24.355 - val err: 75.645- train mae: 1721.559 - val mae: 1484.190 [*]\n"
     ]
    },
    {
     "name": "stderr",
     "output_type": "stream",
     "text": [
      "0.2s - loss: 335.345 - acc: 0.000 - mae: 335.345:   0%|          | 2/1446 [00:00<02:11, 10.96it/s]"
     ]
    },
    {
     "name": "stdout",
     "output_type": "stream",
     "text": [
      "\n",
      "Epoch: 28/200 - LR: 0.000300\n"
     ]
    },
    {
     "name": "stderr",
     "output_type": "stream",
     "text": [
      "61.1s - loss: 122.484 - acc: 0.000 - mae: 122.484: 100%|██████████| 1446/1446 [01:01<00:00, 23.68it/s]    \n",
      "0.0s - loss: 35.823 - acc: 0.000 - mae: 35.823:   0%|          | 0/1446 [00:00<?, ?it/s]"
     ]
    },
    {
     "name": "stdout",
     "output_type": "stream",
     "text": [
      "train loss: 1728.512 - train acc: 25.242 - val loss: 1516.366 - val acc: 24.032 - val err: 75.968- train mae: 1728.473 - val mae: 1516.363\n",
      "\n",
      "Epoch: 29/200 - LR: 0.000300\n"
     ]
    },
    {
     "name": "stderr",
     "output_type": "stream",
     "text": [
      "60.0s - loss: 252.223 - acc: 0.000 - mae: 252.223: 100%|██████████| 1446/1446 [00:59<00:00, 24.11it/s]    \n",
      "  0%|          | 0/1446 [00:00<?, ?it/s]"
     ]
    },
    {
     "name": "stdout",
     "output_type": "stream",
     "text": [
      "train loss: 1718.954 - train acc: 25.104 - val loss: 1518.345 - val acc: 24.194 - val err: 75.806- train mae: 1718.885 - val mae: 1518.344\n",
      "\n",
      "Epoch: 30/200 - LR: 0.000300\n"
     ]
    },
    {
     "name": "stderr",
     "output_type": "stream",
     "text": [
      "60.1s - loss: 909.958 - acc: 0.000 - mae: 909.953: 100%|██████████| 1446/1446 [01:00<00:00, 24.08it/s]    \n",
      "  0%|          | 0/1446 [00:00<?, ?it/s]"
     ]
    },
    {
     "name": "stdout",
     "output_type": "stream",
     "text": [
      "train loss: 1724.291 - train acc: 25.864 - val loss: 1511.127 - val acc: 25.323 - val err: 74.677- train mae: 1724.178 - val mae: 1511.127\n",
      "\n",
      "Epoch: 31/200 - LR: 0.000300\n"
     ]
    },
    {
     "name": "stderr",
     "output_type": "stream",
     "text": [
      "61.3s - loss: 62.579 - acc: 0.000 - mae: 62.578: 100%|██████████| 1446/1446 [01:01<00:00, 23.59it/s]      \n",
      "0.0s - loss: 4165.915 - acc: 0.000 - mae: 4165.912:   0%|          | 0/1446 [00:00<?, ?it/s]"
     ]
    },
    {
     "name": "stdout",
     "output_type": "stream",
     "text": [
      "train loss: 1737.474 - train acc: 26.279 - val loss: 1502.770 - val acc: 24.032 - val err: 75.968- train mae: 1737.460 - val mae: 1502.767\n",
      "\n",
      "Epoch: 32/200 - LR: 0.000300\n"
     ]
    },
    {
     "name": "stderr",
     "output_type": "stream",
     "text": [
      "61.4s - loss: 343.781 - acc: 0.000 - mae: 343.780: 100%|██████████| 1446/1446 [01:01<00:00, 23.55it/s]    \n",
      "  0%|          | 0/1446 [00:00<?, ?it/s]"
     ]
    },
    {
     "name": "stdout",
     "output_type": "stream",
     "text": [
      "train loss: 1730.940 - train acc: 26.141 - val loss: 1523.851 - val acc: 25.484 - val err: 74.516- train mae: 1730.925 - val mae: 1523.848\n",
      "\n",
      "Epoch: 33/200 - LR: 0.000300\n"
     ]
    },
    {
     "name": "stderr",
     "output_type": "stream",
     "text": [
      "61.5s - loss: 33.148 - acc: 0.000 - mae: 33.146: 100%|██████████| 1446/1446 [01:01<00:00, 23.50it/s]      \n",
      "  0%|          | 0/1446 [00:00<?, ?it/s]"
     ]
    },
    {
     "name": "stdout",
     "output_type": "stream",
     "text": [
      "train loss: 1732.216 - train acc: 25.795 - val loss: 1512.087 - val acc: 24.516 - val err: 75.484- train mae: 1731.881 - val mae: 1512.086\n",
      "\n",
      "Epoch: 34/200 - LR: 0.000300\n"
     ]
    },
    {
     "name": "stderr",
     "output_type": "stream",
     "text": [
      "61.9s - loss: 952.870 - acc: 0.000 - mae: 952.867: 100%|██████████| 1446/1446 [01:01<00:00, 23.38it/s]    \n"
     ]
    },
    {
     "name": "stdout",
     "output_type": "stream",
     "text": [
      "train loss: 1735.185 - train acc: 25.173 - val loss: 1472.267 - val acc: 25.161 - val err: 74.839- train mae: 1735.182 - val mae: 1472.265 [*]\n"
     ]
    },
    {
     "name": "stderr",
     "output_type": "stream",
     "text": [
      "0.0s - loss: 609.183 - acc: 100.000 - mae: 609.183:   0%|          | 0/1446 [00:00<?, ?it/s]"
     ]
    },
    {
     "name": "stdout",
     "output_type": "stream",
     "text": [
      "\n",
      "Epoch: 35/200 - LR: 0.000300\n"
     ]
    },
    {
     "name": "stderr",
     "output_type": "stream",
     "text": [
      "61.9s - loss: 562.320 - acc: 100.000 - mae: 562.320: 100%|██████████| 1446/1446 [01:01<00:00, 23.35it/s]  \n"
     ]
    },
    {
     "name": "stdout",
     "output_type": "stream",
     "text": [
      "train loss: 1733.480 - train acc: 25.104 - val loss: 1457.514 - val acc: 25.000 - val err: 75.000- train mae: 1733.471 - val mae: 1457.505 [*]\n"
     ]
    },
    {
     "name": "stderr",
     "output_type": "stream",
     "text": [
      "0.2s - loss: 147.665 - acc: 0.000 - mae: 147.665:   0%|          | 2/1446 [00:00<02:18, 10.44it/s]"
     ]
    },
    {
     "name": "stdout",
     "output_type": "stream",
     "text": [
      "\n",
      "Epoch: 36/200 - LR: 0.000300\n"
     ]
    },
    {
     "name": "stderr",
     "output_type": "stream",
     "text": [
      "60.9s - loss: 5835.943 - acc: 0.000 - mae: 5835.926: 100%|██████████| 1446/1446 [01:00<00:00, 23.75it/s]  \n",
      "  0%|          | 0/1446 [00:00<?, ?it/s]"
     ]
    },
    {
     "name": "stdout",
     "output_type": "stream",
     "text": [
      "train loss: 1722.452 - train acc: 24.481 - val loss: 1535.844 - val acc: 23.871 - val err: 76.129- train mae: 1722.340 - val mae: 1535.835\n",
      "\n",
      "Epoch: 37/200 - LR: 0.000300\n"
     ]
    },
    {
     "name": "stderr",
     "output_type": "stream",
     "text": [
      "59.8s - loss: 970.662 - acc: 0.000 - mae: 970.660: 100%|██████████| 1446/1446 [00:59<00:00, 24.19it/s]    \n",
      "  0%|          | 0/1446 [00:00<?, ?it/s]"
     ]
    },
    {
     "name": "stdout",
     "output_type": "stream",
     "text": [
      "train loss: 1719.386 - train acc: 24.481 - val loss: 1466.033 - val acc: 25.323 - val err: 74.677- train mae: 1719.318 - val mae: 1466.028\n",
      "\n",
      "Epoch: 38/200 - LR: 0.000300\n"
     ]
    },
    {
     "name": "stderr",
     "output_type": "stream",
     "text": [
      "60.5s - loss: 5.875 - acc: 100.000 - mae: 5.875: 100%|██████████| 1446/1446 [01:00<00:00, 23.90it/s]      \n",
      "0.0s - loss: 130.531 - acc: 0.000 - mae: 130.530:   0%|          | 0/1446 [00:00<?, ?it/s]"
     ]
    },
    {
     "name": "stdout",
     "output_type": "stream",
     "text": [
      "train loss: 1704.125 - train acc: 25.380 - val loss: 1492.392 - val acc: 23.387 - val err: 76.613- train mae: 1704.105 - val mae: 1492.391\n",
      "\n",
      "Epoch: 39/200 - LR: 0.000300\n"
     ]
    },
    {
     "name": "stderr",
     "output_type": "stream",
     "text": [
      "61.1s - loss: 801.627 - acc: 0.000 - mae: 801.510: 100%|██████████| 1446/1446 [01:01<00:00, 23.65it/s]    \n",
      "  0%|          | 0/1446 [00:00<?, ?it/s]"
     ]
    },
    {
     "name": "stdout",
     "output_type": "stream",
     "text": [
      "train loss: 1706.724 - train acc: 25.795 - val loss: 1564.190 - val acc: 25.806 - val err: 74.194- train mae: 1706.698 - val mae: 1563.996\n",
      "\n",
      "Epoch: 40/200 - LR: 0.000300\n"
     ]
    },
    {
     "name": "stderr",
     "output_type": "stream",
     "text": [
      "59.9s - loss: 991.281 - acc: 0.000 - mae: 991.261: 100%|██████████| 1446/1446 [00:59<00:00, 24.15it/s]    \n",
      "  0%|          | 0/1446 [00:00<?, ?it/s]"
     ]
    },
    {
     "name": "stdout",
     "output_type": "stream",
     "text": [
      "train loss: 1700.157 - train acc: 25.380 - val loss: 1462.926 - val acc: 23.226 - val err: 76.774- train mae: 1700.090 - val mae: 1462.912\n",
      "\n",
      "Epoch: 41/200 - LR: 0.000300\n"
     ]
    },
    {
     "name": "stderr",
     "output_type": "stream",
     "text": [
      "60.1s - loss: 106.744 - acc: 0.000 - mae: 106.742: 100%|██████████| 1446/1446 [01:00<00:00, 24.04it/s]    \n",
      "  0%|          | 0/1446 [00:00<?, ?it/s]"
     ]
    },
    {
     "name": "stdout",
     "output_type": "stream",
     "text": [
      "train loss: 1691.832 - train acc: 24.689 - val loss: 1490.684 - val acc: 24.839 - val err: 75.161- train mae: 1691.730 - val mae: 1490.681\n",
      "\n",
      "Epoch: 42/200 - LR: 0.000300\n"
     ]
    },
    {
     "name": "stderr",
     "output_type": "stream",
     "text": [
      "61.7s - loss: 1606.410 - acc: 0.000 - mae: 1606.210: 100%|██████████| 1446/1446 [01:01<00:00, 23.43it/s]  \n"
     ]
    },
    {
     "name": "stdout",
     "output_type": "stream",
     "text": [
      "train loss: 1700.148 - train acc: 24.412 - val loss: 1455.402 - val acc: 25.484 - val err: 74.516- train mae: 1699.882 - val mae: 1455.401 [*]\n"
     ]
    },
    {
     "name": "stderr",
     "output_type": "stream",
     "text": [
      "0.2s - loss: 547.711 - acc: 100.000 - mae: 547.677:   0%|          | 2/1446 [00:00<01:29, 16.21it/s]"
     ]
    },
    {
     "name": "stdout",
     "output_type": "stream",
     "text": [
      "\n",
      "Epoch: 43/200 - LR: 0.000300\n"
     ]
    },
    {
     "name": "stderr",
     "output_type": "stream",
     "text": [
      "59.9s - loss: 5395.189 - acc: 0.000 - mae: 5395.189: 100%|██████████| 1446/1446 [00:59<00:00, 24.12it/s]  \n",
      "  0%|          | 0/1446 [00:00<?, ?it/s]"
     ]
    },
    {
     "name": "stdout",
     "output_type": "stream",
     "text": [
      "train loss: 1701.147 - train acc: 24.896 - val loss: 1468.263 - val acc: 23.871 - val err: 76.129- train mae: 1701.143 - val mae: 1468.262\n",
      "\n",
      "Epoch: 44/200 - LR: 0.000300\n"
     ]
    },
    {
     "name": "stderr",
     "output_type": "stream",
     "text": [
      "61.6s - loss: 12488.062 - acc: 0.000 - mae: 12488.062: 100%|██████████| 1446/1446 [01:01<00:00, 23.47it/s]\n",
      "  0%|          | 0/1446 [00:00<?, ?it/s]"
     ]
    },
    {
     "name": "stdout",
     "output_type": "stream",
     "text": [
      "train loss: 1700.374 - train acc: 25.242 - val loss: 1517.582 - val acc: 21.935 - val err: 78.065- train mae: 1700.321 - val mae: 1517.582\n",
      "\n",
      "Epoch: 45/200 - LR: 0.000300\n"
     ]
    },
    {
     "name": "stderr",
     "output_type": "stream",
     "text": [
      "60.5s - loss: 793.926 - acc: 0.000 - mae: 793.925: 100%|██████████| 1446/1446 [01:00<00:00, 23.89it/s]    \n",
      "0.0s - loss: 331.593 - acc: 0.000 - mae: 331.593:   0%|          | 0/1446 [00:00<?, ?it/s]"
     ]
    },
    {
     "name": "stdout",
     "output_type": "stream",
     "text": [
      "train loss: 1704.354 - train acc: 26.349 - val loss: 1490.284 - val acc: 23.548 - val err: 76.452- train mae: 1704.348 - val mae: 1490.282\n",
      "\n",
      "Epoch: 46/200 - LR: 0.000300\n"
     ]
    },
    {
     "name": "stderr",
     "output_type": "stream",
     "text": [
      "59.9s - loss: 59.585 - acc: 0.000 - mae: 59.583: 100%|██████████| 1446/1446 [00:59<00:00, 24.14it/s]      \n",
      "0.0s - loss: 272.080 - acc: 100.000 - mae: 272.063:   0%|          | 0/1446 [00:00<?, ?it/s]"
     ]
    },
    {
     "name": "stdout",
     "output_type": "stream",
     "text": [
      "train loss: 1696.732 - train acc: 25.173 - val loss: 1501.488 - val acc: 23.871 - val err: 76.129- train mae: 1696.664 - val mae: 1501.281\n",
      "\n",
      "Epoch: 47/200 - LR: 0.000030\n"
     ]
    },
    {
     "name": "stderr",
     "output_type": "stream",
     "text": [
      "62.4s - loss: 1125.142 - acc: 0.000 - mae: 1125.134: 100%|██████████| 1446/1446 [01:02<00:00, 23.18it/s]  \n",
      "  0%|          | 0/1446 [00:00<?, ?it/s]"
     ]
    },
    {
     "name": "stdout",
     "output_type": "stream",
     "text": [
      "train loss: 1643.970 - train acc: 25.726 - val loss: 1512.860 - val acc: 24.355 - val err: 75.645- train mae: 1643.967 - val mae: 1512.859\n",
      "\n",
      "Epoch: 48/200 - LR: 0.000030\n"
     ]
    },
    {
     "name": "stderr",
     "output_type": "stream",
     "text": [
      "60.1s - loss: 110.598 - acc: 0.000 - mae: 110.598: 100%|██████████| 1446/1446 [01:00<00:00, 24.04it/s]    \n",
      "  0%|          | 0/1446 [00:00<?, ?it/s]"
     ]
    },
    {
     "name": "stdout",
     "output_type": "stream",
     "text": [
      "train loss: 1652.370 - train acc: 25.380 - val loss: 1502.618 - val acc: 25.161 - val err: 74.839- train mae: 1652.369 - val mae: 1502.616\n",
      "\n",
      "Epoch: 49/200 - LR: 0.000030\n"
     ]
    },
    {
     "name": "stderr",
     "output_type": "stream",
     "text": [
      "60.2s - loss: 106.239 - acc: 0.000 - mae: 106.240: 100%|██████████| 1446/1446 [01:00<00:00, 24.03it/s]    \n",
      "0.0s - loss: 2447.470 - acc: 0.000 - mae: 2447.470:   0%|          | 0/1446 [00:00<?, ?it/s]"
     ]
    },
    {
     "name": "stdout",
     "output_type": "stream",
     "text": [
      "train loss: 1620.939 - train acc: 24.412 - val loss: 1471.236 - val acc: 24.677 - val err: 75.323- train mae: 1620.936 - val mae: 1471.235\n",
      "\n",
      "Epoch: 50/200 - LR: 0.000030\n"
     ]
    },
    {
     "name": "stderr",
     "output_type": "stream",
     "text": [
      "58.5s - loss: 322.724 - acc: 0.000 - mae: 322.724: 100%|██████████| 1446/1446 [00:58<00:00, 24.71it/s]    \n",
      "0.0s - loss: 128.760 - acc: 0.000 - mae: 128.760:   0%|          | 0/1446 [00:00<?, ?it/s]"
     ]
    },
    {
     "name": "stdout",
     "output_type": "stream",
     "text": [
      "train loss: 1635.278 - train acc: 25.311 - val loss: 1456.569 - val acc: 23.065 - val err: 76.935- train mae: 1635.275 - val mae: 1456.568\n",
      "\n",
      "Epoch: 51/200 - LR: 0.000030\n"
     ]
    },
    {
     "name": "stderr",
     "output_type": "stream",
     "text": [
      "60.3s - loss: 1418.032 - acc: 0.000 - mae: 1418.031: 100%|██████████| 1446/1446 [01:00<00:00, 24.00it/s]  \n"
     ]
    },
    {
     "name": "stdout",
     "output_type": "stream",
     "text": [
      "train loss: 1607.750 - train acc: 23.237 - val loss: 1443.342 - val acc: 25.000 - val err: 75.000- train mae: 1607.743 - val mae: 1443.342 [*]\n"
     ]
    },
    {
     "name": "stderr",
     "output_type": "stream",
     "text": [
      "0.2s - loss: 697.900 - acc: 0.000 - mae: 697.900:   0%|          | 3/1446 [00:00<01:23, 17.35it/s]  "
     ]
    },
    {
     "name": "stdout",
     "output_type": "stream",
     "text": [
      "\n",
      "Epoch: 52/200 - LR: 0.000030\n"
     ]
    },
    {
     "name": "stderr",
     "output_type": "stream",
     "text": [
      "60.8s - loss: 175.779 - acc: 100.000 - mae: 175.778: 100%|██████████| 1446/1446 [01:00<00:00, 23.77it/s]  \n",
      "0.0s - loss: 820.555 - acc: 100.000 - mae: 820.555:   0%|          | 0/1446 [00:00<?, ?it/s]"
     ]
    },
    {
     "name": "stdout",
     "output_type": "stream",
     "text": [
      "train loss: 1611.111 - train acc: 25.450 - val loss: 1463.960 - val acc: 24.516 - val err: 75.484- train mae: 1611.110 - val mae: 1463.959\n",
      "\n",
      "Epoch: 53/200 - LR: 0.000030\n"
     ]
    },
    {
     "name": "stderr",
     "output_type": "stream",
     "text": [
      "59.0s - loss: 975.495 - acc: 0.000 - mae: 975.487: 100%|██████████| 1446/1446 [00:58<00:00, 24.52it/s]    \n",
      "  0%|          | 0/1446 [00:00<?, ?it/s]"
     ]
    },
    {
     "name": "stdout",
     "output_type": "stream",
     "text": [
      "train loss: 1629.050 - train acc: 24.274 - val loss: 1507.758 - val acc: 24.355 - val err: 75.645- train mae: 1629.047 - val mae: 1507.755\n",
      "\n",
      "Epoch: 54/200 - LR: 0.000030\n"
     ]
    },
    {
     "name": "stderr",
     "output_type": "stream",
     "text": [
      "61.0s - loss: 107.953 - acc: 0.000 - mae: 107.952: 100%|██████████| 1446/1446 [01:00<00:00, 23.72it/s]    \n",
      "  0%|          | 0/1446 [00:00<?, ?it/s]"
     ]
    },
    {
     "name": "stdout",
     "output_type": "stream",
     "text": [
      "train loss: 1598.231 - train acc: 25.588 - val loss: 1491.703 - val acc: 25.323 - val err: 74.677- train mae: 1598.229 - val mae: 1491.702\n",
      "\n",
      "Epoch: 55/200 - LR: 0.000030\n"
     ]
    },
    {
     "name": "stderr",
     "output_type": "stream",
     "text": [
      "60.8s - loss: 518.980 - acc: 0.000 - mae: 518.976: 100%|██████████| 1446/1446 [01:00<00:00, 23.76it/s]    \n",
      "0.0s - loss: 91.325 - acc: 100.000 - mae: 91.325:   0%|          | 0/1446 [00:00<?, ?it/s]"
     ]
    },
    {
     "name": "stdout",
     "output_type": "stream",
     "text": [
      "train loss: 1628.010 - train acc: 25.380 - val loss: 1456.368 - val acc: 24.355 - val err: 75.645- train mae: 1628.009 - val mae: 1456.367\n",
      "\n",
      "Epoch: 56/200 - LR: 0.000030\n"
     ]
    },
    {
     "name": "stderr",
     "output_type": "stream",
     "text": [
      "60.8s - loss: 2652.672 - acc: 0.000 - mae: 2652.671: 100%|██████████| 1446/1446 [01:00<00:00, 23.79it/s]  \n",
      "0.0s - loss: 536.843 - acc: 0.000 - mae: 536.842:   0%|          | 0/1446 [00:00<?, ?it/s]"
     ]
    },
    {
     "name": "stdout",
     "output_type": "stream",
     "text": [
      "train loss: 1627.554 - train acc: 24.205 - val loss: 1465.244 - val acc: 24.194 - val err: 75.806- train mae: 1627.551 - val mae: 1465.244\n",
      "\n",
      "Epoch: 57/200 - LR: 0.000030\n"
     ]
    },
    {
     "name": "stderr",
     "output_type": "stream",
     "text": [
      "59.6s - loss: 300.655 - acc: 100.000 - mae: 300.648: 100%|██████████| 1446/1446 [00:59<00:00, 24.25it/s]  \n",
      "  0%|          | 0/1446 [00:00<?, ?it/s]"
     ]
    },
    {
     "name": "stdout",
     "output_type": "stream",
     "text": [
      "train loss: 1602.827 - train acc: 24.136 - val loss: 1454.270 - val acc: 23.710 - val err: 76.290- train mae: 1602.826 - val mae: 1454.244\n",
      "\n",
      "Epoch: 58/200 - LR: 0.000030\n"
     ]
    },
    {
     "name": "stderr",
     "output_type": "stream",
     "text": [
      "59.4s - loss: 425.634 - acc: 0.000 - mae: 425.634: 100%|██████████| 1446/1446 [00:59<00:00, 24.36it/s]    \n",
      "  0%|          | 0/1446 [00:00<?, ?it/s]"
     ]
    },
    {
     "name": "stdout",
     "output_type": "stream",
     "text": [
      "train loss: 1601.761 - train acc: 25.657 - val loss: 1446.463 - val acc: 23.871 - val err: 76.129- train mae: 1601.758 - val mae: 1446.460\n",
      "\n",
      "Epoch: 59/200 - LR: 0.000030\n"
     ]
    },
    {
     "name": "stderr",
     "output_type": "stream",
     "text": [
      "60.7s - loss: 1275.902 - acc: 0.000 - mae: 1275.901: 100%|██████████| 1446/1446 [01:00<00:00, 23.83it/s]  \n",
      "  0%|          | 0/1446 [00:00<?, ?it/s]"
     ]
    },
    {
     "name": "stdout",
     "output_type": "stream",
     "text": [
      "train loss: 1596.133 - train acc: 25.035 - val loss: 1457.720 - val acc: 23.871 - val err: 76.129- train mae: 1596.130 - val mae: 1457.717\n",
      "\n",
      "Epoch: 60/200 - LR: 0.000030\n"
     ]
    },
    {
     "name": "stderr",
     "output_type": "stream",
     "text": [
      "60.9s - loss: 154.473 - acc: 100.000 - mae: 154.473: 100%|██████████| 1446/1446 [01:00<00:00, 23.75it/s]  \n",
      "  0%|          | 0/1446 [00:00<?, ?it/s]"
     ]
    },
    {
     "name": "stdout",
     "output_type": "stream",
     "text": [
      "train loss: 1583.175 - train acc: 24.896 - val loss: 1491.236 - val acc: 21.935 - val err: 78.065- train mae: 1583.174 - val mae: 1491.236\n",
      "\n",
      "Epoch: 61/200 - LR: 0.000030\n"
     ]
    },
    {
     "name": "stderr",
     "output_type": "stream",
     "text": [
      "60.2s - loss: 324.642 - acc: 0.000 - mae: 324.642: 100%|██████████| 1446/1446 [01:00<00:00, 24.02it/s]    \n",
      "  0%|          | 0/1446 [00:00<?, ?it/s]"
     ]
    },
    {
     "name": "stdout",
     "output_type": "stream",
     "text": [
      "train loss: 1576.575 - train acc: 25.173 - val loss: 1483.893 - val acc: 23.710 - val err: 76.290- train mae: 1576.571 - val mae: 1483.892\n",
      "\n",
      "Epoch: 62/200 - LR: 0.000030\n"
     ]
    },
    {
     "name": "stderr",
     "output_type": "stream",
     "text": [
      "60.8s - loss: 806.378 - acc: 0.000 - mae: 806.378: 100%|██████████| 1446/1446 [01:00<00:00, 23.78it/s]    \n",
      "  0%|          | 0/1446 [00:00<?, ?it/s]"
     ]
    },
    {
     "name": "stdout",
     "output_type": "stream",
     "text": [
      "train loss: 1589.371 - train acc: 24.481 - val loss: 1455.633 - val acc: 22.742 - val err: 77.258- train mae: 1589.366 - val mae: 1455.632\n",
      "\n",
      "Epoch: 63/200 - LR: 0.000030\n"
     ]
    },
    {
     "name": "stderr",
     "output_type": "stream",
     "text": [
      "61.3s - loss: 457.118 - acc: 0.000 - mae: 457.116: 100%|██████████| 1446/1446 [01:01<00:00, 23.59it/s]    \n",
      "  0%|          | 0/1446 [00:00<?, ?it/s]"
     ]
    },
    {
     "name": "stdout",
     "output_type": "stream",
     "text": [
      "train loss: 1599.908 - train acc: 24.689 - val loss: 1479.012 - val acc: 23.871 - val err: 76.129- train mae: 1599.907 - val mae: 1479.009\n",
      "\n",
      "Epoch: 64/200 - LR: 0.000030\n"
     ]
    },
    {
     "name": "stderr",
     "output_type": "stream",
     "text": [
      "60.1s - loss: 36.271 - acc: 0.000 - mae: 36.271: 100%|██████████| 1446/1446 [01:00<00:00, 24.06it/s]      \n",
      "0.0s - loss: 2252.531 - acc: 0.000 - mae: 2252.531:   0%|          | 0/1446 [00:00<?, ?it/s]"
     ]
    },
    {
     "name": "stdout",
     "output_type": "stream",
     "text": [
      "train loss: 1608.899 - train acc: 24.965 - val loss: 1507.844 - val acc: 23.387 - val err: 76.613- train mae: 1608.895 - val mae: 1507.844\n",
      "\n",
      "Epoch: 65/200 - LR: 0.000030\n"
     ]
    },
    {
     "name": "stderr",
     "output_type": "stream",
     "text": [
      "61.6s - loss: 238.477 - acc: 0.000 - mae: 238.476: 100%|██████████| 1446/1446 [01:01<00:00, 23.47it/s]    \n",
      "  0%|          | 0/1446 [00:00<?, ?it/s]"
     ]
    },
    {
     "name": "stdout",
     "output_type": "stream",
     "text": [
      "train loss: 1571.266 - train acc: 25.035 - val loss: 1496.654 - val acc: 22.903 - val err: 77.097- train mae: 1571.264 - val mae: 1496.654\n",
      "\n",
      "Epoch: 66/200 - LR: 0.000030\n"
     ]
    },
    {
     "name": "stderr",
     "output_type": "stream",
     "text": [
      "60.4s - loss: 76.237 - acc: 0.000 - mae: 76.237: 100%|██████████| 1446/1446 [01:00<00:00, 23.96it/s]      \n"
     ]
    },
    {
     "name": "stdout",
     "output_type": "stream",
     "text": [
      "train loss: 1591.732 - train acc: 23.790 - val loss: 1441.085 - val acc: 22.419 - val err: 77.581- train mae: 1591.731 - val mae: 1441.085 [*]\n"
     ]
    },
    {
     "name": "stderr",
     "output_type": "stream",
     "text": [
      "0.2s - loss: 29.046 - acc: 0.000 - mae: 29.046:   0%|          | 2/1446 [00:00<02:06, 11.42it/s]"
     ]
    },
    {
     "name": "stdout",
     "output_type": "stream",
     "text": [
      "\n",
      "Epoch: 67/200 - LR: 0.000030\n"
     ]
    },
    {
     "name": "stderr",
     "output_type": "stream",
     "text": [
      "60.2s - loss: 454.379 - acc: 100.000 - mae: 454.379: 100%|██████████| 1446/1446 [01:00<00:00, 24.04it/s]  \n",
      "  0%|          | 0/1446 [00:00<?, ?it/s]"
     ]
    },
    {
     "name": "stdout",
     "output_type": "stream",
     "text": [
      "train loss: 1583.325 - train acc: 24.758 - val loss: 1446.156 - val acc: 22.903 - val err: 77.097- train mae: 1583.321 - val mae: 1446.155\n",
      "\n",
      "Epoch: 68/200 - LR: 0.000003\n"
     ]
    },
    {
     "name": "stderr",
     "output_type": "stream",
     "text": [
      "61.3s - loss: 1055.479 - acc: 0.000 - mae: 1055.478: 100%|██████████| 1446/1446 [01:01<00:00, 23.59it/s]  \n",
      "  0%|          | 0/1446 [00:00<?, ?it/s]"
     ]
    },
    {
     "name": "stdout",
     "output_type": "stream",
     "text": [
      "train loss: 1560.723 - train acc: 24.412 - val loss: 1476.093 - val acc: 25.323 - val err: 74.677- train mae: 1560.723 - val mae: 1476.093\n",
      "\n",
      "Epoch: 69/200 - LR: 0.000003\n"
     ]
    },
    {
     "name": "stderr",
     "output_type": "stream",
     "text": [
      "60.4s - loss: 10663.938 - acc: 0.000 - mae: 10663.938: 100%|██████████| 1446/1446 [01:00<00:00, 23.96it/s]\n",
      "  0%|          | 0/1446 [00:00<?, ?it/s]"
     ]
    },
    {
     "name": "stdout",
     "output_type": "stream",
     "text": [
      "train loss: 1587.889 - train acc: 24.620 - val loss: 1461.738 - val acc: 23.387 - val err: 76.613- train mae: 1587.889 - val mae: 1461.737\n",
      "\n",
      "Epoch: 70/200 - LR: 0.000003\n"
     ]
    },
    {
     "name": "stderr",
     "output_type": "stream",
     "text": [
      "61.2s - loss: 142.194 - acc: 0.000 - mae: 142.193: 100%|██████████| 1446/1446 [01:01<00:00, 23.62it/s]    \n",
      "0.0s - loss: 7397.537 - acc: 0.000 - mae: 7397.537:   0%|          | 0/1446 [00:00<?, ?it/s]"
     ]
    },
    {
     "name": "stdout",
     "output_type": "stream",
     "text": [
      "train loss: 1595.519 - train acc: 24.274 - val loss: 1480.720 - val acc: 23.065 - val err: 76.935- train mae: 1595.519 - val mae: 1480.719\n",
      "\n",
      "Epoch: 71/200 - LR: 0.000003\n"
     ]
    },
    {
     "name": "stderr",
     "output_type": "stream",
     "text": [
      "59.4s - loss: 107.974 - acc: 100.000 - mae: 107.975: 100%|██████████| 1446/1446 [00:59<00:00, 24.34it/s]  \n",
      "  0%|          | 0/1446 [00:00<?, ?it/s]"
     ]
    },
    {
     "name": "stdout",
     "output_type": "stream",
     "text": [
      "train loss: 1573.285 - train acc: 24.343 - val loss: 1489.931 - val acc: 21.935 - val err: 78.065- train mae: 1573.285 - val mae: 1489.931\n",
      "\n",
      "Epoch: 72/200 - LR: 0.000003\n"
     ]
    },
    {
     "name": "stderr",
     "output_type": "stream",
     "text": [
      "58.8s - loss: 1475.247 - acc: 0.000 - mae: 1475.246: 100%|██████████| 1446/1446 [00:58<00:00, 24.57it/s]  \n",
      "0.0s - loss: 438.572 - acc: 100.000 - mae: 438.572:   0%|          | 0/1446 [00:00<?, ?it/s]"
     ]
    },
    {
     "name": "stdout",
     "output_type": "stream",
     "text": [
      "train loss: 1552.942 - train acc: 24.689 - val loss: 1463.341 - val acc: 22.903 - val err: 77.097- train mae: 1552.942 - val mae: 1463.341\n",
      "\n",
      "Epoch: 73/200 - LR: 0.000003\n"
     ]
    },
    {
     "name": "stderr",
     "output_type": "stream",
     "text": [
      "59.8s - loss: 164.505 - acc: 0.000 - mae: 164.504: 100%|██████████| 1446/1446 [00:59<00:00, 24.19it/s]    \n",
      "0.0s - loss: 3584.828 - acc: 0.000 - mae: 3584.828:   0%|          | 0/1446 [00:00<?, ?it/s]"
     ]
    },
    {
     "name": "stdout",
     "output_type": "stream",
     "text": [
      "train loss: 1585.156 - train acc: 24.620 - val loss: 1459.197 - val acc: 24.194 - val err: 75.806- train mae: 1585.156 - val mae: 1459.196\n",
      "\n",
      "Epoch: 74/200 - LR: 0.000003\n"
     ]
    },
    {
     "name": "stderr",
     "output_type": "stream",
     "text": [
      "61.4s - loss: 862.845 - acc: 0.000 - mae: 862.845: 100%|██████████| 1446/1446 [01:01<00:00, 23.57it/s]    \n",
      "  0%|          | 0/1446 [00:00<?, ?it/s]"
     ]
    },
    {
     "name": "stdout",
     "output_type": "stream",
     "text": [
      "train loss: 1565.075 - train acc: 23.444 - val loss: 1471.712 - val acc: 25.323 - val err: 74.677- train mae: 1565.075 - val mae: 1471.711\n",
      "\n",
      "Epoch: 75/200 - LR: 0.000003\n"
     ]
    },
    {
     "name": "stderr",
     "output_type": "stream",
     "text": [
      "59.9s - loss: 2633.539 - acc: 0.000 - mae: 2633.540: 100%|██████████| 1446/1446 [00:59<00:00, 24.13it/s]  \n",
      "  0%|          | 0/1446 [00:00<?, ?it/s]"
     ]
    },
    {
     "name": "stdout",
     "output_type": "stream",
     "text": [
      "train loss: 1582.006 - train acc: 24.205 - val loss: 1490.248 - val acc: 24.355 - val err: 75.645- train mae: 1582.005 - val mae: 1490.247\n",
      "\n",
      "Epoch: 76/200 - LR: 0.000003\n"
     ]
    },
    {
     "name": "stderr",
     "output_type": "stream",
     "text": [
      "59.9s - loss: 1130.862 - acc: 100.000 - mae: 1130.863: 100%|██████████| 1446/1446 [00:59<00:00, 24.13it/s]\n",
      "  0%|          | 0/1446 [00:00<?, ?it/s]"
     ]
    },
    {
     "name": "stdout",
     "output_type": "stream",
     "text": [
      "train loss: 1590.312 - train acc: 24.689 - val loss: 1467.177 - val acc: 22.903 - val err: 77.097- train mae: 1590.311 - val mae: 1467.177\n",
      "\n",
      "Epoch: 77/200 - LR: 0.000003\n"
     ]
    },
    {
     "name": "stderr",
     "output_type": "stream",
     "text": [
      "60.5s - loss: 170.465 - acc: 0.000 - mae: 170.465: 100%|██████████| 1446/1446 [01:00<00:00, 23.90it/s]    \n",
      "  0%|          | 0/1446 [00:00<?, ?it/s]"
     ]
    },
    {
     "name": "stdout",
     "output_type": "stream",
     "text": [
      "train loss: 1569.249 - train acc: 23.859 - val loss: 1447.942 - val acc: 25.000 - val err: 75.000- train mae: 1569.248 - val mae: 1447.942\n",
      "\n",
      "Epoch: 78/200 - LR: 0.000003\n"
     ]
    },
    {
     "name": "stderr",
     "output_type": "stream",
     "text": [
      "59.9s - loss: 562.163 - acc: 100.000 - mae: 562.163: 100%|██████████| 1446/1446 [00:59<00:00, 24.15it/s]  \n",
      "0.0s - loss: 1030.024 - acc: 0.000 - mae: 1030.024:   0%|          | 0/1446 [00:00<?, ?it/s]"
     ]
    },
    {
     "name": "stdout",
     "output_type": "stream",
     "text": [
      "train loss: 1576.214 - train acc: 24.896 - val loss: 1489.685 - val acc: 23.710 - val err: 76.290- train mae: 1576.214 - val mae: 1489.685\n",
      "\n",
      "Epoch: 79/200 - LR: 0.000003\n"
     ]
    },
    {
     "name": "stderr",
     "output_type": "stream",
     "text": [
      "60.5s - loss: 102.464 - acc: 0.000 - mae: 102.464: 100%|██████████| 1446/1446 [01:00<00:00, 23.90it/s]    \n",
      "  0%|          | 0/1446 [00:00<?, ?it/s]"
     ]
    },
    {
     "name": "stdout",
     "output_type": "stream",
     "text": [
      "train loss: 1561.584 - train acc: 23.997 - val loss: 1455.322 - val acc: 23.387 - val err: 76.613- train mae: 1561.584 - val mae: 1455.322\n",
      "\n",
      "Epoch: 80/200 - LR: 0.000003\n"
     ]
    },
    {
     "name": "stderr",
     "output_type": "stream",
     "text": [
      "59.0s - loss: 39.083 - acc: 0.000 - mae: 39.083: 100%|██████████| 1446/1446 [00:59<00:00, 24.51it/s]      \n",
      "  0%|          | 0/1446 [00:00<?, ?it/s]"
     ]
    },
    {
     "name": "stdout",
     "output_type": "stream",
     "text": [
      "train loss: 1576.775 - train acc: 23.513 - val loss: 1509.587 - val acc: 22.903 - val err: 77.097- train mae: 1576.775 - val mae: 1509.586\n",
      "\n",
      "Epoch: 81/200 - LR: 0.000003\n"
     ]
    },
    {
     "name": "stderr",
     "output_type": "stream",
     "text": [
      "61.0s - loss: 7347.121 - acc: 0.000 - mae: 7347.121: 100%|██████████| 1446/1446 [01:00<00:00, 23.72it/s]  \n",
      "  0%|          | 0/1446 [00:00<?, ?it/s]"
     ]
    },
    {
     "name": "stdout",
     "output_type": "stream",
     "text": [
      "train loss: 1579.931 - train acc: 25.173 - val loss: 1462.510 - val acc: 23.226 - val err: 76.774- train mae: 1579.931 - val mae: 1462.510\n",
      "\n",
      "Epoch: 82/200 - LR: 0.000003\n"
     ]
    },
    {
     "name": "stderr",
     "output_type": "stream",
     "text": [
      "61.6s - loss: 1073.039 - acc: 0.000 - mae: 1073.038: 100%|██████████| 1446/1446 [01:01<00:00, 23.47it/s]  \n",
      "  0%|          | 0/1446 [00:00<?, ?it/s]"
     ]
    },
    {
     "name": "stdout",
     "output_type": "stream",
     "text": [
      "train loss: 1572.325 - train acc: 24.136 - val loss: 1472.383 - val acc: 23.871 - val err: 76.129- train mae: 1572.324 - val mae: 1472.383\n",
      "\n",
      "Epoch: 83/200 - LR: 0.000003\n"
     ]
    },
    {
     "name": "stderr",
     "output_type": "stream",
     "text": [
      "4.9s - loss: 208.913 - acc: 0.000 - mae: 208.913:   8%|▊         | 111/1446 [00:04<00:58, 22.82it/s]    IOPub message rate exceeded.\n",
      "The notebook server will temporarily stop sending output\n",
      "to the client in order to avoid crashing it.\n",
      "To change this limit, set the config variable\n",
      "`--NotebookApp.iopub_msg_rate_limit`.\n",
      "\n",
      "Current values:\n",
      "NotebookApp.iopub_msg_rate_limit=1000.0 (msgs/sec)\n",
      "NotebookApp.rate_limit_window=3.0 (secs)\n",
      "\n",
      "61.0s - loss: 52.447 - acc: 0.000 - mae: 52.447: 100%|██████████| 1446/1446 [01:01<00:00, 23.70it/s]      \n"
     ]
    },
    {
     "name": "stdout",
     "output_type": "stream",
     "text": [
      "train loss: 1549.214 - train acc: 24.481 - val loss: 1435.182 - val acc: 22.742 - val err: 77.258- train mae: 1549.214 - val mae: 1435.182 [*]\n"
     ]
    },
    {
     "name": "stderr",
     "output_type": "stream",
     "text": [
      "0.2s - loss: 633.500 - acc: 100.000 - mae: 633.500:   0%|          | 2/1446 [00:00<01:19, 18.10it/s]"
     ]
    },
    {
     "name": "stdout",
     "output_type": "stream",
     "text": [
      "\n",
      "Epoch: 84/200 - LR: 0.000003\n"
     ]
    },
    {
     "name": "stderr",
     "output_type": "stream",
     "text": [
      "60.1s - loss: 683.039 - acc: 0.000 - mae: 683.039: 100%|██████████| 1446/1446 [01:00<00:00, 24.06it/s]    \n"
     ]
    },
    {
     "name": "stdout",
     "output_type": "stream",
     "text": [
      "train loss: 1580.732 - train acc: 24.481 - val loss: 1434.295 - val acc: 23.710 - val err: 76.290- train mae: 1580.732 - val mae: 1434.295 [*]\n"
     ]
    },
    {
     "name": "stderr",
     "output_type": "stream",
     "text": [
      "0.0s - loss: 4691.171 - acc: 0.000 - mae: 4691.172:   0%|          | 0/1446 [00:00<?, ?it/s]"
     ]
    },
    {
     "name": "stdout",
     "output_type": "stream",
     "text": [
      "\n",
      "Epoch: 85/200 - LR: 0.000003\n"
     ]
    },
    {
     "name": "stderr",
     "output_type": "stream",
     "text": [
      "60.1s - loss: 866.511 - acc: 0.000 - mae: 866.511: 100%|██████████| 1446/1446 [01:00<00:00, 24.07it/s]    \n",
      "  0%|          | 0/1446 [00:00<?, ?it/s]"
     ]
    },
    {
     "name": "stdout",
     "output_type": "stream",
     "text": [
      "train loss: 1558.479 - train acc: 24.689 - val loss: 1453.827 - val acc: 23.710 - val err: 76.290- train mae: 1558.478 - val mae: 1453.827\n",
      "\n",
      "Epoch: 86/200 - LR: 0.000003\n"
     ]
    },
    {
     "name": "stderr",
     "output_type": "stream",
     "text": [
      "30.4s - loss: 1421.703 - acc: 0.000 - mae: 1421.703:  52%|█████▏    | 752/1446 [00:30<00:29, 23.43it/s]  IOPub message rate exceeded.\n",
      "The notebook server will temporarily stop sending output\n",
      "to the client in order to avoid crashing it.\n",
      "To change this limit, set the config variable\n",
      "`--NotebookApp.iopub_msg_rate_limit`.\n",
      "\n",
      "Current values:\n",
      "NotebookApp.iopub_msg_rate_limit=1000.0 (msgs/sec)\n",
      "NotebookApp.rate_limit_window=3.0 (secs)\n",
      "\n",
      "59.2s - loss: 724.092 - acc: 0.000 - mae: 724.092: 100%|██████████| 1446/1446 [00:59<00:00, 24.41it/s]    \n",
      "0.0s - loss: 687.924 - acc: 0.000 - mae: 687.924:   0%|          | 0/1446 [00:00<?, ?it/s]"
     ]
    },
    {
     "name": "stdout",
     "output_type": "stream",
     "text": [
      "train loss: 1558.423 - train acc: 24.758 - val loss: 1440.075 - val acc: 23.387 - val err: 76.613- train mae: 1558.423 - val mae: 1440.075\n",
      "\n",
      "Epoch: 87/200 - LR: 0.000003\n"
     ]
    },
    {
     "name": "stderr",
     "output_type": "stream",
     "text": [
      "59.5s - loss: 1303.917 - acc: 0.000 - mae: 1303.917: 100%|██████████| 1446/1446 [00:59<00:00, 24.32it/s]  \n"
     ]
    },
    {
     "name": "stdout",
     "output_type": "stream",
     "text": [
      "train loss: 1564.485 - train acc: 24.412 - val loss: 1459.357 - val acc: 22.742 - val err: 77.258- train mae: 1564.485 - val mae: 1459.357\n"
     ]
    },
    {
     "name": "stderr",
     "output_type": "stream",
     "text": [
      "0.2s - loss: 89.947 - acc: 0.000 - mae: 89.946:   0%|          | 3/1446 [00:00<01:12, 19.87it/s]  "
     ]
    },
    {
     "name": "stdout",
     "output_type": "stream",
     "text": [
      "\n",
      "Epoch: 88/200 - LR: 0.000003\n"
     ]
    },
    {
     "name": "stderr",
     "output_type": "stream",
     "text": [
      "60.7s - loss: 888.161 - acc: 100.000 - mae: 888.161: 100%|██████████| 1446/1446 [01:00<00:00, 23.81it/s]  \n",
      "0.0s - loss: 353.343 - acc: 0.000 - mae: 353.343:   0%|          | 0/1446 [00:00<?, ?it/s]"
     ]
    },
    {
     "name": "stdout",
     "output_type": "stream",
     "text": [
      "train loss: 1558.454 - train acc: 23.651 - val loss: 1476.786 - val acc: 23.387 - val err: 76.613- train mae: 1558.453 - val mae: 1476.786\n",
      "\n",
      "Epoch: 89/200 - LR: 0.000000\n"
     ]
    },
    {
     "name": "stderr",
     "output_type": "stream",
     "text": [
      "61.8s - loss: 6606.711 - acc: 0.000 - mae: 6606.710: 100%|██████████| 1446/1446 [01:01<00:00, 23.38it/s]  \n"
     ]
    }
   ],
   "source": [
    "config, unparsed = get_config()\n",
    "trainer = Trainer(config, (train_dl, val_dl))\n",
    "trainer.train()"
   ]
  },
  {
   "cell_type": "code",
   "execution_count": null,
   "id": "e1d95182",
   "metadata": {},
   "outputs": [],
   "source": []
  },
  {
   "cell_type": "code",
   "execution_count": null,
   "id": "cbfb2604",
   "metadata": {},
   "outputs": [],
   "source": []
  }
 ],
 "metadata": {
  "kernelspec": {
   "display_name": "Python 3",
   "language": "python",
   "name": "python3"
  },
  "language_info": {
   "codemirror_mode": {
    "name": "ipython",
    "version": 3
   },
   "file_extension": ".py",
   "mimetype": "text/x-python",
   "name": "python",
   "nbconvert_exporter": "python",
   "pygments_lexer": "ipython3",
   "version": "3.7.10"
  }
 },
 "nbformat": 4,
 "nbformat_minor": 5
}
