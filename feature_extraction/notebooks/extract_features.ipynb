{
 "cells": [
  {
   "cell_type": "code",
   "execution_count": 81,
   "id": "1cbab7c0",
   "metadata": {},
   "outputs": [],
   "source": [
    "from utils import AverageMeter, load_inputs, get_png_names, get_ys\n",
    "from torch.optim.lr_scheduler import ReduceLROnPlateau\n",
    "from torchvision import transforms, utils, models\n",
    "from model import RecurrentAttention\n",
    "import torch.nn.functional as F\n",
    "import matplotlib.pyplot as plt\n",
    "from config import get_config\n",
    "from trainer import Trainer\n",
    "from PIL import Image\n",
    "from tqdm import tqdm\n",
    "import pandas as pd\n",
    "import torchvision\n",
    "import shutil\n",
    "import pickle\n",
    "import torch\n",
    "import utils\n",
    "import json\n",
    "import time\n",
    "\n",
    "import os\n",
    "os.environ[\"CUDA_DEVICE_ORDER\"] = \"PCI_BUS_ID\" \n",
    "os.environ[\"CUDA_VISIBLE_DEVICES\"] = \"2\""
   ]
  },
  {
   "cell_type": "code",
   "execution_count": 82,
   "id": "e2cfe81c",
   "metadata": {},
   "outputs": [
    {
     "data": {
      "text/html": [
       "<div>\n",
       "<style scoped>\n",
       "    .dataframe tbody tr th:only-of-type {\n",
       "        vertical-align: middle;\n",
       "    }\n",
       "\n",
       "    .dataframe tbody tr th {\n",
       "        vertical-align: top;\n",
       "    }\n",
       "\n",
       "    .dataframe thead th {\n",
       "        text-align: right;\n",
       "    }\n",
       "</style>\n",
       "<table border=\"1\" class=\"dataframe\">\n",
       "  <thead>\n",
       "    <tr style=\"text-align: right;\">\n",
       "      <th></th>\n",
       "      <th>muni_id</th>\n",
       "      <th>num_migrants</th>\n",
       "      <th>class</th>\n",
       "    </tr>\n",
       "  </thead>\n",
       "  <tbody>\n",
       "    <tr>\n",
       "      <th>0</th>\n",
       "      <td>484001001</td>\n",
       "      <td>42055.0</td>\n",
       "      <td>1</td>\n",
       "    </tr>\n",
       "    <tr>\n",
       "      <th>1</th>\n",
       "      <td>484001002</td>\n",
       "      <td>4017.0</td>\n",
       "      <td>1</td>\n",
       "    </tr>\n",
       "    <tr>\n",
       "      <th>2</th>\n",
       "      <td>484001003</td>\n",
       "      <td>11992.0</td>\n",
       "      <td>1</td>\n",
       "    </tr>\n",
       "    <tr>\n",
       "      <th>3</th>\n",
       "      <td>484001004</td>\n",
       "      <td>762.0</td>\n",
       "      <td>1</td>\n",
       "    </tr>\n",
       "    <tr>\n",
       "      <th>4</th>\n",
       "      <td>484001005</td>\n",
       "      <td>7551.0</td>\n",
       "      <td>1</td>\n",
       "    </tr>\n",
       "    <tr>\n",
       "      <th>...</th>\n",
       "      <td>...</td>\n",
       "      <td>...</td>\n",
       "      <td>...</td>\n",
       "    </tr>\n",
       "    <tr>\n",
       "      <th>2326</th>\n",
       "      <td>484032049</td>\n",
       "      <td>2487.0</td>\n",
       "      <td>1</td>\n",
       "    </tr>\n",
       "    <tr>\n",
       "      <th>2327</th>\n",
       "      <td>484032050</td>\n",
       "      <td>2024.0</td>\n",
       "      <td>1</td>\n",
       "    </tr>\n",
       "    <tr>\n",
       "      <th>2328</th>\n",
       "      <td>484032051</td>\n",
       "      <td>3084.0</td>\n",
       "      <td>1</td>\n",
       "    </tr>\n",
       "    <tr>\n",
       "      <th>2329</th>\n",
       "      <td>484032052</td>\n",
       "      <td>2919.0</td>\n",
       "      <td>1</td>\n",
       "    </tr>\n",
       "    <tr>\n",
       "      <th>2330</th>\n",
       "      <td>484032053</td>\n",
       "      <td>2119.0</td>\n",
       "      <td>1</td>\n",
       "    </tr>\n",
       "  </tbody>\n",
       "</table>\n",
       "<p>2331 rows × 3 columns</p>\n",
       "</div>"
      ],
      "text/plain": [
       "        muni_id  num_migrants class\n",
       "0     484001001       42055.0     1\n",
       "1     484001002        4017.0     1\n",
       "2     484001003       11992.0     1\n",
       "3     484001004         762.0     1\n",
       "4     484001005        7551.0     1\n",
       "...         ...           ...   ...\n",
       "2326  484032049        2487.0     1\n",
       "2327  484032050        2024.0     1\n",
       "2328  484032051        3084.0     1\n",
       "2329  484032052        2919.0     1\n",
       "2330  484032053        2119.0     1\n",
       "\n",
       "[2331 rows x 3 columns]"
      ]
     },
     "execution_count": 82,
     "metadata": {},
     "output_type": "execute_result"
    }
   ],
   "source": [
    "m = open(\"../../pooling/data/migration_data.json\",)\n",
    "mig_data = json.load(m)\n",
    "m.close()\n",
    "mig_data = pd.DataFrame.from_dict(mig_data, orient = 'index').reset_index()\n",
    "mig_data.columns = ['muni_id', 'num_migrants']\n",
    "q = 2\n",
    "mig_data['class'] = pd.qcut(mig_data['num_migrants'], q = q, labels = [i for i in range(q)])\n",
    "mig_data"
   ]
  },
  {
   "cell_type": "code",
   "execution_count": 83,
   "id": "45b0f162",
   "metadata": {},
   "outputs": [
    {
     "data": {
      "text/plain": [
       "0    1166\n",
       "1    1165\n",
       "Name: class, dtype: int64"
      ]
     },
     "execution_count": 83,
     "metadata": {},
     "output_type": "execute_result"
    }
   ],
   "source": [
    "mig_data['class'].value_counts()"
   ]
  },
  {
   "cell_type": "code",
   "execution_count": 84,
   "id": "5ea9cf0d",
   "metadata": {},
   "outputs": [],
   "source": [
    "image_names = get_png_names(\"../../pooling/data/MEX/\")\n",
    "\n",
    "y_class, y_mig = get_ys(image_names, mig_data)"
   ]
  },
  {
   "cell_type": "code",
   "execution_count": 85,
   "id": "be3874bd",
   "metadata": {},
   "outputs": [],
   "source": [
    "import matplotlib.pyplot as plt\n",
    "import torchvision"
   ]
  },
  {
   "cell_type": "code",
   "execution_count": 86,
   "id": "f0b53647",
   "metadata": {},
   "outputs": [],
   "source": [
    "import random\n",
    "\n",
    "train_num = int(25 * .70)\n",
    "\n",
    "train_indices = random.sample(range(0, 25), train_num)\n",
    "val_indices = [i for i in range(0, 25) if i not in train_indices]"
   ]
  },
  {
   "cell_type": "code",
   "execution_count": 87,
   "id": "b638d55d",
   "metadata": {},
   "outputs": [],
   "source": [
    "# import torchvision\n",
    "\n",
    "# batch_size = 1\n",
    "\n",
    "# # train = [(load_inputs(image_paths[i]).squeeze()[:, 0:28, 0:28], ys[i]) for i in range(0, 93)]\n",
    "# # val = [(load_inputs(image_paths[i]).squeeze()[:, 0:28, 0:28], ys[i]) for i in range(93, 133)]\n",
    "\n",
    "# # brighten = torchvision.transforms.functional.adjust_brightness(brightness_factor = 2)\n",
    "\n",
    "\n",
    "# train = [(torchvision.transforms.functional.adjust_brightness(load_inputs(image_names[i]), brightness_factor = 2).squeeze(), y_class[i], y_mig[i]) for i in train_indices]\n",
    "# val = [(torchvision.transforms.functional.adjust_brightness(load_inputs(image_names[i]), brightness_factor = 2).squeeze(), y_class[i], y_mig[i]) for i in val_indices]\n",
    "\n",
    "\n",
    "# train_dl = torch.utils.data.DataLoader(train, batch_size = batch_size, shuffle = True)\n",
    "# val_dl = torch.utils.data.DataLoader(val, batch_size = batch_size, shuffle = True)"
   ]
  },
  {
   "cell_type": "code",
   "execution_count": 88,
   "id": "6384c9ef",
   "metadata": {},
   "outputs": [],
   "source": [
    "# print(\"Num training: \", len(train_dl))\n",
    "# print(\"Num validation: \", len(val_dl))"
   ]
  },
  {
   "cell_type": "code",
   "execution_count": 89,
   "id": "e2f737d4",
   "metadata": {},
   "outputs": [],
   "source": [
    "import numpy as np\n",
    "from utils import plot_images\n",
    "\n",
    "import torch\n",
    "from torchvision import datasets\n",
    "from torchvision import transforms\n",
    "from torch.utils.data.sampler import SubsetRandomSampler"
   ]
  },
  {
   "cell_type": "code",
   "execution_count": 90,
   "id": "e0f7d05f",
   "metadata": {},
   "outputs": [],
   "source": [
    "class miniConv(torch.nn.Module):\n",
    "    def __init__(self, resnet):\n",
    "        super().__init__()\n",
    "        \n",
    "        self.conv1_miniConv = resnet.conv1\n",
    "        self.bn1_miniConv = resnet.bn1\n",
    "        self.relu_miniConv = resnet.relu\n",
    "        self.maxpool_miniConv = resnet.maxpool\n",
    "        self.layer1_miniConv = resnet.layer1\n",
    "        self.layer2_miniConv = resnet.layer2\n",
    "        self.layer3_miniConv = resnet.layer3\n",
    "        self.layer4_miniConv = resnet.layer4\n",
    "        self.adp_pool_miniConv = torch.nn.AdaptiveAvgPool3d((512, 7, 7))\n",
    "        \n",
    "    def forward(self, phi):\n",
    "        \n",
    "        phi = self.conv1_miniConv(phi)\n",
    "        phi = self.bn1_miniConv(phi)\n",
    "        phi = self.relu_miniConv(phi)\n",
    "        phi = self.maxpool_miniConv(phi)\n",
    "        phi = self.layer1_miniConv(phi)\n",
    "        phi = self.layer2_miniConv(phi)\n",
    "        phi = self.layer3_miniConv(phi)\n",
    "        phi = self.layer4_miniConv(phi)\n",
    "        phi = self.adp_pool_miniConv(phi)\n",
    "        phi = phi.flatten(start_dim = 1)  \n",
    "        return phi"
   ]
  },
  {
   "cell_type": "code",
   "execution_count": 91,
   "id": "d77537e9",
   "metadata": {},
   "outputs": [],
   "source": [
    "resnet = torchvision.models.resnet18()\n",
    "miniConv_model = miniConv(resnet = resnet)\n",
    "\n",
    "# params = []\n",
    "# for n,p in miniConv_model.named_parameters():\n",
    "#     print(n)\n",
    "#     params.append(n)"
   ]
  },
  {
   "cell_type": "code",
   "execution_count": 92,
   "id": "216c4fab",
   "metadata": {},
   "outputs": [
    {
     "data": {
      "text/plain": [
       "<All keys matched successfully>"
      ]
     },
     "execution_count": 92,
     "metadata": {},
     "output_type": "execute_result"
    }
   ],
   "source": [
    "checkpoint = torch.load(\"./ckpt/ram_4_50x50_0.75_model_best.pth.tar\")\n",
    "checkpoint = checkpoint[\"model_state\"]\n",
    "\n",
    "matching_keys = [p for p in list(checkpoint.keys()) if \"_miniConv\" in p]\n",
    "\n",
    "weights = {}\n",
    "for mk in matching_keys:\n",
    "    miniConv_model_key = mk.replace(\"sensor.\", \"\")\n",
    "    weights[miniConv_model_key] = checkpoint[mk]\n",
    "    \n",
    "miniConv_model.load_state_dict(weights)"
   ]
  },
  {
   "cell_type": "code",
   "execution_count": 93,
   "id": "94350d3f",
   "metadata": {},
   "outputs": [],
   "source": [
    "g = open(\"./sample4.json\")\n",
    "glimpses = json.load(g)\n",
    "g.close()"
   ]
  },
  {
   "cell_type": "code",
   "execution_count": 94,
   "id": "7d3082fb",
   "metadata": {},
   "outputs": [],
   "source": [
    "# glimpses"
   ]
  },
  {
   "cell_type": "code",
   "execution_count": 95,
   "id": "502733ee",
   "metadata": {},
   "outputs": [
    {
     "name": "stdout",
     "output_type": "stream",
     "text": [
      "484001008\n",
      "torch.Size([1, 3, 881, 570])\n",
      "torch.Size([1, 3, 54, 114])\n",
      "torch.Size([1, 3, 114, 114])\n"
     ]
    },
    {
     "ename": "ValueError",
     "evalue": "zero-size array to reduction operation minimum which has no identity",
     "output_type": "error",
     "traceback": [
      "\u001b[0;31m---------------------------------------------------------------------------\u001b[0m",
      "\u001b[0;31mValueError\u001b[0m                                Traceback (most recent call last)",
      "\u001b[0;32m<ipython-input-95-04fafed2377d>\u001b[0m in \u001b[0;36m<module>\u001b[0;34m\u001b[0m\n\u001b[1;32m     21\u001b[0m \u001b[0;31m#         print(.shape)\u001b[0m\u001b[0;34m\u001b[0m\u001b[0;34m\u001b[0m\u001b[0;34m\u001b[0m\u001b[0m\n\u001b[1;32m     22\u001b[0m \u001b[0;34m\u001b[0m\u001b[0m\n\u001b[0;32m---> 23\u001b[0;31m         \u001b[0mplt\u001b[0m\u001b[0;34m.\u001b[0m\u001b[0mimshow\u001b[0m\u001b[0;34m(\u001b[0m\u001b[0mcur_patch\u001b[0m\u001b[0;34m[\u001b[0m\u001b[0;36m0\u001b[0m\u001b[0;34m]\u001b[0m\u001b[0;34m.\u001b[0m\u001b[0mpermute\u001b[0m\u001b[0;34m(\u001b[0m\u001b[0;36m1\u001b[0m\u001b[0;34m,\u001b[0m\u001b[0;36m2\u001b[0m\u001b[0;34m,\u001b[0m\u001b[0;36m0\u001b[0m\u001b[0;34m)\u001b[0m\u001b[0;34m)\u001b[0m\u001b[0;34m\u001b[0m\u001b[0;34m\u001b[0m\u001b[0m\n\u001b[0m\u001b[1;32m     24\u001b[0m         \u001b[0mplt\u001b[0m\u001b[0;34m.\u001b[0m\u001b[0msavefig\u001b[0m\u001b[0;34m(\u001b[0m\u001b[0;34mf\"{muni_id}_{glimpseID}.png\"\u001b[0m\u001b[0;34m)\u001b[0m\u001b[0;34m\u001b[0m\u001b[0;34m\u001b[0m\u001b[0m\n\u001b[1;32m     25\u001b[0m \u001b[0;34m\u001b[0m\u001b[0m\n",
      "\u001b[0;32m/opt/conda/envs/rapids/lib/python3.7/site-packages/matplotlib/pyplot.py\u001b[0m in \u001b[0;36mimshow\u001b[0;34m(X, cmap, norm, aspect, interpolation, alpha, vmin, vmax, origin, extent, filternorm, filterrad, resample, url, data, **kwargs)\u001b[0m\n\u001b[1;32m   2876\u001b[0m         \u001b[0mfilternorm\u001b[0m\u001b[0;34m=\u001b[0m\u001b[0mfilternorm\u001b[0m\u001b[0;34m,\u001b[0m \u001b[0mfilterrad\u001b[0m\u001b[0;34m=\u001b[0m\u001b[0mfilterrad\u001b[0m\u001b[0;34m,\u001b[0m \u001b[0mresample\u001b[0m\u001b[0;34m=\u001b[0m\u001b[0mresample\u001b[0m\u001b[0;34m,\u001b[0m\u001b[0;34m\u001b[0m\u001b[0;34m\u001b[0m\u001b[0m\n\u001b[1;32m   2877\u001b[0m         \u001b[0murl\u001b[0m\u001b[0;34m=\u001b[0m\u001b[0murl\u001b[0m\u001b[0;34m,\u001b[0m \u001b[0;34m**\u001b[0m\u001b[0;34m(\u001b[0m\u001b[0;34m{\u001b[0m\u001b[0;34m\"data\"\u001b[0m\u001b[0;34m:\u001b[0m \u001b[0mdata\u001b[0m\u001b[0;34m}\u001b[0m \u001b[0;32mif\u001b[0m \u001b[0mdata\u001b[0m \u001b[0;32mis\u001b[0m \u001b[0;32mnot\u001b[0m \u001b[0;32mNone\u001b[0m \u001b[0;32melse\u001b[0m \u001b[0;34m{\u001b[0m\u001b[0;34m}\u001b[0m\u001b[0;34m)\u001b[0m\u001b[0;34m,\u001b[0m\u001b[0;34m\u001b[0m\u001b[0;34m\u001b[0m\u001b[0m\n\u001b[0;32m-> 2878\u001b[0;31m         **kwargs)\n\u001b[0m\u001b[1;32m   2879\u001b[0m     \u001b[0msci\u001b[0m\u001b[0;34m(\u001b[0m\u001b[0m__ret\u001b[0m\u001b[0;34m)\u001b[0m\u001b[0;34m\u001b[0m\u001b[0;34m\u001b[0m\u001b[0m\n\u001b[1;32m   2880\u001b[0m     \u001b[0;32mreturn\u001b[0m \u001b[0m__ret\u001b[0m\u001b[0;34m\u001b[0m\u001b[0;34m\u001b[0m\u001b[0m\n",
      "\u001b[0;32m/opt/conda/envs/rapids/lib/python3.7/site-packages/matplotlib/__init__.py\u001b[0m in \u001b[0;36minner\u001b[0;34m(ax, data, *args, **kwargs)\u001b[0m\n\u001b[1;32m   1350\u001b[0m     \u001b[0;32mdef\u001b[0m \u001b[0minner\u001b[0m\u001b[0;34m(\u001b[0m\u001b[0max\u001b[0m\u001b[0;34m,\u001b[0m \u001b[0;34m*\u001b[0m\u001b[0margs\u001b[0m\u001b[0;34m,\u001b[0m \u001b[0mdata\u001b[0m\u001b[0;34m=\u001b[0m\u001b[0;32mNone\u001b[0m\u001b[0;34m,\u001b[0m \u001b[0;34m**\u001b[0m\u001b[0mkwargs\u001b[0m\u001b[0;34m)\u001b[0m\u001b[0;34m:\u001b[0m\u001b[0;34m\u001b[0m\u001b[0;34m\u001b[0m\u001b[0m\n\u001b[1;32m   1351\u001b[0m         \u001b[0;32mif\u001b[0m \u001b[0mdata\u001b[0m \u001b[0;32mis\u001b[0m \u001b[0;32mNone\u001b[0m\u001b[0;34m:\u001b[0m\u001b[0;34m\u001b[0m\u001b[0;34m\u001b[0m\u001b[0m\n\u001b[0;32m-> 1352\u001b[0;31m             \u001b[0;32mreturn\u001b[0m \u001b[0mfunc\u001b[0m\u001b[0;34m(\u001b[0m\u001b[0max\u001b[0m\u001b[0;34m,\u001b[0m \u001b[0;34m*\u001b[0m\u001b[0mmap\u001b[0m\u001b[0;34m(\u001b[0m\u001b[0msanitize_sequence\u001b[0m\u001b[0;34m,\u001b[0m \u001b[0margs\u001b[0m\u001b[0;34m)\u001b[0m\u001b[0;34m,\u001b[0m \u001b[0;34m**\u001b[0m\u001b[0mkwargs\u001b[0m\u001b[0;34m)\u001b[0m\u001b[0;34m\u001b[0m\u001b[0;34m\u001b[0m\u001b[0m\n\u001b[0m\u001b[1;32m   1353\u001b[0m \u001b[0;34m\u001b[0m\u001b[0m\n\u001b[1;32m   1354\u001b[0m         \u001b[0mbound\u001b[0m \u001b[0;34m=\u001b[0m \u001b[0mnew_sig\u001b[0m\u001b[0;34m.\u001b[0m\u001b[0mbind\u001b[0m\u001b[0;34m(\u001b[0m\u001b[0max\u001b[0m\u001b[0;34m,\u001b[0m \u001b[0;34m*\u001b[0m\u001b[0margs\u001b[0m\u001b[0;34m,\u001b[0m \u001b[0;34m**\u001b[0m\u001b[0mkwargs\u001b[0m\u001b[0;34m)\u001b[0m\u001b[0;34m\u001b[0m\u001b[0;34m\u001b[0m\u001b[0m\n",
      "\u001b[0;32m/opt/conda/envs/rapids/lib/python3.7/site-packages/matplotlib/axes/_axes.py\u001b[0m in \u001b[0;36mimshow\u001b[0;34m(self, X, cmap, norm, aspect, interpolation, alpha, vmin, vmax, origin, extent, filternorm, filterrad, resample, url, **kwargs)\u001b[0m\n\u001b[1;32m   5587\u001b[0m                               resample=resample, **kwargs)\n\u001b[1;32m   5588\u001b[0m \u001b[0;34m\u001b[0m\u001b[0m\n\u001b[0;32m-> 5589\u001b[0;31m         \u001b[0mim\u001b[0m\u001b[0;34m.\u001b[0m\u001b[0mset_data\u001b[0m\u001b[0;34m(\u001b[0m\u001b[0mX\u001b[0m\u001b[0;34m)\u001b[0m\u001b[0;34m\u001b[0m\u001b[0;34m\u001b[0m\u001b[0m\n\u001b[0m\u001b[1;32m   5590\u001b[0m         \u001b[0mim\u001b[0m\u001b[0;34m.\u001b[0m\u001b[0mset_alpha\u001b[0m\u001b[0;34m(\u001b[0m\u001b[0malpha\u001b[0m\u001b[0;34m)\u001b[0m\u001b[0;34m\u001b[0m\u001b[0;34m\u001b[0m\u001b[0m\n\u001b[1;32m   5591\u001b[0m         \u001b[0;32mif\u001b[0m \u001b[0mim\u001b[0m\u001b[0;34m.\u001b[0m\u001b[0mget_clip_path\u001b[0m\u001b[0;34m(\u001b[0m\u001b[0;34m)\u001b[0m \u001b[0;32mis\u001b[0m \u001b[0;32mNone\u001b[0m\u001b[0;34m:\u001b[0m\u001b[0;34m\u001b[0m\u001b[0;34m\u001b[0m\u001b[0m\n",
      "\u001b[0;32m/opt/conda/envs/rapids/lib/python3.7/site-packages/matplotlib/image.py\u001b[0m in \u001b[0;36mset_data\u001b[0;34m(self, A)\u001b[0m\n\u001b[1;32m    716\u001b[0m             \u001b[0;31m# making reliable interpretation impossible.\u001b[0m\u001b[0;34m\u001b[0m\u001b[0;34m\u001b[0m\u001b[0;34m\u001b[0m\u001b[0m\n\u001b[1;32m    717\u001b[0m             \u001b[0mhigh\u001b[0m \u001b[0;34m=\u001b[0m \u001b[0;36m255\u001b[0m \u001b[0;32mif\u001b[0m \u001b[0mnp\u001b[0m\u001b[0;34m.\u001b[0m\u001b[0missubdtype\u001b[0m\u001b[0;34m(\u001b[0m\u001b[0mself\u001b[0m\u001b[0;34m.\u001b[0m\u001b[0m_A\u001b[0m\u001b[0;34m.\u001b[0m\u001b[0mdtype\u001b[0m\u001b[0;34m,\u001b[0m \u001b[0mnp\u001b[0m\u001b[0;34m.\u001b[0m\u001b[0minteger\u001b[0m\u001b[0;34m)\u001b[0m \u001b[0;32melse\u001b[0m \u001b[0;36m1\u001b[0m\u001b[0;34m\u001b[0m\u001b[0;34m\u001b[0m\u001b[0m\n\u001b[0;32m--> 718\u001b[0;31m             \u001b[0;32mif\u001b[0m \u001b[0mself\u001b[0m\u001b[0;34m.\u001b[0m\u001b[0m_A\u001b[0m\u001b[0;34m.\u001b[0m\u001b[0mmin\u001b[0m\u001b[0;34m(\u001b[0m\u001b[0;34m)\u001b[0m \u001b[0;34m<\u001b[0m \u001b[0;36m0\u001b[0m \u001b[0;32mor\u001b[0m \u001b[0mhigh\u001b[0m \u001b[0;34m<\u001b[0m \u001b[0mself\u001b[0m\u001b[0;34m.\u001b[0m\u001b[0m_A\u001b[0m\u001b[0;34m.\u001b[0m\u001b[0mmax\u001b[0m\u001b[0;34m(\u001b[0m\u001b[0;34m)\u001b[0m\u001b[0;34m:\u001b[0m\u001b[0;34m\u001b[0m\u001b[0;34m\u001b[0m\u001b[0m\n\u001b[0m\u001b[1;32m    719\u001b[0m                 _log.warning(\n\u001b[1;32m    720\u001b[0m                     \u001b[0;34m'Clipping input data to the valid range for imshow with '\u001b[0m\u001b[0;34m\u001b[0m\u001b[0;34m\u001b[0m\u001b[0m\n",
      "\u001b[0;32m/opt/conda/envs/rapids/lib/python3.7/site-packages/numpy/ma/core.py\u001b[0m in \u001b[0;36mmin\u001b[0;34m(self, axis, out, fill_value, keepdims)\u001b[0m\n\u001b[1;32m   5671\u001b[0m         \u001b[0;32mif\u001b[0m \u001b[0mout\u001b[0m \u001b[0;32mis\u001b[0m \u001b[0;32mNone\u001b[0m\u001b[0;34m:\u001b[0m\u001b[0;34m\u001b[0m\u001b[0;34m\u001b[0m\u001b[0m\n\u001b[1;32m   5672\u001b[0m             result = self.filled(fill_value).min(\n\u001b[0;32m-> 5673\u001b[0;31m                 axis=axis, out=out, **kwargs).view(type(self))\n\u001b[0m\u001b[1;32m   5674\u001b[0m             \u001b[0;32mif\u001b[0m \u001b[0mresult\u001b[0m\u001b[0;34m.\u001b[0m\u001b[0mndim\u001b[0m\u001b[0;34m:\u001b[0m\u001b[0;34m\u001b[0m\u001b[0;34m\u001b[0m\u001b[0m\n\u001b[1;32m   5675\u001b[0m                 \u001b[0;31m# Set the mask\u001b[0m\u001b[0;34m\u001b[0m\u001b[0;34m\u001b[0m\u001b[0;34m\u001b[0m\u001b[0m\n",
      "\u001b[0;32m/opt/conda/envs/rapids/lib/python3.7/site-packages/numpy/core/_methods.py\u001b[0m in \u001b[0;36m_amin\u001b[0;34m(a, axis, out, keepdims, initial, where)\u001b[0m\n\u001b[1;32m     32\u001b[0m def _amin(a, axis=None, out=None, keepdims=False,\n\u001b[1;32m     33\u001b[0m           initial=_NoValue, where=True):\n\u001b[0;32m---> 34\u001b[0;31m     \u001b[0;32mreturn\u001b[0m \u001b[0mumr_minimum\u001b[0m\u001b[0;34m(\u001b[0m\u001b[0ma\u001b[0m\u001b[0;34m,\u001b[0m \u001b[0maxis\u001b[0m\u001b[0;34m,\u001b[0m \u001b[0;32mNone\u001b[0m\u001b[0;34m,\u001b[0m \u001b[0mout\u001b[0m\u001b[0;34m,\u001b[0m \u001b[0mkeepdims\u001b[0m\u001b[0;34m,\u001b[0m \u001b[0minitial\u001b[0m\u001b[0;34m,\u001b[0m \u001b[0mwhere\u001b[0m\u001b[0;34m)\u001b[0m\u001b[0;34m\u001b[0m\u001b[0;34m\u001b[0m\u001b[0m\n\u001b[0m\u001b[1;32m     35\u001b[0m \u001b[0;34m\u001b[0m\u001b[0m\n\u001b[1;32m     36\u001b[0m def _sum(a, axis=None, dtype=None, out=None, keepdims=False,\n",
      "\u001b[0;31mValueError\u001b[0m: zero-size array to reduction operation minimum which has no identity"
     ]
    },
    {
     "data": {
      "image/png": "[encoded data removed]",
      "text/plain": [
       "<Figure size 432x288 with 1 Axes>"
      ]
     },
     "metadata": {
      "needs_background": "light"
     },
     "output_type": "display_data"
    }
   ],
   "source": [
    "features_dict = {}\n",
    "\n",
    "for im_name, patches in glimpses.items():\n",
    "        \n",
    "    muni_id = im_name.split(\"/\")[5]\n",
    "    \n",
    "    print(muni_id)\n",
    "    \n",
    "    image = load_inputs(im_name)\n",
    "    \n",
    "    print(image.shape)\n",
    "    \n",
    "    cur_features_dict = {}\n",
    "\n",
    "    for glimpseID, coords in patches.items():\n",
    "            \n",
    "        from_x, to_x, from_y, to_y = int(coords[\"from_x\"]), int(coords[\"to_x\"]), int(coords[\"from_y\"]), int(coords[\"to_y\"])\n",
    "                \n",
    "        cur_patch = image[:, :, from_x:to_x, from_y:to_y]\n",
    "        \n",
    "#         print(.shape)\n",
    "        \n",
    "        plt.imshow(cur_patch[0].permute(1,2,0))\n",
    "        plt.savefig(f\"{muni_id}_{glimpseID}.png\")\n",
    "        \n",
    "        print(cur_patch.shape)\n",
    "        \n",
    "        features = miniConv_model(cur_patch)[0].detach().numpy()\n",
    "        features = [str(f) for f in features]\n",
    "        \n",
    "        cur_features_dict[glimpseID] = features\n",
    "\n",
    "    features_dict[im_name] = cur_features_dict\n",
    "        \n",
    "    print(\"\\n\")\n",
    "    \n",
    "    \n",
    "#     print(image.shape)\n",
    "    \n",
    "#     print(v, \"\\n\")"
   ]
  },
  {
   "cell_type": "code",
   "execution_count": 71,
   "id": "86858cc7",
   "metadata": {},
   "outputs": [],
   "source": [
    "# features_dict"
   ]
  },
  {
   "cell_type": "code",
   "execution_count": 73,
   "id": "98cdbc58",
   "metadata": {},
   "outputs": [],
   "source": [
    "# cur_features_dict[\"glimpse0\"]"
   ]
  },
  {
   "cell_type": "code",
   "execution_count": 74,
   "id": "91660986",
   "metadata": {},
   "outputs": [],
   "source": [
    "with open(\"sample_features.json\", \"w\") as outfile: \n",
    "    json.dump(features_dict, outfile)"
   ]
  },
  {
   "cell_type": "code",
   "execution_count": null,
   "id": "f5930822",
   "metadata": {},
   "outputs": [],
   "source": []
  }
 ],
 "metadata": {
  "kernelspec": {
   "display_name": "Python 3",
   "language": "python",
   "name": "python3"
  },
  "language_info": {
   "codemirror_mode": {
    "name": "ipython",
    "version": 3
   },
   "file_extension": ".py",
   "mimetype": "text/x-python",
   "name": "python",
   "nbconvert_exporter": "python",
   "pygments_lexer": "ipython3",
   "version": "3.7.10"
  }
 },
 "nbformat": 4,
 "nbformat_minor": 5
}
