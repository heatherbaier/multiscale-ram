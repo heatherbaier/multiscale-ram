{
 "cells": [
  {
   "cell_type": "code",
   "execution_count": 1,
   "id": "0a4e272b",
   "metadata": {},
   "outputs": [],
   "source": [
    "import os\n",
    "import time\n",
    "import shutil\n",
    "import pickle\n",
    "\n",
    "import torch\n",
    "import torch.nn.functional as F\n",
    "\n",
    "from tqdm import tqdm\n",
    "from torch.optim.lr_scheduler import ReduceLROnPlateau\n",
    "# from tensorboard_logger import configure, log_value\n",
    "\n",
    "from model import RecurrentAttention\n",
    "from utils import AverageMeter\n",
    "\n",
    "from torchvision import transforms, utils, models\n",
    "from PIL import Image\n",
    "\n",
    "import torch\n",
    "\n",
    "import utils\n",
    "# import data_loader\n",
    "\n",
    "from trainer import Trainer\n",
    "from config import get_config\n",
    "\n",
    "import os\n",
    "os.environ[\"CUDA_DEVICE_ORDER\"] = \"PCI_BUS_ID\" \n",
    "os.environ[\"CUDA_VISIBLE_DEVICES\"] = \"2\"\n",
    "\n",
    "import pandas as pd\n",
    "\n",
    "import json"
   ]
  },
  {
   "cell_type": "code",
   "execution_count": 2,
   "id": "381d2553",
   "metadata": {},
   "outputs": [],
   "source": [
    "def load_inputs(impath):\n",
    "    to_tens = transforms.ToTensor()\n",
    "    return to_tens(Image.open(impath).convert('RGB')).unsqueeze(0)"
   ]
  },
  {
   "cell_type": "code",
   "execution_count": 3,
   "id": "66d5d68d",
   "metadata": {},
   "outputs": [
    {
     "data": {
      "text/html": [
       "<div>\n",
       "<style scoped>\n",
       "    .dataframe tbody tr th:only-of-type {\n",
       "        vertical-align: middle;\n",
       "    }\n",
       "\n",
       "    .dataframe tbody tr th {\n",
       "        vertical-align: top;\n",
       "    }\n",
       "\n",
       "    .dataframe thead th {\n",
       "        text-align: right;\n",
       "    }\n",
       "</style>\n",
       "<table border=\"1\" class=\"dataframe\">\n",
       "  <thead>\n",
       "    <tr style=\"text-align: right;\">\n",
       "      <th></th>\n",
       "      <th>muni_id</th>\n",
       "      <th>num_migrants</th>\n",
       "      <th>class</th>\n",
       "    </tr>\n",
       "  </thead>\n",
       "  <tbody>\n",
       "    <tr>\n",
       "      <th>0</th>\n",
       "      <td>484001001</td>\n",
       "      <td>42055.0</td>\n",
       "      <td>3</td>\n",
       "    </tr>\n",
       "    <tr>\n",
       "      <th>1</th>\n",
       "      <td>484001002</td>\n",
       "      <td>4017.0</td>\n",
       "      <td>3</td>\n",
       "    </tr>\n",
       "    <tr>\n",
       "      <th>2</th>\n",
       "      <td>484001003</td>\n",
       "      <td>11992.0</td>\n",
       "      <td>3</td>\n",
       "    </tr>\n",
       "    <tr>\n",
       "      <th>3</th>\n",
       "      <td>484001004</td>\n",
       "      <td>762.0</td>\n",
       "      <td>2</td>\n",
       "    </tr>\n",
       "    <tr>\n",
       "      <th>4</th>\n",
       "      <td>484001005</td>\n",
       "      <td>7551.0</td>\n",
       "      <td>3</td>\n",
       "    </tr>\n",
       "    <tr>\n",
       "      <th>...</th>\n",
       "      <td>...</td>\n",
       "      <td>...</td>\n",
       "      <td>...</td>\n",
       "    </tr>\n",
       "    <tr>\n",
       "      <th>2326</th>\n",
       "      <td>484032049</td>\n",
       "      <td>2487.0</td>\n",
       "      <td>3</td>\n",
       "    </tr>\n",
       "    <tr>\n",
       "      <th>2327</th>\n",
       "      <td>484032050</td>\n",
       "      <td>2024.0</td>\n",
       "      <td>3</td>\n",
       "    </tr>\n",
       "    <tr>\n",
       "      <th>2328</th>\n",
       "      <td>484032051</td>\n",
       "      <td>3084.0</td>\n",
       "      <td>3</td>\n",
       "    </tr>\n",
       "    <tr>\n",
       "      <th>2329</th>\n",
       "      <td>484032052</td>\n",
       "      <td>2919.0</td>\n",
       "      <td>3</td>\n",
       "    </tr>\n",
       "    <tr>\n",
       "      <th>2330</th>\n",
       "      <td>484032053</td>\n",
       "      <td>2119.0</td>\n",
       "      <td>3</td>\n",
       "    </tr>\n",
       "  </tbody>\n",
       "</table>\n",
       "<p>2331 rows × 3 columns</p>\n",
       "</div>"
      ],
      "text/plain": [
       "        muni_id  num_migrants class\n",
       "0     484001001       42055.0     3\n",
       "1     484001002        4017.0     3\n",
       "2     484001003       11992.0     3\n",
       "3     484001004         762.0     2\n",
       "4     484001005        7551.0     3\n",
       "...         ...           ...   ...\n",
       "2326  484032049        2487.0     3\n",
       "2327  484032050        2024.0     3\n",
       "2328  484032051        3084.0     3\n",
       "2329  484032052        2919.0     3\n",
       "2330  484032053        2119.0     3\n",
       "\n",
       "[2331 rows x 3 columns]"
      ]
     },
     "execution_count": 3,
     "metadata": {},
     "output_type": "execute_result"
    }
   ],
   "source": [
    "m = open(\"../../pooling/data/migration_data.json\",)\n",
    "mig_data = json.load(m)\n",
    "m.close()\n",
    "mig_data = pd.DataFrame.from_dict(mig_data, orient = 'index').reset_index()\n",
    "mig_data.columns = ['muni_id', 'num_migrants']\n",
    "q = 4\n",
    "mig_data['class'] = pd.qcut(mig_data['num_migrants'], q = q, labels = [i for i in range(q)])\n",
    "mig_data"
   ]
  },
  {
   "cell_type": "code",
   "execution_count": 4,
   "id": "16e214c1",
   "metadata": {},
   "outputs": [
    {
     "data": {
      "text/plain": [
       "0    583\n",
       "1    583\n",
       "2    583\n",
       "3    582\n",
       "Name: class, dtype: int64"
      ]
     },
     "execution_count": 4,
     "metadata": {},
     "output_type": "execute_result"
    }
   ],
   "source": [
    "mig_data['class'].value_counts()"
   ]
  },
  {
   "cell_type": "code",
   "execution_count": 5,
   "id": "b624b966",
   "metadata": {},
   "outputs": [],
   "source": [
    "def get_png_names(directory):\n",
    "    images = []\n",
    "    for i in os.listdir(directory):\n",
    "        try:\n",
    "            if os.path.isdir(os.path.join(directory, i)):\n",
    "                new_path = os.path.join(directory, i, \"pngs\")\n",
    "                image = os.listdir(new_path)[0]\n",
    "                images.append(os.path.join(directory, i, \"pngs\", image))\n",
    "        except:\n",
    "            pass\n",
    "    return images\n",
    "\n",
    "\n",
    "            \n",
    "\n",
    "image_names = get_png_names(\"../../attn/data/MEX/\")\n",
    "\n",
    "y_class, y_mig = [], []\n",
    "\n",
    "for i in image_names:\n",
    "        dta = mig_data[mig_data[\"muni_id\"] == i.split(\"/\")[5]]\n",
    "        if len(dta) != 0:\n",
    "            y_class.append(dta['class'].values[0])\n",
    "            y_mig.append(dta['num_migrants'].values[0])"
   ]
  },
  {
   "cell_type": "code",
   "execution_count": 6,
   "id": "1b11a39d",
   "metadata": {},
   "outputs": [],
   "source": [
    "import matplotlib.pyplot as plt\n",
    "import torchvision\n",
    "import random\n",
    "\n",
    "train_num = int(25 * .70)\n",
    "\n",
    "train_indices = random.sample(range(0, 25), train_num)\n",
    "val_indices = [i for i in range(0, 25) if i not in train_indices]"
   ]
  },
  {
   "cell_type": "code",
   "execution_count": null,
   "id": "044eda21",
   "metadata": {},
   "outputs": [],
   "source": []
  },
  {
   "cell_type": "code",
   "execution_count": 7,
   "id": "3ead3470",
   "metadata": {},
   "outputs": [],
   "source": [
    "import torchvision\n",
    "\n",
    "batch_size = 1\n",
    "\n",
    "# train = [(load_inputs(image_paths[i]).squeeze()[:, 0:28, 0:28], ys[i]) for i in range(0, 93)]\n",
    "# val = [(load_inputs(image_paths[i]).squeeze()[:, 0:28, 0:28], ys[i]) for i in range(93, 133)]\n",
    "\n",
    "# brighten = torchvision.transforms.functional.adjust_brightness(brightness_factor = 2)\n",
    "\n",
    "\n",
    "train = [(torchvision.transforms.functional.adjust_brightness(load_inputs(image_names[i]), brightness_factor = 2).squeeze(), y_class[i], y_mig[i]) for i in train_indices]\n",
    "val = [(torchvision.transforms.functional.adjust_brightness(load_inputs(image_names[i]), brightness_factor = 2).squeeze(), y_class[i], y_mig[i]) for i in val_indices]\n",
    "\n",
    "\n",
    "train_dl = torch.utils.data.DataLoader(train, batch_size = batch_size, shuffle = True)\n",
    "val_dl = torch.utils.data.DataLoader(val, batch_size = batch_size, shuffle = True)"
   ]
  },
  {
   "cell_type": "code",
   "execution_count": 8,
   "id": "7f4d402c",
   "metadata": {},
   "outputs": [],
   "source": [
    "# train_num = int(len(image_names) * .70)\n",
    "\n",
    "# train_indices = random.sample(range(0, len(image_names)), train_num)\n",
    "# val_indices = [i for i in range(0, len(image_names)) if i not in train_indices]\n",
    "\n",
    "\n",
    "# batch_size = 1\n",
    "\n",
    "# # train = [(load_inputs(image_paths[i]).squeeze()[:, 0:28, 0:28], ys[i]) for i in range(0, 93)]\n",
    "# # val = [(load_inputs(image_paths[i]).squeeze()[:, 0:28, 0:28], ys[i]) for i in range(93, 133)]\n",
    "\n",
    "# train = [(torchvision.transforms.functional.adjust_brightness(load_inputs(image_names[i]), brightness_factor = 2).squeeze(), y_class[i], y_mig[i]) for i in train_indices]\n",
    "# val = [(torchvision.transforms.functional.adjust_brightness(load_inputs(image_names[i]), brightness_factor = 2).squeeze(), y_class[i], y_mig[i]) for i in val_indices]\n",
    "\n",
    "\n",
    "# train_dl = torch.utils.data.DataLoader(train, batch_size = batch_size, shuffle = True)\n",
    "# val_dl = torch.utils.data.DataLoader(val, batch_size = batch_size, shuffle = True)\n"
   ]
  },
  {
   "cell_type": "code",
   "execution_count": 9,
   "id": "a4b10b2a",
   "metadata": {},
   "outputs": [
    {
     "name": "stdout",
     "output_type": "stream",
     "text": [
      "Num training:  17\n",
      "Num validation:  8\n"
     ]
    }
   ],
   "source": [
    "print(\"Num training: \", len(train_dl))\n",
    "print(\"Num validation: \", len(val_dl))"
   ]
  },
  {
   "cell_type": "code",
   "execution_count": 10,
   "id": "542966a5",
   "metadata": {},
   "outputs": [],
   "source": [
    "import numpy as np\n",
    "from utils import plot_images\n",
    "\n",
    "import torch\n",
    "from torchvision import datasets\n",
    "from torchvision import transforms\n",
    "from torch.utils.data.sampler import SubsetRandomSampler"
   ]
  },
  {
   "cell_type": "code",
   "execution_count": 11,
   "id": "f6f28a1b",
   "metadata": {},
   "outputs": [],
   "source": [
    "config, unparsed = get_config()"
   ]
  },
  {
   "cell_type": "code",
   "execution_count": 12,
   "id": "2d685f45",
   "metadata": {},
   "outputs": [],
   "source": [
    "trainer = Trainer(config, (train_dl, val_dl))"
   ]
  },
  {
   "cell_type": "code",
   "execution_count": 66,
   "id": "cc551cf4",
   "metadata": {},
   "outputs": [],
   "source": [
    "checkpoint = torch.load(\"./ckpt/ram_4_50x50_0.75_model_best.pth.tar\")\n",
    "checkpoint = checkpoint[\"model_state\"]"
   ]
  },
  {
   "cell_type": "code",
   "execution_count": 67,
   "id": "7897535f",
   "metadata": {},
   "outputs": [
    {
     "data": {
      "text/html": [
       "<div>\n",
       "<style scoped>\n",
       "    .dataframe tbody tr th:only-of-type {\n",
       "        vertical-align: middle;\n",
       "    }\n",
       "\n",
       "    .dataframe tbody tr th {\n",
       "        vertical-align: top;\n",
       "    }\n",
       "\n",
       "    .dataframe thead th {\n",
       "        text-align: right;\n",
       "    }\n",
       "</style>\n",
       "<table border=\"1\" class=\"dataframe\">\n",
       "  <thead>\n",
       "    <tr style=\"text-align: right;\">\n",
       "      <th></th>\n",
       "      <th>true</th>\n",
       "      <th>pred</th>\n",
       "      <th>class</th>\n",
       "    </tr>\n",
       "  </thead>\n",
       "  <tbody>\n",
       "    <tr>\n",
       "      <th>0</th>\n",
       "      <td>1446.0</td>\n",
       "      <td>653.462769</td>\n",
       "      <td>2</td>\n",
       "    </tr>\n",
       "    <tr>\n",
       "      <th>1</th>\n",
       "      <td>25.0</td>\n",
       "      <td>1315.077393</td>\n",
       "      <td>0</td>\n",
       "    </tr>\n",
       "    <tr>\n",
       "      <th>2</th>\n",
       "      <td>0.0</td>\n",
       "      <td>358.141022</td>\n",
       "      <td>0</td>\n",
       "    </tr>\n",
       "    <tr>\n",
       "      <th>3</th>\n",
       "      <td>1559.0</td>\n",
       "      <td>1400.034058</td>\n",
       "      <td>2</td>\n",
       "    </tr>\n",
       "    <tr>\n",
       "      <th>4</th>\n",
       "      <td>7551.0</td>\n",
       "      <td>8813.900391</td>\n",
       "      <td>3</td>\n",
       "    </tr>\n",
       "  </tbody>\n",
       "</table>\n",
       "</div>"
      ],
      "text/plain": [
       "     true         pred  class\n",
       "0  1446.0   653.462769      2\n",
       "1    25.0  1315.077393      0\n",
       "2     0.0   358.141022      0\n",
       "3  1559.0  1400.034058      2\n",
       "4  7551.0  8813.900391      3"
      ]
     },
     "execution_count": 67,
     "metadata": {},
     "output_type": "execute_result"
    }
   ],
   "source": [
    "trues, preds, classes = [], [], []\n",
    "\n",
    "for im in image_names:\n",
    "        \n",
    "    i = load_inputs(im)\n",
    "    o = torch.tensor(mig_data[mig_data[\"muni_id\"] == im.split(\"/\")[5]]['class'].values[0])\n",
    "    o2 = torch.tensor(mig_data[mig_data[\"muni_id\"] == im.split(\"/\")[5]]['num_migrants'].values[0])\n",
    "    \n",
    "    pred = trainer.predict(1, i, o, o2, checkpoint).item()\n",
    "    true = o2.item()\n",
    "    \n",
    "    trues.append(true)\n",
    "    preds.append(pred)\n",
    "    classes.append(o.item())\n",
    "    \n",
    "preds_df = pd.DataFrame()\n",
    "preds_df['true'], preds_df['pred'], preds_df['class'] = trues, preds, classes\n",
    "preds_df.head()"
   ]
  },
  {
   "cell_type": "code",
   "execution_count": 68,
   "id": "1d80b0c9",
   "metadata": {},
   "outputs": [
    {
     "data": {
      "text/plain": [
       "Text(0, 0.5, 'True')"
      ]
     },
     "execution_count": 68,
     "metadata": {},
     "output_type": "execute_result"
    },
    {
     "data": {
      "image/png": "[encoded data removed]",
      "text/plain": [
       "<Figure size 432x288 with 1 Axes>"
      ]
     },
     "metadata": {
      "needs_background": "light"
     },
     "output_type": "display_data"
    }
   ],
   "source": [
    "groups = preds_df.groupby(\"class\")\n",
    "for name, group in groups:\n",
    "    plt.plot(group[\"pred\"], group[\"true\"], marker=\"o\", linestyle=\"\", label=name)\n",
    "plt.legend()\n",
    "plt.xlabel(\"Predicted\")\n",
    "plt.ylabel(\"True\")"
   ]
  },
  {
   "cell_type": "code",
   "execution_count": 69,
   "id": "69c3d58e",
   "metadata": {},
   "outputs": [],
   "source": [
    "preds_df.to_csv(\"./preds_df_v17.csv\")"
   ]
  },
  {
   "cell_type": "code",
   "execution_count": 70,
   "id": "2708d009",
   "metadata": {},
   "outputs": [
    {
     "data": {
      "text/plain": [
       "Text(0, 0.5, 'True')"
      ]
     },
     "execution_count": 70,
     "metadata": {},
     "output_type": "execute_result"
    },
    {
     "data": {
      "image/png": "[encoded data removed]",
      "text/plain": [
       "<Figure size 432x288 with 1 Axes>"
      ]
     },
     "metadata": {
      "needs_background": "light"
     },
     "output_type": "display_data"
    }
   ],
   "source": [
    "plt.scatter(preds_df['pred'], preds_df['true'])\n",
    "plt.xlabel(\"Predicted\")\n",
    "plt.ylabel(\"True\")"
   ]
  },
  {
   "cell_type": "code",
   "execution_count": 71,
   "id": "b94257a4",
   "metadata": {},
   "outputs": [
    {
     "name": "stdout",
     "output_type": "stream",
     "text": [
      "0 319.9775094764177\n",
      "1 370.70949171471784\n",
      "2 677.7801731167638\n",
      "3 4036.0112775906114\n"
     ]
    }
   ],
   "source": [
    "for name, group in groups:\n",
    "    print(name, np.mean(abs(group[\"true\"] - group[\"pred\"])))"
   ]
  },
  {
   "cell_type": "code",
   "execution_count": 72,
   "id": "38e46ecb",
   "metadata": {},
   "outputs": [
    {
     "data": {
      "text/html": [
       "<div>\n",
       "<style scoped>\n",
       "    .dataframe tbody tr th:only-of-type {\n",
       "        vertical-align: middle;\n",
       "    }\n",
       "\n",
       "    .dataframe tbody tr th {\n",
       "        vertical-align: top;\n",
       "    }\n",
       "\n",
       "    .dataframe thead th {\n",
       "        text-align: right;\n",
       "    }\n",
       "</style>\n",
       "<table border=\"1\" class=\"dataframe\">\n",
       "  <thead>\n",
       "    <tr style=\"text-align: right;\">\n",
       "      <th></th>\n",
       "      <th>true</th>\n",
       "      <th>pred</th>\n",
       "      <th>class</th>\n",
       "    </tr>\n",
       "  </thead>\n",
       "  <tbody>\n",
       "    <tr>\n",
       "      <th>0</th>\n",
       "      <td>1446.0</td>\n",
       "      <td>653.462769</td>\n",
       "      <td>2</td>\n",
       "    </tr>\n",
       "    <tr>\n",
       "      <th>1</th>\n",
       "      <td>25.0</td>\n",
       "      <td>1315.077393</td>\n",
       "      <td>0</td>\n",
       "    </tr>\n",
       "    <tr>\n",
       "      <th>2</th>\n",
       "      <td>0.0</td>\n",
       "      <td>358.141022</td>\n",
       "      <td>0</td>\n",
       "    </tr>\n",
       "    <tr>\n",
       "      <th>3</th>\n",
       "      <td>1559.0</td>\n",
       "      <td>1400.034058</td>\n",
       "      <td>2</td>\n",
       "    </tr>\n",
       "    <tr>\n",
       "      <th>4</th>\n",
       "      <td>7551.0</td>\n",
       "      <td>8813.900391</td>\n",
       "      <td>3</td>\n",
       "    </tr>\n",
       "    <tr>\n",
       "      <th>...</th>\n",
       "      <td>...</td>\n",
       "      <td>...</td>\n",
       "      <td>...</td>\n",
       "    </tr>\n",
       "    <tr>\n",
       "      <th>2061</th>\n",
       "      <td>2487.0</td>\n",
       "      <td>5488.619629</td>\n",
       "      <td>3</td>\n",
       "    </tr>\n",
       "    <tr>\n",
       "      <th>2062</th>\n",
       "      <td>2024.0</td>\n",
       "      <td>963.298157</td>\n",
       "      <td>3</td>\n",
       "    </tr>\n",
       "    <tr>\n",
       "      <th>2063</th>\n",
       "      <td>3084.0</td>\n",
       "      <td>1614.242676</td>\n",
       "      <td>3</td>\n",
       "    </tr>\n",
       "    <tr>\n",
       "      <th>2064</th>\n",
       "      <td>2919.0</td>\n",
       "      <td>2839.845703</td>\n",
       "      <td>3</td>\n",
       "    </tr>\n",
       "    <tr>\n",
       "      <th>2065</th>\n",
       "      <td>2119.0</td>\n",
       "      <td>1873.793457</td>\n",
       "      <td>3</td>\n",
       "    </tr>\n",
       "  </tbody>\n",
       "</table>\n",
       "<p>2066 rows × 3 columns</p>\n",
       "</div>"
      ],
      "text/plain": [
       "        true         pred  class\n",
       "0     1446.0   653.462769      2\n",
       "1       25.0  1315.077393      0\n",
       "2        0.0   358.141022      0\n",
       "3     1559.0  1400.034058      2\n",
       "4     7551.0  8813.900391      3\n",
       "...      ...          ...    ...\n",
       "2061  2487.0  5488.619629      3\n",
       "2062  2024.0   963.298157      3\n",
       "2063  3084.0  1614.242676      3\n",
       "2064  2919.0  2839.845703      3\n",
       "2065  2119.0  1873.793457      3\n",
       "\n",
       "[2066 rows x 3 columns]"
      ]
     },
     "execution_count": 72,
     "metadata": {},
     "output_type": "execute_result"
    }
   ],
   "source": [
    "preds_df"
   ]
  },
  {
   "cell_type": "code",
   "execution_count": null,
   "id": "7ebb9f5b",
   "metadata": {},
   "outputs": [],
   "source": []
  }
 ],
 "metadata": {
  "kernelspec": {
   "display_name": "Python 3",
   "language": "python",
   "name": "python3"
  },
  "language_info": {
   "codemirror_mode": {
    "name": "ipython",
    "version": 3
   },
   "file_extension": ".py",
   "mimetype": "text/x-python",
   "name": "python",
   "nbconvert_exporter": "python",
   "pygments_lexer": "ipython3",
   "version": "3.7.10"
  }
 },
 "nbformat": 4,
 "nbformat_minor": 5
}
