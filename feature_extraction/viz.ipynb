{
 "cells": [
  {
   "cell_type": "code",
   "execution_count": 1,
   "id": "8f7d736b",
   "metadata": {},
   "outputs": [],
   "source": [
    "import pickle\n",
    "import argparse\n",
    "import numpy as np\n",
    "import matplotlib.pyplot as plt\n",
    "import matplotlib.animation as animation\n",
    "\n",
    "from utils import denormalize, bounding_box"
   ]
  },
  {
   "cell_type": "code",
   "execution_count": 2,
   "id": "f9dcaeda",
   "metadata": {},
   "outputs": [],
   "source": [
    "def denormalize(T, coords):\n",
    "    return 0.5 * ((coords + 1.0) * T)"
   ]
  },
  {
   "cell_type": "code",
   "execution_count": 15,
   "id": "0672a8ee",
   "metadata": {},
   "outputs": [],
   "source": [
    "def plot(plot_dir, epoch):\n",
    "    # read in pickle files\n",
    "    glimpses = pickle.load(open(plot_dir + \"g_{}.p\".format(epoch), \"rb\"))\n",
    "    locations = pickle.load(open(plot_dir + \"l_{}.p\".format(epoch), \"rb\"))\n",
    "    \n",
    "    print(\"LOCATIONS: \")\n",
    "    print(locations)\n",
    "    print(len(locations))\n",
    "    \n",
    "    from ipdb import set_trace\n",
    "\n",
    "    glimpses = np.concatenate(glimpses)\n",
    "    glimpses = np.expand_dims(glimpses, axis = 0)\n",
    "    \n",
    "    print(glimpses.shape)\n",
    "    \n",
    "    # grab useful params\n",
    "    size = int(plot_dir.split(\"_\")[2].split(\"x\")[0])\n",
    "    \n",
    "#     size = int(min(H, W) / (6 * 2))\n",
    "    \n",
    "    size = int(min(glimpses.shape[2], glimpses.shape[3]) / 5)\n",
    "    \n",
    "    num_anims = len(locations)\n",
    "    num_cols = glimpses.shape[0]\n",
    "    img_shape = glimpses.shape[2]\n",
    "    \n",
    "    # denormalize coordinates\n",
    "    coords = [denormalize(img_shape, l) for l in locations]\n",
    "    \n",
    "    print(coords)\n",
    "    \n",
    "    if num_cols == 1:\n",
    "        \n",
    "        fig = plt.figure()\n",
    "        ax = fig.add_subplot(1, 1, 1)\n",
    "\n",
    "        \n",
    "        plt.imshow(np.transpose(glimpses[0], (1,2,0)), cmap=\"Greys_r\")\n",
    "#         plt.get_xaxis().set_visible(False)\n",
    "#         plt.get_yaxis().set_visible(False)   \n",
    "        \n",
    "        def updateData(i):\n",
    "            color = \"r\"\n",
    "            co = coords[i]\n",
    "            print(\"CO: \", co)\n",
    "            for p in ax.patches:\n",
    "                p.remove()\n",
    "            c = co[0]\n",
    "            rect = bounding_box(c[0], c[1], size, color)\n",
    "            ax.add_patch(rect)\n",
    "        \n",
    "        # animate\n",
    "        anim = animation.FuncAnimation(\n",
    "            fig, updateData, frames = num_anims, interval=500, repeat=True\n",
    "        )\n",
    "\n",
    "        # save as mp4\n",
    "        name = plot_dir + \"epoch_{}.mp4\".format(epoch)\n",
    "        anim.save(name, extra_args=[\"-vcodec\", \"h264\", \"-pix_fmt\", \"yuv420p\"])        \n",
    "        \n",
    "    else:\n",
    "    \n",
    "        print(np.array(coords))\n",
    "\n",
    "        fig, axs = plt.subplots(nrows=1, ncols=num_cols)\n",
    "        # fig.set_dpi(100)\n",
    "\n",
    "        # plot base image\n",
    "        for j, ax in enumerate(axs.flat):\n",
    "            print(glimpses[j].shape)\n",
    "            ax.imshow(np.transpose(glimpses[j], (1,2,0)), cmap=\"Greys_r\")\n",
    "            ax.get_xaxis().set_visible(False)\n",
    "            ax.get_yaxis().set_visible(False)\n",
    "\n",
    "        def updateData(i):\n",
    "            color = \"r\"\n",
    "            co = coords[i]\n",
    "            for j, ax in enumerate(axs.flat):\n",
    "                for p in ax.patches:\n",
    "                    p.remove()\n",
    "                c = co[j]\n",
    "                rect = bounding_box(c[0], c[1], size, color)\n",
    "                ax.add_patch(rect)\n",
    "\n",
    "        # animate\n",
    "        anim = animation.FuncAnimation(\n",
    "            fig, updateData, frames = num_anims, interval = 500, repeat = True\n",
    "        )\n",
    "\n",
    "        # save as mp4\n",
    "        name = plot_dir + \"epoch_{}.mp4\".format(epoch)\n",
    "        anim.save(name, extra_args=[\"-vcodec\", \"h264\", \"-pix_fmt\", \"yuv420p\"])\n"
   ]
  },
  {
   "cell_type": "code",
   "execution_count": 16,
   "id": "456ae145",
   "metadata": {},
   "outputs": [
    {
     "name": "stdout",
     "output_type": "stream",
     "text": [
      "LOCATIONS: \n",
      "[array([[ 0.9399551 , -0.8673401 ],\n",
      "       [ 0.04889867, -1.        ]], dtype=float32), array([[ 1.        , -0.84765977],\n",
      "       [ 0.27273288, -0.6501194 ]], dtype=float32), array([[ 1.        , -0.33502275],\n",
      "       [ 0.10509396, -0.3753028 ]], dtype=float32), array([[ 0.8756109 , -0.89068913],\n",
      "       [ 1.        , -0.7777627 ]], dtype=float32)]\n",
      "4\n",
      "(1, 3, 3038, 1989)\n",
      "[array([[2946.7917,  201.5104],\n",
      "       [1593.2771,    0.    ]], dtype=float32), array([[3038.     ,  231.40482],\n",
      "       [1933.2812 ,  531.46857]], dtype=float32), array([[3038.     , 1010.10046],\n",
      "       [1678.6377 ,  948.91504]], dtype=float32), array([[2849.0527 ,  166.0432 ],\n",
      "       [3038.     ,  337.57843]], dtype=float32)]\n",
      "CO:  [[2946.7917  201.5104]\n",
      " [1593.2771    0.    ]]\n",
      "CO:  [[2946.7917  201.5104]\n",
      " [1593.2771    0.    ]]\n",
      "CO:  [[3038.       231.40482]\n",
      " [1933.2812   531.46857]]\n",
      "CO:  [[3038.      1010.10046]\n",
      " [1678.6377   948.91504]]\n",
      "CO:  [[2849.0527   166.0432 ]\n",
      " [3038.       337.57843]]\n"
     ]
    },
    {
     "data": {
      "image/png": "[encoded data removed]",
      "text/plain": [
       "<Figure size 432x288 with 1 Axes>"
      ]
     },
     "metadata": {
      "needs_background": "light"
     },
     "output_type": "display_data"
    }
   ],
   "source": [
    "plot(\"../continuous_v1/plots/ram_4_50x50_0.75/\", 2)"
   ]
  },
  {
   "cell_type": "code",
   "execution_count": null,
   "id": "42c33cc6",
   "metadata": {},
   "outputs": [],
   "source": []
  }
 ],
 "metadata": {
  "kernelspec": {
   "display_name": "Python 3",
   "language": "python",
   "name": "python3"
  },
  "language_info": {
   "codemirror_mode": {
    "name": "ipython",
    "version": 3
   },
   "file_extension": ".py",
   "mimetype": "text/x-python",
   "name": "python",
   "nbconvert_exporter": "python",
   "pygments_lexer": "ipython3",
   "version": "3.7.10"
  }
 },
 "nbformat": 4,
 "nbformat_minor": 5
}
