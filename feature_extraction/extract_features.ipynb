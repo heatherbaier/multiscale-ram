{
 "cells": [
  {
   "cell_type": "code",
   "execution_count": 1,
   "id": "e17adf5e",
   "metadata": {},
   "outputs": [],
   "source": [
    "import os\n",
    "import time\n",
    "import shutil\n",
    "import pickle\n",
    "\n",
    "import torch\n",
    "import torch.nn.functional as F\n",
    "\n",
    "from tqdm import tqdm\n",
    "from torch.optim.lr_scheduler import ReduceLROnPlateau\n",
    "# from tensorboard_logger import configure, log_value\n",
    "\n",
    "from model import RecurrentAttention\n",
    "from utils import AverageMeter\n",
    "\n",
    "from torchvision import transforms, utils, models\n",
    "from PIL import Image\n",
    "\n",
    "import torch\n",
    "\n",
    "import utils\n",
    "import data_loader\n",
    "\n",
    "from trainer import Trainer\n",
    "from config import get_config\n",
    "\n",
    "import os\n",
    "os.environ[\"CUDA_DEVICE_ORDER\"] = \"PCI_BUS_ID\" \n",
    "os.environ[\"CUDA_VISIBLE_DEVICES\"] = \"2\"\n",
    "\n",
    "import pandas as pd\n",
    "\n",
    "import json"
   ]
  },
  {
   "cell_type": "code",
   "execution_count": 2,
   "id": "1eadf910",
   "metadata": {},
   "outputs": [],
   "source": [
    "def load_inputs(impath):\n",
    "    to_tens = transforms.ToTensor()\n",
    "    return to_tens(Image.open(impath).convert('RGB')).unsqueeze(0)"
   ]
  },
  {
   "cell_type": "code",
   "execution_count": 3,
   "id": "d27b67d2",
   "metadata": {},
   "outputs": [
    {
     "data": {
      "text/html": [
       "<div>\n",
       "<style scoped>\n",
       "    .dataframe tbody tr th:only-of-type {\n",
       "        vertical-align: middle;\n",
       "    }\n",
       "\n",
       "    .dataframe tbody tr th {\n",
       "        vertical-align: top;\n",
       "    }\n",
       "\n",
       "    .dataframe thead th {\n",
       "        text-align: right;\n",
       "    }\n",
       "</style>\n",
       "<table border=\"1\" class=\"dataframe\">\n",
       "  <thead>\n",
       "    <tr style=\"text-align: right;\">\n",
       "      <th></th>\n",
       "      <th>muni_id</th>\n",
       "      <th>num_migrants</th>\n",
       "      <th>class</th>\n",
       "    </tr>\n",
       "  </thead>\n",
       "  <tbody>\n",
       "    <tr>\n",
       "      <th>0</th>\n",
       "      <td>484001001</td>\n",
       "      <td>42055.0</td>\n",
       "      <td>1</td>\n",
       "    </tr>\n",
       "    <tr>\n",
       "      <th>1</th>\n",
       "      <td>484001002</td>\n",
       "      <td>4017.0</td>\n",
       "      <td>1</td>\n",
       "    </tr>\n",
       "    <tr>\n",
       "      <th>2</th>\n",
       "      <td>484001003</td>\n",
       "      <td>11992.0</td>\n",
       "      <td>1</td>\n",
       "    </tr>\n",
       "    <tr>\n",
       "      <th>3</th>\n",
       "      <td>484001004</td>\n",
       "      <td>762.0</td>\n",
       "      <td>1</td>\n",
       "    </tr>\n",
       "    <tr>\n",
       "      <th>4</th>\n",
       "      <td>484001005</td>\n",
       "      <td>7551.0</td>\n",
       "      <td>1</td>\n",
       "    </tr>\n",
       "    <tr>\n",
       "      <th>...</th>\n",
       "      <td>...</td>\n",
       "      <td>...</td>\n",
       "      <td>...</td>\n",
       "    </tr>\n",
       "    <tr>\n",
       "      <th>2326</th>\n",
       "      <td>484032049</td>\n",
       "      <td>2487.0</td>\n",
       "      <td>1</td>\n",
       "    </tr>\n",
       "    <tr>\n",
       "      <th>2327</th>\n",
       "      <td>484032050</td>\n",
       "      <td>2024.0</td>\n",
       "      <td>1</td>\n",
       "    </tr>\n",
       "    <tr>\n",
       "      <th>2328</th>\n",
       "      <td>484032051</td>\n",
       "      <td>3084.0</td>\n",
       "      <td>1</td>\n",
       "    </tr>\n",
       "    <tr>\n",
       "      <th>2329</th>\n",
       "      <td>484032052</td>\n",
       "      <td>2919.0</td>\n",
       "      <td>1</td>\n",
       "    </tr>\n",
       "    <tr>\n",
       "      <th>2330</th>\n",
       "      <td>484032053</td>\n",
       "      <td>2119.0</td>\n",
       "      <td>1</td>\n",
       "    </tr>\n",
       "  </tbody>\n",
       "</table>\n",
       "<p>2331 rows × 3 columns</p>\n",
       "</div>"
      ],
      "text/plain": [
       "        muni_id  num_migrants class\n",
       "0     484001001       42055.0     1\n",
       "1     484001002        4017.0     1\n",
       "2     484001003       11992.0     1\n",
       "3     484001004         762.0     1\n",
       "4     484001005        7551.0     1\n",
       "...         ...           ...   ...\n",
       "2326  484032049        2487.0     1\n",
       "2327  484032050        2024.0     1\n",
       "2328  484032051        3084.0     1\n",
       "2329  484032052        2919.0     1\n",
       "2330  484032053        2119.0     1\n",
       "\n",
       "[2331 rows x 3 columns]"
      ]
     },
     "execution_count": 3,
     "metadata": {},
     "output_type": "execute_result"
    }
   ],
   "source": [
    "m = open(\"../../pooling/data/migration_data.json\",)\n",
    "mig_data = json.load(m)\n",
    "m.close()\n",
    "mig_data = pd.DataFrame.from_dict(mig_data, orient = 'index').reset_index()\n",
    "mig_data.columns = ['muni_id', 'num_migrants']\n",
    "q = 2\n",
    "mig_data['class'] = pd.qcut(mig_data['num_migrants'], q = q, labels = [i for i in range(q)])\n",
    "mig_data"
   ]
  },
  {
   "cell_type": "code",
   "execution_count": 4,
   "id": "3f299014",
   "metadata": {},
   "outputs": [
    {
     "data": {
      "text/plain": [
       "0    1166\n",
       "1    1165\n",
       "Name: class, dtype: int64"
      ]
     },
     "execution_count": 4,
     "metadata": {},
     "output_type": "execute_result"
    }
   ],
   "source": [
    "mig_data['class'].value_counts()"
   ]
  },
  {
   "cell_type": "code",
   "execution_count": 5,
   "id": "eba01cba",
   "metadata": {},
   "outputs": [],
   "source": [
    "def get_png_names(directory):\n",
    "    images = []\n",
    "    for i in os.listdir(directory):\n",
    "        try:\n",
    "            if os.path.isdir(os.path.join(directory, i)):\n",
    "                new_path = os.path.join(directory, i, \"pngs\")\n",
    "                image = os.listdir(new_path)[0]\n",
    "                images.append(os.path.join(directory, i, \"pngs\", image))\n",
    "        except:\n",
    "            pass\n",
    "    return images\n",
    "\n",
    "\n",
    "            \n",
    "\n",
    "image_names = get_png_names(\"../../pooling/data/MEX/\")\n",
    "\n",
    "y_class, y_mig = [], []\n",
    "\n",
    "for i in image_names:\n",
    "        dta = mig_data[mig_data[\"muni_id\"] == i.split(\"/\")[5]]\n",
    "        if len(dta) != 0:\n",
    "            y_class.append(dta['class'].values[0])\n",
    "            y_mig.append(dta['num_migrants'].values[0])"
   ]
  },
  {
   "cell_type": "code",
   "execution_count": 6,
   "id": "21627498",
   "metadata": {},
   "outputs": [],
   "source": [
    "import matplotlib.pyplot as plt\n",
    "import torchvision"
   ]
  },
  {
   "cell_type": "code",
   "execution_count": 7,
   "id": "a7c9ea3e",
   "metadata": {},
   "outputs": [],
   "source": [
    "import random\n",
    "\n",
    "train_num = int(25 * .70)\n",
    "\n",
    "train_indices = random.sample(range(0, 25), train_num)\n",
    "val_indices = [i for i in range(0, 25) if i not in train_indices]"
   ]
  },
  {
   "cell_type": "code",
   "execution_count": 8,
   "id": "501b3917",
   "metadata": {},
   "outputs": [],
   "source": [
    "import torchvision\n",
    "\n",
    "batch_size = 1\n",
    "\n",
    "# train = [(load_inputs(image_paths[i]).squeeze()[:, 0:28, 0:28], ys[i]) for i in range(0, 93)]\n",
    "# val = [(load_inputs(image_paths[i]).squeeze()[:, 0:28, 0:28], ys[i]) for i in range(93, 133)]\n",
    "\n",
    "# brighten = torchvision.transforms.functional.adjust_brightness(brightness_factor = 2)\n",
    "\n",
    "\n",
    "train = [(torchvision.transforms.functional.adjust_brightness(load_inputs(image_names[i]), brightness_factor = 2).squeeze(), y_class[i], y_mig[i]) for i in train_indices]\n",
    "val = [(torchvision.transforms.functional.adjust_brightness(load_inputs(image_names[i]), brightness_factor = 2).squeeze(), y_class[i], y_mig[i]) for i in val_indices]\n",
    "\n",
    "\n",
    "train_dl = torch.utils.data.DataLoader(train, batch_size = batch_size, shuffle = True)\n",
    "val_dl = torch.utils.data.DataLoader(val, batch_size = batch_size, shuffle = True)"
   ]
  },
  {
   "cell_type": "code",
   "execution_count": 9,
   "id": "4b089ced",
   "metadata": {},
   "outputs": [
    {
     "name": "stdout",
     "output_type": "stream",
     "text": [
      "Num training:  17\n",
      "Num validation:  8\n"
     ]
    }
   ],
   "source": [
    "print(\"Num training: \", len(train_dl))\n",
    "print(\"Num validation: \", len(val_dl))"
   ]
  },
  {
   "cell_type": "code",
   "execution_count": 10,
   "id": "34969c88",
   "metadata": {},
   "outputs": [],
   "source": [
    "import numpy as np\n",
    "from utils import plot_images\n",
    "\n",
    "import torch\n",
    "from torchvision import datasets\n",
    "from torchvision import transforms\n",
    "from torch.utils.data.sampler import SubsetRandomSampler"
   ]
  },
  {
   "cell_type": "code",
   "execution_count": 11,
   "id": "6d56d3d1",
   "metadata": {},
   "outputs": [],
   "source": [
    "config, unparsed = get_config()"
   ]
  },
  {
   "cell_type": "code",
   "execution_count": 12,
   "id": "1a2880d1",
   "metadata": {},
   "outputs": [],
   "source": [
    "trainer = Trainer(config, (train_dl, val_dl))"
   ]
  },
  {
   "cell_type": "code",
   "execution_count": 13,
   "id": "14ef349e",
   "metadata": {},
   "outputs": [],
   "source": [
    "import pickle\n",
    "import argparse\n",
    "import numpy as np\n",
    "import matplotlib.pyplot as plt\n",
    "import matplotlib.animation as animation\n",
    "from utils import denormalize, bounding_box\n",
    "\n",
    "def denormalize(T, coords):\n",
    "    return 0.5 * ((coords + 1.0) * T)"
   ]
  },
  {
   "cell_type": "code",
   "execution_count": 40,
   "id": "bb2e43d2",
   "metadata": {},
   "outputs": [
    {
     "name": "stdout",
     "output_type": "stream",
     "text": [
      "../../pooling/data/MEX/484014116/pngs/484014116_2010_1_box484014116_MAY.png\n",
      "../../pooling/data/MEX/484014060/pngs/484014060_2010_1_box484014060_MAY.png\n",
      "../../pooling/data/MEX/484014117/pngs/484014117_2010_1_box484014117_MAY.png\n",
      "../../pooling/data/MEX/484014111/pngs/484014111_2010_1_box484014111_MAY.png\n",
      "../../pooling/data/MEX/484001001/pngs/484001001_2010_1_box484001001_MAY.png\n"
     ]
    }
   ],
   "source": [
    "locations_dict = {}\n",
    "\n",
    "for i in image_namess:\n",
    "    \n",
    "    print(i)\n",
    "    \n",
    "    muni_id = i.split(\"/\")[5]\n",
    "    image = load_inputs(i)\n",
    "    locations = trainer.extract_locations(image)\n",
    "    \n",
    "    start = [denormalize(image.shape[2], l) for l in locations]\n",
    "    start = torch.cat([start[l].unsqueeze(0) for l in range(4)])\n",
    "        \n",
    "    B, C, H, W = image.shape\n",
    "    \n",
    "    size = int(min(H, W) / 5)\n",
    "    \n",
    "    end = start + size\n",
    "    \n",
    "    coords_dict = {}\n",
    "    \n",
    "    for c in range(0, len(start)):\n",
    "        \n",
    "        from_coords = start[c]\n",
    "        to_coords = end[c]\n",
    "        \n",
    "        from_x = from_coords[0][0].item()\n",
    "        from_y = from_coords[0][1].item()\n",
    "        \n",
    "        to_x = to_coords[0][0].item()\n",
    "        to_y = to_coords[0][1] .item()       \n",
    "        \n",
    "        coords_dict['glimpse' + str(c)] = {'from_x': from_x, 'to_x': to_x, 'from_y': from_y, 'to_y': to_y}\n",
    "    \n",
    "    locations_dict[i] = coords_dict"
   ]
  },
  {
   "cell_type": "code",
   "execution_count": null,
   "id": "94dce0c6",
   "metadata": {},
   "outputs": [],
   "source": [
    "# torch.rand(2, 256).flatten(start_dim = 0).unsqueeze(0).shape"
   ]
  },
  {
   "cell_type": "code",
   "execution_count": 42,
   "id": "a391b731",
   "metadata": {},
   "outputs": [],
   "source": [
    "with open(\"sample2.json\", \"w\") as outfile: \n",
    "    json.dump(locations_dict, outfile)"
   ]
  },
  {
   "cell_type": "code",
   "execution_count": null,
   "id": "d66366ed",
   "metadata": {},
   "outputs": [],
   "source": [
    "# test = torch.rand(2, 256)\n",
    "# patch_dict = {}\n",
    "\n",
    "# for patch in range(0, test.shape[0]):\n",
    "#     cur_vals = list(test[patch].numpy())\n",
    "#     patch_dict[patch] = [str(i) for i in cur_vals]\n",
    "    \n",
    "# with open(\"sample.json\", \"w\") as outfile: \n",
    "#     json.dump(patch_dict, outfile)"
   ]
  },
  {
   "cell_type": "code",
   "execution_count": null,
   "id": "a0bc26c6",
   "metadata": {},
   "outputs": [],
   "source": []
  }
 ],
 "metadata": {
  "kernelspec": {
   "display_name": "Python 3",
   "language": "python",
   "name": "python3"
  },
  "language_info": {
   "codemirror_mode": {
    "name": "ipython",
    "version": 3
   },
   "file_extension": ".py",
   "mimetype": "text/x-python",
   "name": "python",
   "nbconvert_exporter": "python",
   "pygments_lexer": "ipython3",
   "version": "3.7.10"
  }
 },
 "nbformat": 4,
 "nbformat_minor": 5
}
