{
 "cells": [
  {
   "cell_type": "code",
   "execution_count": null,
   "id": "3377c221",
   "metadata": {},
   "outputs": [],
   "source": [
    "import os\n",
    "import time\n",
    "import shutil\n",
    "import pickle\n",
    "\n",
    "import torch\n",
    "import torch.nn.functional as F\n",
    "\n",
    "from tqdm import tqdm\n",
    "from torch.optim.lr_scheduler import ReduceLROnPlateau\n",
    "# from tensorboard_logger import configure, log_value\n",
    "\n",
    "from model import RecurrentAttention\n",
    "from utils import AverageMeter\n",
    "\n",
    "from torchvision import transforms, utils, models\n",
    "from PIL import Image\n",
    "\n",
    "import torch\n",
    "\n",
    "import utils\n",
    "import data_loader\n",
    "\n",
    "from trainer import Trainer\n",
    "from config import get_config\n",
    "\n",
    "import os\n",
    "os.environ[\"CUDA_DEVICE_ORDER\"] = \"PCI_BUS_ID\" \n",
    "os.environ[\"CUDA_VISIBLE_DEVICES\"] = \"3\"\n",
    "\n",
    "import pandas as pd\n",
    "\n",
    "import json"
   ]
  },
  {
   "cell_type": "code",
   "execution_count": 2,
   "id": "a3c0c904",
   "metadata": {},
   "outputs": [],
   "source": [
    "def load_inputs(impath):\n",
    "    to_tens = transforms.ToTensor()\n",
    "    return to_tens(Image.open(impath).convert('RGB')).unsqueeze(0)"
   ]
  },
  {
   "cell_type": "code",
   "execution_count": 3,
   "id": "80f4fb4e",
   "metadata": {},
   "outputs": [],
   "source": [
    "# class miniConv(torch.nn.Module):\n",
    "#     def __init__(self, resnet):\n",
    "#         super().__init__()\n",
    "        \n",
    "#         self.conv1 = resnet.conv1\n",
    "#         self.bn1 = resnet.bn1\n",
    "#         self.relu = resnet.relu\n",
    "#         self.maxpool = resnet.maxpool\n",
    "#         self.layer1 = resnet.layer1\n",
    "#         self.adp_pool = torch.nn.AdaptiveAvgPool2d((1,1))\n",
    "        \n",
    "#     def forward(self, x):\n",
    "        \n",
    "#         x = self.conv1(x)\n",
    "#         x = self.bn1(x)\n",
    "#         x = self.maxpool(x)\n",
    "#         x = self.layer1(x)\n",
    "#         x = self.adp_pool(x)\n",
    "#         x = x.flatten(start_dim = 1)\n",
    "#         return x\n",
    "        "
   ]
  },
  {
   "cell_type": "code",
   "execution_count": 4,
   "id": "ce7bba78",
   "metadata": {},
   "outputs": [],
   "source": [
    "# model = miniConv(resnet = torchvision.models.resnet18())\n",
    "# test = torch.rand(1,3, 256, 256)\n",
    "# model(test).shape"
   ]
  },
  {
   "cell_type": "code",
   "execution_count": 5,
   "id": "044da93b",
   "metadata": {},
   "outputs": [],
   "source": [
    "# import torchvision\n",
    "\n",
    "# torchvision.models.resnet18()"
   ]
  },
  {
   "cell_type": "code",
   "execution_count": 6,
   "id": "502f5c7a",
   "metadata": {},
   "outputs": [],
   "source": [
    "# type(mig_data)"
   ]
  },
  {
   "cell_type": "code",
   "execution_count": 7,
   "id": "15b12836",
   "metadata": {},
   "outputs": [
    {
     "data": {
      "text/html": [
       "<div>\n",
       "<style scoped>\n",
       "    .dataframe tbody tr th:only-of-type {\n",
       "        vertical-align: middle;\n",
       "    }\n",
       "\n",
       "    .dataframe tbody tr th {\n",
       "        vertical-align: top;\n",
       "    }\n",
       "\n",
       "    .dataframe thead th {\n",
       "        text-align: right;\n",
       "    }\n",
       "</style>\n",
       "<table border=\"1\" class=\"dataframe\">\n",
       "  <thead>\n",
       "    <tr style=\"text-align: right;\">\n",
       "      <th></th>\n",
       "      <th>muni_id</th>\n",
       "      <th>num_migrants</th>\n",
       "      <th>class</th>\n",
       "    </tr>\n",
       "  </thead>\n",
       "  <tbody>\n",
       "    <tr>\n",
       "      <th>0</th>\n",
       "      <td>484001001</td>\n",
       "      <td>42055.0</td>\n",
       "      <td>1</td>\n",
       "    </tr>\n",
       "    <tr>\n",
       "      <th>1</th>\n",
       "      <td>484001002</td>\n",
       "      <td>4017.0</td>\n",
       "      <td>1</td>\n",
       "    </tr>\n",
       "    <tr>\n",
       "      <th>2</th>\n",
       "      <td>484001003</td>\n",
       "      <td>11992.0</td>\n",
       "      <td>1</td>\n",
       "    </tr>\n",
       "    <tr>\n",
       "      <th>3</th>\n",
       "      <td>484001004</td>\n",
       "      <td>762.0</td>\n",
       "      <td>1</td>\n",
       "    </tr>\n",
       "    <tr>\n",
       "      <th>4</th>\n",
       "      <td>484001005</td>\n",
       "      <td>7551.0</td>\n",
       "      <td>1</td>\n",
       "    </tr>\n",
       "    <tr>\n",
       "      <th>...</th>\n",
       "      <td>...</td>\n",
       "      <td>...</td>\n",
       "      <td>...</td>\n",
       "    </tr>\n",
       "    <tr>\n",
       "      <th>2326</th>\n",
       "      <td>484032049</td>\n",
       "      <td>2487.0</td>\n",
       "      <td>1</td>\n",
       "    </tr>\n",
       "    <tr>\n",
       "      <th>2327</th>\n",
       "      <td>484032050</td>\n",
       "      <td>2024.0</td>\n",
       "      <td>1</td>\n",
       "    </tr>\n",
       "    <tr>\n",
       "      <th>2328</th>\n",
       "      <td>484032051</td>\n",
       "      <td>3084.0</td>\n",
       "      <td>1</td>\n",
       "    </tr>\n",
       "    <tr>\n",
       "      <th>2329</th>\n",
       "      <td>484032052</td>\n",
       "      <td>2919.0</td>\n",
       "      <td>1</td>\n",
       "    </tr>\n",
       "    <tr>\n",
       "      <th>2330</th>\n",
       "      <td>484032053</td>\n",
       "      <td>2119.0</td>\n",
       "      <td>1</td>\n",
       "    </tr>\n",
       "  </tbody>\n",
       "</table>\n",
       "<p>2331 rows × 3 columns</p>\n",
       "</div>"
      ],
      "text/plain": [
       "        muni_id  num_migrants class\n",
       "0     484001001       42055.0     1\n",
       "1     484001002        4017.0     1\n",
       "2     484001003       11992.0     1\n",
       "3     484001004         762.0     1\n",
       "4     484001005        7551.0     1\n",
       "...         ...           ...   ...\n",
       "2326  484032049        2487.0     1\n",
       "2327  484032050        2024.0     1\n",
       "2328  484032051        3084.0     1\n",
       "2329  484032052        2919.0     1\n",
       "2330  484032053        2119.0     1\n",
       "\n",
       "[2331 rows x 3 columns]"
      ]
     },
     "execution_count": 7,
     "metadata": {},
     "output_type": "execute_result"
    }
   ],
   "source": [
    "m = open(\"../../pooling/data/migration_data.json\",)\n",
    "mig_data = json.load(m)\n",
    "m.close()\n",
    "mig_data = pd.DataFrame.from_dict(mig_data, orient = 'index').reset_index()\n",
    "mig_data.columns = ['muni_id', 'num_migrants']\n",
    "q = 2\n",
    "mig_data['class'] = pd.qcut(mig_data['num_migrants'], q = q, labels = [i for i in range(q)])\n",
    "mig_data"
   ]
  },
  {
   "cell_type": "code",
   "execution_count": 8,
   "id": "70125177",
   "metadata": {},
   "outputs": [
    {
     "data": {
      "text/plain": [
       "0    1166\n",
       "1    1165\n",
       "Name: class, dtype: int64"
      ]
     },
     "execution_count": 8,
     "metadata": {},
     "output_type": "execute_result"
    }
   ],
   "source": [
    "mig_data['class'].value_counts()"
   ]
  },
  {
   "cell_type": "code",
   "execution_count": 9,
   "id": "b1ec0b44",
   "metadata": {},
   "outputs": [],
   "source": [
    "def get_png_names(directory):\n",
    "    images = []\n",
    "    for i in os.listdir(directory):\n",
    "        try:\n",
    "            if os.path.isdir(os.path.join(directory, i)):\n",
    "                new_path = os.path.join(directory, i, \"pngs\")\n",
    "                image = os.listdir(new_path)[0]\n",
    "                images.append(os.path.join(directory, i, \"pngs\", image))\n",
    "        except:\n",
    "            pass\n",
    "    return images\n",
    "\n",
    "\n",
    "            \n",
    "\n",
    "image_names = get_png_names(\"../../pooling/data/MEX/\")\n",
    "\n",
    "ys = []\n",
    "for i in image_names:\n",
    "        dta = mig_data[mig_data[\"muni_id\"] == i.split(\"/\")[5]]\n",
    "        if len(dta) != 0:\n",
    "            ys.append(dta['class'].values[0])"
   ]
  },
  {
   "cell_type": "code",
   "execution_count": 10,
   "id": "9dcf7fb3",
   "metadata": {},
   "outputs": [],
   "source": [
    "import random\n",
    "\n",
    "# train_num = int(25 * .70)\n",
    "\n",
    "# train_indices = random.sample(range(0, 25), train_num)\n",
    "# val_indices = [i for i in range(0, 25) if i not in train_indices]\n",
    "\n",
    "\n",
    "\n",
    "import random\n",
    "\n",
    "train_num = int(25 * .70)\n",
    "\n",
    "train_indices = random.sample(range(0, 25), train_num)\n",
    "val_indices = [i for i in range(0, 25) if i not in train_indices]"
   ]
  },
  {
   "cell_type": "code",
   "execution_count": 11,
   "id": "9e1df24f",
   "metadata": {},
   "outputs": [],
   "source": [
    "# val_indices"
   ]
  },
  {
   "cell_type": "code",
   "execution_count": 12,
   "id": "baa213d8",
   "metadata": {},
   "outputs": [],
   "source": [
    "import torchvision\n",
    "\n",
    "batch_size = 1\n",
    "\n",
    "# train = [(load_inputs(image_paths[i]).squeeze()[:, 0:28, 0:28], ys[i]) for i in range(0, 93)]\n",
    "# val = [(load_inputs(image_paths[i]).squeeze()[:, 0:28, 0:28], ys[i]) for i in range(93, 133)]\n",
    "\n",
    "# brighten = torchvision.transforms.functional.adjust_brightness(brightness_factor = 2)\n",
    "\n",
    "\n",
    "train = [(torchvision.transforms.functional.adjust_brightness(load_inputs(image_names[i]), brightness_factor = 2).squeeze(), ys[i]) for i in train_indices]\n",
    "val = [(torchvision.transforms.functional.adjust_brightness(load_inputs(image_names[i]), brightness_factor = 2).squeeze(), ys[i]) for i in val_indices]\n",
    "\n",
    "\n",
    "train_dl = torch.utils.data.DataLoader(train, batch_size = batch_size, shuffle = True)\n",
    "val_dl = torch.utils.data.DataLoader(val, batch_size = batch_size, shuffle = True)"
   ]
  },
  {
   "cell_type": "code",
   "execution_count": 13,
   "id": "f4c11b2e",
   "metadata": {},
   "outputs": [
    {
     "name": "stdout",
     "output_type": "stream",
     "text": [
      "Num training:  17\n",
      "Num validation:  8\n"
     ]
    }
   ],
   "source": [
    "print(\"Num training: \", len(train_dl))\n",
    "print(\"Num validation: \", len(val_dl))"
   ]
  },
  {
   "cell_type": "code",
   "execution_count": 14,
   "id": "6a6cbf6d",
   "metadata": {},
   "outputs": [],
   "source": [
    "import numpy as np\n",
    "from utils import plot_images\n",
    "\n",
    "import torch\n",
    "from torchvision import datasets\n",
    "from torchvision import transforms\n",
    "from torch.utils.data.sampler import SubsetRandomSampler"
   ]
  },
  {
   "cell_type": "code",
   "execution_count": 15,
   "id": "456bc4d7",
   "metadata": {},
   "outputs": [],
   "source": [
    "config, unparsed = get_config()"
   ]
  },
  {
   "cell_type": "code",
   "execution_count": 16,
   "id": "fc2c6d7a",
   "metadata": {},
   "outputs": [],
   "source": [
    "trainer = Trainer(config, (train_dl, val_dl))"
   ]
  },
  {
   "cell_type": "code",
   "execution_count": 17,
   "id": "0a015c15",
   "metadata": {},
   "outputs": [
    {
     "name": "stderr",
     "output_type": "stream",
     "text": [
      "0.1s - loss: 0.834 - acc: 0.000:   0%|          | 0/17 [00:00<?, ?it/s]"
     ]
    },
    {
     "name": "stdout",
     "output_type": "stream",
     "text": [
      "\n",
      "[*] Train on 17 samples, validate on 8 samples\n",
      "\n",
      "Epoch: 1/200 - LR: 0.000300\n"
     ]
    },
    {
     "name": "stderr",
     "output_type": "stream",
     "text": [
      "1.1s - loss: 0.843 - acc: 0.000: 100%|██████████| 17/17 [00:01<00:00, 15.91it/s]  \n"
     ]
    },
    {
     "name": "stdout",
     "output_type": "stream",
     "text": [
      "train loss: 1.211 - train acc: 41.176 - val loss: 1.122 - val acc: 37.500 - val err: 62.500 [*]\n"
     ]
    },
    {
     "name": "stderr",
     "output_type": "stream",
     "text": [
      "0.1s - loss: 1.606 - acc: 100.000:   0%|          | 0/17 [00:00<?, ?it/s]"
     ]
    },
    {
     "name": "stdout",
     "output_type": "stream",
     "text": [
      "\n",
      "Epoch: 2/200 - LR: 0.000300\n"
     ]
    },
    {
     "name": "stderr",
     "output_type": "stream",
     "text": [
      "1.5s - loss: 1.291 - acc: 100.000: 100%|██████████| 17/17 [00:01<00:00, 11.27it/s]\n"
     ]
    },
    {
     "name": "stdout",
     "output_type": "stream",
     "text": [
      "train loss: 1.166 - train acc: 52.941 - val loss: 1.129 - val acc: 62.500 - val err: 37.500 [*]\n"
     ]
    },
    {
     "name": "stderr",
     "output_type": "stream",
     "text": [
      "0.0s - loss: 1.075 - acc: 0.000:   0%|          | 0/17 [00:00<?, ?it/s]"
     ]
    },
    {
     "name": "stdout",
     "output_type": "stream",
     "text": [
      "\n",
      "Epoch: 3/200 - LR: 0.000300\n"
     ]
    },
    {
     "name": "stderr",
     "output_type": "stream",
     "text": [
      "1.3s - loss: 1.350 - acc: 100.000: 100%|██████████| 17/17 [00:01<00:00, 13.22it/s]\n",
      "0.1s - loss: 0.896 - acc: 0.000:   0%|          | 0/17 [00:00<?, ?it/s]"
     ]
    },
    {
     "name": "stdout",
     "output_type": "stream",
     "text": [
      "train loss: 1.099 - train acc: 58.824 - val loss: 1.049 - val acc: 62.500 - val err: 37.500\n",
      "\n",
      "Epoch: 4/200 - LR: 0.000300\n"
     ]
    },
    {
     "name": "stderr",
     "output_type": "stream",
     "text": [
      "0.1s - loss: 0.896 - acc: 0.000:   6%|▌         | 1/17 [00:00<00:09,  1.63it/s]\n"
     ]
    },
    {
     "ename": "KeyboardInterrupt",
     "evalue": "",
     "output_type": "error",
     "traceback": [
      "\u001b[0;31m---------------------------------------------------------------------------\u001b[0m",
      "\u001b[0;31mKeyboardInterrupt\u001b[0m                         Traceback (most recent call last)",
      "\u001b[0;32m<ipython-input-17-3435b262f1ae>\u001b[0m in \u001b[0;36m<module>\u001b[0;34m\u001b[0m\n\u001b[0;32m----> 1\u001b[0;31m \u001b[0mtrainer\u001b[0m\u001b[0;34m.\u001b[0m\u001b[0mtrain\u001b[0m\u001b[0;34m(\u001b[0m\u001b[0;34m)\u001b[0m\u001b[0;34m\u001b[0m\u001b[0;34m\u001b[0m\u001b[0m\n\u001b[0m",
      "\u001b[0;32m/rapids/notebooks/sciclone/geograd/Heather/RAM/scaled_ratio/trainer.py\u001b[0m in \u001b[0;36mtrain\u001b[0;34m(self)\u001b[0m\n\u001b[1;32m    169\u001b[0m \u001b[0;34m\u001b[0m\u001b[0m\n\u001b[1;32m    170\u001b[0m             \u001b[0;31m# train for 1 epoch\u001b[0m\u001b[0;34m\u001b[0m\u001b[0;34m\u001b[0m\u001b[0;34m\u001b[0m\u001b[0m\n\u001b[0;32m--> 171\u001b[0;31m             \u001b[0mtrain_loss\u001b[0m\u001b[0;34m,\u001b[0m \u001b[0mtrain_acc\u001b[0m \u001b[0;34m=\u001b[0m \u001b[0mself\u001b[0m\u001b[0;34m.\u001b[0m\u001b[0mtrain_one_epoch\u001b[0m\u001b[0;34m(\u001b[0m\u001b[0mepoch\u001b[0m\u001b[0;34m)\u001b[0m\u001b[0;34m\u001b[0m\u001b[0;34m\u001b[0m\u001b[0m\n\u001b[0m\u001b[1;32m    172\u001b[0m \u001b[0;34m\u001b[0m\u001b[0m\n\u001b[1;32m    173\u001b[0m             \u001b[0;31m# evaluate on validation set\u001b[0m\u001b[0;34m\u001b[0m\u001b[0;34m\u001b[0m\u001b[0;34m\u001b[0m\u001b[0m\n",
      "\u001b[0;32m/rapids/notebooks/sciclone/geograd/Heather/RAM/scaled_ratio/trainer.py\u001b[0m in \u001b[0;36mtrain_one_epoch\u001b[0;34m(self, epoch)\u001b[0m\n\u001b[1;32m    324\u001b[0m                     \u001b[0mlocs\u001b[0m \u001b[0;34m=\u001b[0m \u001b[0;34m[\u001b[0m\u001b[0ml\u001b[0m\u001b[0;34m.\u001b[0m\u001b[0mcpu\u001b[0m\u001b[0;34m(\u001b[0m\u001b[0;34m)\u001b[0m\u001b[0;34m.\u001b[0m\u001b[0mdata\u001b[0m\u001b[0;34m.\u001b[0m\u001b[0mnumpy\u001b[0m\u001b[0;34m(\u001b[0m\u001b[0;34m)\u001b[0m \u001b[0;32mfor\u001b[0m \u001b[0ml\u001b[0m \u001b[0;32min\u001b[0m \u001b[0mlocs\u001b[0m\u001b[0;34m]\u001b[0m\u001b[0;34m\u001b[0m\u001b[0;34m\u001b[0m\u001b[0m\n\u001b[1;32m    325\u001b[0m                     pickle.dump(\n\u001b[0;32m--> 326\u001b[0;31m                         \u001b[0mimgs\u001b[0m\u001b[0;34m,\u001b[0m \u001b[0mopen\u001b[0m\u001b[0;34m(\u001b[0m\u001b[0mself\u001b[0m\u001b[0;34m.\u001b[0m\u001b[0mplot_dir\u001b[0m \u001b[0;34m+\u001b[0m \u001b[0;34m\"g_{}.p\"\u001b[0m\u001b[0;34m.\u001b[0m\u001b[0mformat\u001b[0m\u001b[0;34m(\u001b[0m\u001b[0mepoch\u001b[0m \u001b[0;34m+\u001b[0m \u001b[0;36m1\u001b[0m\u001b[0;34m)\u001b[0m\u001b[0;34m,\u001b[0m \u001b[0;34m\"wb\"\u001b[0m\u001b[0;34m)\u001b[0m\u001b[0;34m\u001b[0m\u001b[0;34m\u001b[0m\u001b[0m\n\u001b[0m\u001b[1;32m    327\u001b[0m                     )\n\u001b[1;32m    328\u001b[0m                     pickle.dump(\n",
      "\u001b[0;31mKeyboardInterrupt\u001b[0m: "
     ]
    }
   ],
   "source": [
    "trainer.train()"
   ]
  },
  {
   "cell_type": "code",
   "execution_count": 19,
   "id": "c3787ed4",
   "metadata": {},
   "outputs": [
    {
     "data": {
      "text/plain": [
       "[tensor([1]), tensor([0])]"
      ]
     },
     "execution_count": 19,
     "metadata": {},
     "output_type": "execute_result"
    }
   ],
   "source": [
    "un = []\n",
    "\n",
    "for i,o in val_dl:\n",
    "    if o not in un:\n",
    "        un.append(o)\n",
    "        \n",
    "un"
   ]
  },
  {
   "cell_type": "code",
   "execution_count": 20,
   "id": "9f202606",
   "metadata": {},
   "outputs": [],
   "source": [
    "trues, preds = [], []\n",
    "\n",
    "for i,o in train_dl:\n",
    "    trues.append(o.item())\n",
    "    preds.append(trainer.predict(1, i, o))"
   ]
  },
  {
   "cell_type": "code",
   "execution_count": 21,
   "id": "25d48177",
   "metadata": {},
   "outputs": [],
   "source": [
    "from sklearn.metrics import confusion_matrix, accuracy_score"
   ]
  },
  {
   "cell_type": "code",
   "execution_count": 22,
   "id": "6b9a9fc1",
   "metadata": {},
   "outputs": [
    {
     "data": {
      "text/plain": [
       "array([[397, 229],\n",
       "       [183, 395]])"
      ]
     },
     "execution_count": 22,
     "metadata": {},
     "output_type": "execute_result"
    }
   ],
   "source": [
    "confusion_matrix(trues, preds)"
   ]
  },
  {
   "cell_type": "code",
   "execution_count": 23,
   "id": "3412a8e2",
   "metadata": {},
   "outputs": [
    {
     "data": {
      "text/plain": [
       "0.6578073089700996"
      ]
     },
     "execution_count": 23,
     "metadata": {},
     "output_type": "execute_result"
    }
   ],
   "source": [
    "accuracy_score(trues, preds)"
   ]
  },
  {
   "cell_type": "code",
   "execution_count": 24,
   "id": "c141d507",
   "metadata": {},
   "outputs": [],
   "source": [
    "trues, preds = [], []\n",
    "\n",
    "for i,o in val_dl:\n",
    "    trues.append(o.item())\n",
    "    preds.append(trainer.predict(1, i, o))"
   ]
  },
  {
   "cell_type": "code",
   "execution_count": 25,
   "id": "506a8f3b",
   "metadata": {},
   "outputs": [
    {
     "data": {
      "text/plain": [
       "array([[180,  89],\n",
       "       [ 76, 172]])"
      ]
     },
     "execution_count": 25,
     "metadata": {},
     "output_type": "execute_result"
    }
   ],
   "source": [
    "confusion_matrix(trues, preds)"
   ]
  },
  {
   "cell_type": "code",
   "execution_count": 26,
   "id": "40c69aea",
   "metadata": {},
   "outputs": [
    {
     "data": {
      "text/plain": [
       "0.6808510638297872"
      ]
     },
     "execution_count": 26,
     "metadata": {},
     "output_type": "execute_result"
    }
   ],
   "source": [
    "accuracy_score(trues, preds)"
   ]
  },
  {
   "cell_type": "code",
   "execution_count": null,
   "id": "6964d0e0",
   "metadata": {},
   "outputs": [],
   "source": []
  }
 ],
 "metadata": {
  "kernelspec": {
   "display_name": "Python 3",
   "language": "python",
   "name": "python3"
  },
  "language_info": {
   "codemirror_mode": {
    "name": "ipython",
    "version": 3
   },
   "file_extension": ".py",
   "mimetype": "text/x-python",
   "name": "python",
   "nbconvert_exporter": "python",
   "pygments_lexer": "ipython3",
   "version": "3.7.10"
  }
 },
 "nbformat": 4,
 "nbformat_minor": 5
}
