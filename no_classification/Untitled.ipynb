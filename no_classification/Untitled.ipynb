{
 "cells": [
  {
   "cell_type": "code",
   "execution_count": 1,
   "id": "c778b5e5",
   "metadata": {},
   "outputs": [],
   "source": [
    "from torch.utils.data.sampler import SubsetRandomSampler\n",
    "from torch.optim.lr_scheduler import ReduceLROnPlateau\n",
    "from tensorboard_logger import configure, log_value\n",
    "from model import RecurrentAttention\n",
    "from torchvision import transforms\n",
    "from torchvision import datasets\n",
    "import torch.nn.functional as F\n",
    "import matplotlib.pyplot as plt\n",
    "from utils import AverageMeter\n",
    "from config import get_config\n",
    "from utils import plot_images\n",
    "from trainer import Trainer\n",
    "from tqdm import tqdm\n",
    "import pandas as pd\n",
    "import torchvision\n",
    "import numpy as np\n",
    "import random\n",
    "import pickle\n",
    "import shutil\n",
    "import torch\n",
    "import time\n",
    "\n",
    "import os\n",
    "os.environ[\"CUDA_DEVICE_ORDER\"] = \"PCI_BUS_ID\" \n",
    "os.environ[\"CUDA_VISIBLE_DEVICES\"] = \"3\"\n",
    "\n",
    "from utils import *"
   ]
  },
  {
   "cell_type": "code",
   "execution_count": 2,
   "id": "05e92d21",
   "metadata": {},
   "outputs": [
    {
     "data": {
      "text/html": [
       "<div>\n",
       "<style scoped>\n",
       "    .dataframe tbody tr th:only-of-type {\n",
       "        vertical-align: middle;\n",
       "    }\n",
       "\n",
       "    .dataframe tbody tr th {\n",
       "        vertical-align: top;\n",
       "    }\n",
       "\n",
       "    .dataframe thead th {\n",
       "        text-align: right;\n",
       "    }\n",
       "</style>\n",
       "<table border=\"1\" class=\"dataframe\">\n",
       "  <thead>\n",
       "    <tr style=\"text-align: right;\">\n",
       "      <th></th>\n",
       "      <th>muni_id</th>\n",
       "      <th>num_migrants</th>\n",
       "      <th>class</th>\n",
       "    </tr>\n",
       "  </thead>\n",
       "  <tbody>\n",
       "    <tr>\n",
       "      <th>0</th>\n",
       "      <td>484001001</td>\n",
       "      <td>42055.0</td>\n",
       "      <td>3</td>\n",
       "    </tr>\n",
       "    <tr>\n",
       "      <th>1</th>\n",
       "      <td>484001002</td>\n",
       "      <td>4017.0</td>\n",
       "      <td>3</td>\n",
       "    </tr>\n",
       "    <tr>\n",
       "      <th>2</th>\n",
       "      <td>484001003</td>\n",
       "      <td>11992.0</td>\n",
       "      <td>3</td>\n",
       "    </tr>\n",
       "    <tr>\n",
       "      <th>3</th>\n",
       "      <td>484001004</td>\n",
       "      <td>762.0</td>\n",
       "      <td>2</td>\n",
       "    </tr>\n",
       "    <tr>\n",
       "      <th>4</th>\n",
       "      <td>484001005</td>\n",
       "      <td>7551.0</td>\n",
       "      <td>3</td>\n",
       "    </tr>\n",
       "  </tbody>\n",
       "</table>\n",
       "</div>"
      ],
      "text/plain": [
       "     muni_id  num_migrants class\n",
       "0  484001001       42055.0     3\n",
       "1  484001002        4017.0     3\n",
       "2  484001003       11992.0     3\n",
       "3  484001004         762.0     2\n",
       "4  484001005        7551.0     3"
      ]
     },
     "execution_count": 2,
     "metadata": {},
     "output_type": "execute_result"
    }
   ],
   "source": [
    "q = 4\n",
    "with open(\"../../pooling/data/migration_data.json\") as m:\n",
    "    mig_data = json.load(m)\n",
    "m.close()\n",
    "mig_data = pd.DataFrame.from_dict(mig_data, orient = 'index').reset_index()\n",
    "mig_data.columns = ['muni_id', 'num_migrants']\n",
    "mig_data['class'] = pd.qcut(mig_data['num_migrants'], q = q, labels = [i for i in range(q)])\n",
    "mig_data.head()"
   ]
  },
  {
   "cell_type": "code",
   "execution_count": 3,
   "id": "fb0f0f5b",
   "metadata": {},
   "outputs": [],
   "source": [
    "image_names = get_png_names(\"../../attn/data/MEX/\")\n",
    "y_class, y_mig = get_ys(image_names, mig_data)\n",
    "\n",
    "with open(\"../val_images.txt\") as ims:\n",
    "    val_names = ims.read().splitlines()\n",
    "    \n",
    "train_names = [i for i in image_names if i not in val_names]\n",
    "\n",
    "val_indices = [image_names.index(i) for i in val_names]\n",
    "train_indices = [image_names.index(i) for i in train_names]\n",
    "train_num = int(len(train_indices))"
   ]
  },
  {
   "cell_type": "code",
   "execution_count": 4,
   "id": "772cd0c2",
   "metadata": {},
   "outputs": [],
   "source": [
    "# train_indices = train_indices[0:25]\n",
    "# val_indices = val_indices[0:10]"
   ]
  },
  {
   "cell_type": "code",
   "execution_count": 5,
   "id": "b28ba074",
   "metadata": {},
   "outputs": [],
   "source": [
    "batch_size = 1\n",
    "train = [(torchvision.transforms.functional.adjust_brightness(load_inputs(image_names[i]), brightness_factor = 2).squeeze(), y_mig[i]) for i in train_indices]\n",
    "val = [(torchvision.transforms.functional.adjust_brightness(load_inputs(image_names[i]), brightness_factor = 2).squeeze(), y_mig[i]) for i in val_indices]\n",
    "train_dl = torch.utils.data.DataLoader(train, batch_size = batch_size, shuffle = True)\n",
    "val_dl = torch.utils.data.DataLoader(val, batch_size = batch_size, shuffle = True)"
   ]
  },
  {
   "cell_type": "code",
   "execution_count": 6,
   "id": "93fbea13",
   "metadata": {},
   "outputs": [
    {
     "name": "stdout",
     "output_type": "stream",
     "text": [
      "Num training:  1446\n",
      "Num validation:  620\n"
     ]
    }
   ],
   "source": [
    "print(\"Num training: \", len(train_dl))\n",
    "print(\"Num validation: \", len(val_dl))"
   ]
  },
  {
   "cell_type": "code",
   "execution_count": null,
   "id": "17481436",
   "metadata": {},
   "outputs": [
    {
     "name": "stderr",
     "output_type": "stream",
     "text": [
      "0.1s - loss: 1988.110 - mae: 1988.109:   0%|          | 0/1446 [00:00<?, ?it/s]"
     ]
    },
    {
     "name": "stdout",
     "output_type": "stream",
     "text": [
      "\n",
      "[*] Train on 1446 samples, validate on 620 samples\n",
      "\n",
      "Epoch: 1/200 - LR: 0.000300\n"
     ]
    },
    {
     "name": "stderr",
     "output_type": "stream",
     "text": [
      "65.7s - loss: 76.848 - mae: 75.911: 100%|██████████| 1446/1446 [01:05<00:00, 22.00it/s]      \n"
     ]
    },
    {
     "name": "stdout",
     "output_type": "stream",
     "text": [
      "train loss: 1872.591 - val loss: 1799.920- train mae: 1860.536 - val mae: 1641.404 [*]\n"
     ]
    },
    {
     "name": "stderr",
     "output_type": "stream",
     "text": [
      "0.2s - loss: 210.618 - mae: 210.556:   0%|          | 3/1446 [00:00<01:26, 16.75it/s]  "
     ]
    },
    {
     "name": "stdout",
     "output_type": "stream",
     "text": [
      "\n",
      "Epoch: 2/200 - LR: 0.000300\n"
     ]
    },
    {
     "name": "stderr",
     "output_type": "stream",
     "text": [
      "60.4s - loss: 7289.923 - mae: 7289.701: 100%|██████████| 1446/1446 [01:00<00:00, 23.94it/s]  \n"
     ]
    },
    {
     "name": "stdout",
     "output_type": "stream",
     "text": [
      "train loss: 1932.716 - val loss: 59088.981- train mae: 1814.499 - val mae: 1581.832 [*]\n"
     ]
    },
    {
     "name": "stderr",
     "output_type": "stream",
     "text": [
      "0.2s - loss: 65.807 - mae: 64.145:   0%|          | 3/1446 [00:00<01:23, 17.23it/s]  "
     ]
    },
    {
     "name": "stdout",
     "output_type": "stream",
     "text": [
      "\n",
      "Epoch: 3/200 - LR: 0.000300\n"
     ]
    },
    {
     "name": "stderr",
     "output_type": "stream",
     "text": [
      "60.1s - loss: 173.535 - mae: 171.902: 100%|██████████| 1446/1446 [01:00<00:00, 24.06it/s]    \n",
      "0.0s - loss: 1844.264 - mae: 1844.115:   0%|          | 0/1446 [00:00<?, ?it/s]"
     ]
    },
    {
     "name": "stdout",
     "output_type": "stream",
     "text": [
      "train loss: 1823.395 - val loss: 1772.838- train mae: 1809.517 - val mae: 1771.901\n",
      "\n",
      "Epoch: 4/200 - LR: 0.000300\n"
     ]
    },
    {
     "name": "stderr",
     "output_type": "stream",
     "text": [
      "60.4s - loss: 676.191 - mae: 675.555: 100%|██████████| 1446/1446 [01:00<00:00, 23.93it/s]    \n"
     ]
    },
    {
     "name": "stdout",
     "output_type": "stream",
     "text": [
      "train loss: 1902.759 - val loss: 1585.148- train mae: 1791.525 - val mae: 1540.170 [*]\n"
     ]
    },
    {
     "name": "stderr",
     "output_type": "stream",
     "text": [
      "0.0s - loss: 2240.482 - mae: 2239.333:   0%|          | 0/1446 [00:00<?, ?it/s]"
     ]
    },
    {
     "name": "stdout",
     "output_type": "stream",
     "text": [
      "\n",
      "Epoch: 5/200 - LR: 0.000300\n"
     ]
    },
    {
     "name": "stderr",
     "output_type": "stream",
     "text": [
      "62.4s - loss: 246.121 - mae: 246.024: 100%|██████████| 1446/1446 [01:02<00:00, 23.16it/s]    \n",
      "  0%|          | 0/1446 [00:00<?, ?it/s]"
     ]
    },
    {
     "name": "stdout",
     "output_type": "stream",
     "text": [
      "train loss: 1840.173 - val loss: 1897.988- train mae: 1787.494 - val mae: 1891.406\n",
      "\n",
      "Epoch: 6/200 - LR: 0.000300\n"
     ]
    },
    {
     "name": "stderr",
     "output_type": "stream",
     "text": [
      "59.3s - loss: 370.072 - mae: 369.947: 100%|██████████| 1446/1446 [00:59<00:00, 24.40it/s]    \n"
     ]
    },
    {
     "name": "stdout",
     "output_type": "stream",
     "text": [
      "train loss: 1903.970 - val loss: 1536.020- train mae: 1802.744 - val mae: 1534.891 [*]\n"
     ]
    },
    {
     "name": "stderr",
     "output_type": "stream",
     "text": [
      "0.0s - loss: 1447.548 - mae: 1447.100:   0%|          | 0/1446 [00:00<?, ?it/s]"
     ]
    },
    {
     "name": "stdout",
     "output_type": "stream",
     "text": [
      "\n",
      "Epoch: 7/200 - LR: 0.000300\n"
     ]
    },
    {
     "name": "stderr",
     "output_type": "stream",
     "text": [
      "61.1s - loss: 557.691 - mae: 557.603: 100%|██████████| 1446/1446 [01:01<00:00, 23.65it/s]    \n",
      "  0%|          | 0/1446 [00:00<?, ?it/s]"
     ]
    },
    {
     "name": "stdout",
     "output_type": "stream",
     "text": [
      "train loss: 1952.254 - val loss: 1793.837- train mae: 1785.495 - val mae: 1790.521\n",
      "\n",
      "Epoch: 8/200 - LR: 0.000300\n"
     ]
    },
    {
     "name": "stderr",
     "output_type": "stream",
     "text": [
      "59.6s - loss: 670.193 - mae: 665.480: 100%|██████████| 1446/1446 [00:59<00:00, 24.28it/s]    \n",
      "0.0s - loss: 1194.784 - mae: 1177.881:   0%|          | 0/1446 [00:00<?, ?it/s]"
     ]
    },
    {
     "name": "stdout",
     "output_type": "stream",
     "text": [
      "train loss: 13556.754 - val loss: 1590.123- train mae: 1780.111 - val mae: 1548.506\n",
      "\n",
      "Epoch: 9/200 - LR: 0.000300\n"
     ]
    },
    {
     "name": "stderr",
     "output_type": "stream",
     "text": [
      "58.2s - loss: 280.752 - mae: 280.740: 100%|██████████| 1446/1446 [00:58<00:00, 24.86it/s]    \n",
      "  0%|          | 0/1446 [00:00<?, ?it/s]"
     ]
    },
    {
     "name": "stdout",
     "output_type": "stream",
     "text": [
      "train loss: 1797.322 - val loss: 1585.085- train mae: 1776.874 - val mae: 1576.877\n",
      "\n",
      "Epoch: 10/200 - LR: 0.000300\n"
     ]
    },
    {
     "name": "stderr",
     "output_type": "stream",
     "text": [
      "58.3s - loss: 4773.030 - mae: 4772.912: 100%|██████████| 1446/1446 [00:58<00:00, 24.79it/s]  \n"
     ]
    },
    {
     "name": "stdout",
     "output_type": "stream",
     "text": [
      "train loss: 1803.193 - val loss: 1533.557- train mae: 1781.909 - val mae: 1527.388 [*]\n"
     ]
    },
    {
     "name": "stderr",
     "output_type": "stream",
     "text": [
      "0.2s - loss: 819.339 - mae: 819.258:   0%|          | 3/1446 [00:00<01:19, 18.23it/s]  "
     ]
    },
    {
     "name": "stdout",
     "output_type": "stream",
     "text": [
      "\n",
      "Epoch: 11/200 - LR: 0.000300\n"
     ]
    },
    {
     "name": "stderr",
     "output_type": "stream",
     "text": [
      "58.7s - loss: 316.582 - mae: 316.580: 100%|██████████| 1446/1446 [00:58<00:00, 24.62it/s]    \n",
      "0.0s - loss: 111.603 - mae: 111.218:   0%|          | 0/1446 [00:00<?, ?it/s]"
     ]
    },
    {
     "name": "stdout",
     "output_type": "stream",
     "text": [
      "train loss: 1791.354 - val loss: 1541.780- train mae: 1772.911 - val mae: 1534.559\n",
      "\n",
      "Epoch: 12/200 - LR: 0.000300\n"
     ]
    },
    {
     "name": "stderr",
     "output_type": "stream",
     "text": [
      "58.5s - loss: 467.807 - mae: 467.753: 100%|██████████| 1446/1446 [00:58<00:00, 24.71it/s]    \n",
      "  0%|          | 0/1446 [00:00<?, ?it/s]"
     ]
    },
    {
     "name": "stdout",
     "output_type": "stream",
     "text": [
      "train loss: 18064.650 - val loss: 2016.953- train mae: 1769.293 - val mae: 1531.796\n",
      "\n",
      "Epoch: 13/200 - LR: 0.000300\n"
     ]
    },
    {
     "name": "stderr",
     "output_type": "stream",
     "text": [
      "58.2s - loss: 393.653 - mae: 393.365: 100%|██████████| 1446/1446 [00:58<00:00, 24.83it/s]    \n",
      "  0%|          | 0/1446 [00:00<?, ?it/s]"
     ]
    },
    {
     "name": "stdout",
     "output_type": "stream",
     "text": [
      "train loss: 1990.861 - val loss: 1539.716- train mae: 1778.869 - val mae: 1533.714\n",
      "\n",
      "Epoch: 14/200 - LR: 0.000300\n"
     ]
    },
    {
     "name": "stderr",
     "output_type": "stream",
     "text": [
      "58.5s - loss: 633.816 - mae: 633.740: 100%|██████████| 1446/1446 [00:58<00:00, 24.71it/s]    \n",
      "  0%|          | 0/1446 [00:00<?, ?it/s]"
     ]
    },
    {
     "name": "stdout",
     "output_type": "stream",
     "text": [
      "train loss: 1834.431 - val loss: 1812.237- train mae: 1776.390 - val mae: 1528.520\n",
      "\n",
      "Epoch: 15/200 - LR: 0.000300\n"
     ]
    },
    {
     "name": "stderr",
     "output_type": "stream",
     "text": [
      "61.6s - loss: 1679.361 - mae: 1679.087: 100%|██████████| 1446/1446 [01:01<00:00, 23.46it/s]  \n",
      "  0%|          | 0/1446 [00:00<?, ?it/s]"
     ]
    },
    {
     "name": "stdout",
     "output_type": "stream",
     "text": [
      "train loss: 4724.968 - val loss: 1789.434- train mae: 1775.199 - val mae: 1534.808\n",
      "\n",
      "Epoch: 16/200 - LR: 0.000300\n"
     ]
    },
    {
     "name": "stderr",
     "output_type": "stream",
     "text": [
      "60.9s - loss: 370.484 - mae: 365.451: 100%|██████████| 1446/1446 [01:00<00:00, 23.76it/s]    \n",
      "  0%|          | 0/1446 [00:00<?, ?it/s]"
     ]
    },
    {
     "name": "stdout",
     "output_type": "stream",
     "text": [
      "train loss: 6420.038 - val loss: 1562.874- train mae: 1776.068 - val mae: 1528.106\n",
      "\n",
      "Epoch: 17/200 - LR: 0.000300\n"
     ]
    },
    {
     "name": "stderr",
     "output_type": "stream",
     "text": [
      "61.5s - loss: 594.400 - mae: 593.950: 100%|██████████| 1446/1446 [01:01<00:00, 23.52it/s]    \n"
     ]
    },
    {
     "name": "stdout",
     "output_type": "stream",
     "text": [
      "train loss: 8631.554 - val loss: 1577.076- train mae: 1767.945 - val mae: 1518.838 [*]\n"
     ]
    },
    {
     "name": "stderr",
     "output_type": "stream",
     "text": [
      "0.0s - loss: 1343.950 - mae: 1343.344:   0%|          | 0/1446 [00:00<?, ?it/s]"
     ]
    },
    {
     "name": "stdout",
     "output_type": "stream",
     "text": [
      "\n",
      "Epoch: 18/200 - LR: 0.000300\n"
     ]
    },
    {
     "name": "stderr",
     "output_type": "stream",
     "text": [
      "61.8s - loss: 885.172 - mae: 884.547: 100%|██████████| 1446/1446 [01:01<00:00, 23.40it/s]    \n",
      "  0%|          | 0/1446 [00:00<?, ?it/s]"
     ]
    },
    {
     "name": "stdout",
     "output_type": "stream",
     "text": [
      "train loss: 1885.827 - val loss: 1609.160- train mae: 1771.269 - val mae: 1606.686\n",
      "\n",
      "Epoch: 19/200 - LR: 0.000300\n"
     ]
    },
    {
     "name": "stderr",
     "output_type": "stream",
     "text": [
      "59.7s - loss: 5865.106 - mae: 5864.266: 100%|██████████| 1446/1446 [00:59<00:00, 24.23it/s]  \n",
      "  0%|          | 0/1446 [00:00<?, ?it/s]"
     ]
    },
    {
     "name": "stdout",
     "output_type": "stream",
     "text": [
      "train loss: 34439.328 - val loss: 1673.330- train mae: 1773.391 - val mae: 1552.619\n",
      "\n",
      "Epoch: 20/200 - LR: 0.000300\n"
     ]
    },
    {
     "name": "stderr",
     "output_type": "stream",
     "text": [
      "59.5s - loss: 342.956 - mae: 342.922: 100%|██████████| 1446/1446 [00:59<00:00, 24.29it/s]    \n",
      "  0%|          | 0/1446 [00:00<?, ?it/s]"
     ]
    },
    {
     "name": "stdout",
     "output_type": "stream",
     "text": [
      "train loss: 1790.269 - val loss: 1563.941- train mae: 1763.457 - val mae: 1559.364\n",
      "\n",
      "Epoch: 21/200 - LR: 0.000300\n"
     ]
    },
    {
     "name": "stderr",
     "output_type": "stream",
     "text": [
      "60.2s - loss: 254.169 - mae: 254.148: 100%|██████████| 1446/1446 [01:00<00:00, 24.02it/s]    \n",
      "  0%|          | 0/1446 [00:00<?, ?it/s]"
     ]
    },
    {
     "name": "stdout",
     "output_type": "stream",
     "text": [
      "train loss: 1798.136 - val loss: 1585.193- train mae: 1775.214 - val mae: 1539.883\n",
      "\n",
      "Epoch: 22/200 - LR: 0.000300\n"
     ]
    },
    {
     "name": "stderr",
     "output_type": "stream",
     "text": [
      "61.1s - loss: 70.764 - mae: 70.222: 100%|██████████| 1446/1446 [01:01<00:00, 23.68it/s]      \n",
      "  0%|          | 0/1446 [00:00<?, ?it/s]"
     ]
    },
    {
     "name": "stdout",
     "output_type": "stream",
     "text": [
      "train loss: 1811.033 - val loss: 2311.770- train mae: 1775.078 - val mae: 1528.549\n",
      "\n",
      "Epoch: 23/200 - LR: 0.000300\n"
     ]
    },
    {
     "name": "stderr",
     "output_type": "stream",
     "text": [
      "61.9s - loss: 110.025 - mae: 109.755: 100%|██████████| 1446/1446 [01:01<00:00, 23.37it/s]    \n",
      "0.0s - loss: 221.052 - mae: 220.984:   0%|          | 0/1446 [00:00<?, ?it/s]"
     ]
    },
    {
     "name": "stdout",
     "output_type": "stream",
     "text": [
      "train loss: 2168.056 - val loss: 1548.206- train mae: 1764.624 - val mae: 1534.576\n",
      "\n",
      "Epoch: 24/200 - LR: 0.000030\n"
     ]
    },
    {
     "name": "stderr",
     "output_type": "stream",
     "text": [
      "59.9s - loss: 881.593 - mae: 881.468: 100%|██████████| 1446/1446 [00:59<00:00, 24.15it/s]    \n",
      "  0%|          | 0/1446 [00:00<?, ?it/s]"
     ]
    },
    {
     "name": "stdout",
     "output_type": "stream",
     "text": [
      "train loss: 2040.848 - val loss: 1560.576- train mae: 1745.223 - val mae: 1523.962\n",
      "\n",
      "Epoch: 25/200 - LR: 0.000030\n"
     ]
    },
    {
     "name": "stderr",
     "output_type": "stream",
     "text": [
      "60.7s - loss: 96.271 - mae: 95.913: 100%|██████████| 1446/1446 [01:00<00:00, 23.84it/s]      \n",
      "0.0s - loss: 1808.158 - mae: 1807.829:   0%|          | 0/1446 [00:00<?, ?it/s]"
     ]
    },
    {
     "name": "stdout",
     "output_type": "stream",
     "text": [
      "train loss: 3535.208 - val loss: 1619.671- train mae: 1738.849 - val mae: 1519.939\n",
      "\n",
      "Epoch: 26/200 - LR: 0.000030\n"
     ]
    },
    {
     "name": "stderr",
     "output_type": "stream",
     "text": [
      "59.7s - loss: 1113.273 - mae: 2.955: 100%|██████████| 1446/1446 [00:59<00:00, 24.24it/s]     \n",
      "  0%|          | 0/1446 [00:00<?, ?it/s]"
     ]
    },
    {
     "name": "stdout",
     "output_type": "stream",
     "text": [
      "train loss: 71195.832 - val loss: 1550.848- train mae: 1733.764 - val mae: 1538.874\n",
      "\n",
      "Epoch: 27/200 - LR: 0.000030\n"
     ]
    },
    {
     "name": "stderr",
     "output_type": "stream",
     "text": [
      "61.2s - loss: 42.131 - mae: 18.548: 100%|██████████| 1446/1446 [01:01<00:00, 23.62it/s]      \n",
      "0.0s - loss: 185.821 - mae: 185.722:   0%|          | 0/1446 [00:00<?, ?it/s]"
     ]
    },
    {
     "name": "stdout",
     "output_type": "stream",
     "text": [
      "train loss: 1758.631 - val loss: 1547.714- train mae: 1736.720 - val mae: 1526.859\n",
      "\n",
      "Epoch: 28/200 - LR: 0.000030\n"
     ]
    },
    {
     "name": "stderr",
     "output_type": "stream",
     "text": [
      "61.0s - loss: 51.733 - mae: 15.198: 100%|██████████| 1446/1446 [01:00<00:00, 23.71it/s]      \n",
      "0.0s - loss: 1465.886 - mae: 1465.691:   0%|          | 0/1446 [00:00<?, ?it/s]"
     ]
    },
    {
     "name": "stdout",
     "output_type": "stream",
     "text": [
      "train loss: 1860.934 - val loss: 1528.409- train mae: 1726.367 - val mae: 1522.994\n",
      "\n",
      "Epoch: 29/200 - LR: 0.000030\n"
     ]
    },
    {
     "name": "stderr",
     "output_type": "stream",
     "text": [
      "59.8s - loss: 5282.007 - mae: 5281.453: 100%|██████████| 1446/1446 [00:59<00:00, 24.17it/s]  \n",
      "  0%|          | 0/1446 [00:00<?, ?it/s]"
     ]
    },
    {
     "name": "stdout",
     "output_type": "stream",
     "text": [
      "train loss: 1802.840 - val loss: 1523.384- train mae: 1729.749 - val mae: 1519.983\n",
      "\n",
      "Epoch: 30/200 - LR: 0.000030\n"
     ]
    },
    {
     "name": "stderr",
     "output_type": "stream",
     "text": [
      "61.0s - loss: 283.958 - mae: 283.694: 100%|██████████| 1446/1446 [01:01<00:00, 23.70it/s]    \n",
      "  0%|          | 0/1446 [00:00<?, ?it/s]"
     ]
    },
    {
     "name": "stdout",
     "output_type": "stream",
     "text": [
      "train loss: 1747.033 - val loss: 1533.186- train mae: 1723.182 - val mae: 1524.110\n",
      "\n",
      "Epoch: 31/200 - LR: 0.000030\n"
     ]
    },
    {
     "name": "stderr",
     "output_type": "stream",
     "text": [
      "59.7s - loss: 46.889 - mae: 16.997: 100%|██████████| 1446/1446 [00:59<00:00, 24.21it/s]      \n",
      "  0%|          | 0/1446 [00:00<?, ?it/s]"
     ]
    },
    {
     "name": "stdout",
     "output_type": "stream",
     "text": [
      "train loss: 1825.065 - val loss: 1598.526- train mae: 1722.057 - val mae: 1534.564\n",
      "\n",
      "Epoch: 32/200 - LR: 0.000030\n"
     ]
    },
    {
     "name": "stderr",
     "output_type": "stream",
     "text": [
      "62.8s - loss: 5784.675 - mae: 5784.495: 100%|██████████| 1446/1446 [01:02<00:00, 23.03it/s]  \n",
      "  0%|          | 0/1446 [00:00<?, ?it/s]"
     ]
    },
    {
     "name": "stdout",
     "output_type": "stream",
     "text": [
      "train loss: 1834.101 - val loss: 1584.349- train mae: 1726.287 - val mae: 1546.523\n",
      "\n",
      "Epoch: 33/200 - LR: 0.000030\n"
     ]
    },
    {
     "name": "stderr",
     "output_type": "stream",
     "text": [
      "60.9s - loss: 86.173 - mae: 85.992: 100%|██████████| 1446/1446 [01:00<00:00, 23.73it/s]      \n"
     ]
    },
    {
     "name": "stdout",
     "output_type": "stream",
     "text": [
      "train loss: 7766.305 - val loss: 1538.595- train mae: 1722.648 - val mae: 1516.165 [*]\n"
     ]
    },
    {
     "name": "stderr",
     "output_type": "stream",
     "text": [
      "0.2s - loss: 1776.791 - mae: 1774.035:   0%|          | 2/1446 [00:00<01:47, 13.41it/s]"
     ]
    },
    {
     "name": "stdout",
     "output_type": "stream",
     "text": [
      "\n",
      "Epoch: 34/200 - LR: 0.000030\n"
     ]
    },
    {
     "name": "stderr",
     "output_type": "stream",
     "text": [
      "60.8s - loss: 1212.885 - mae: 1212.607: 100%|██████████| 1446/1446 [01:00<00:00, 23.80it/s]  \n"
     ]
    },
    {
     "name": "stdout",
     "output_type": "stream",
     "text": [
      "train loss: 1913.079 - val loss: 1560.052- train mae: 1723.101 - val mae: 1513.355 [*]\n"
     ]
    },
    {
     "name": "stderr",
     "output_type": "stream",
     "text": [
      "0.2s - loss: 272.847 - mae: 272.786:   0%|          | 2/1446 [00:00<01:39, 14.46it/s]"
     ]
    },
    {
     "name": "stdout",
     "output_type": "stream",
     "text": [
      "\n",
      "Epoch: 35/200 - LR: 0.000030\n"
     ]
    },
    {
     "name": "stderr",
     "output_type": "stream",
     "text": [
      "59.1s - loss: 927.364 - mae: 926.788: 100%|██████████| 1446/1446 [00:59<00:00, 24.46it/s]    \n",
      "0.0s - loss: 811.079 - mae: 810.711:   0%|          | 0/1446 [00:00<?, ?it/s]"
     ]
    },
    {
     "name": "stdout",
     "output_type": "stream",
     "text": [
      "train loss: 1752.322 - val loss: 1533.989- train mae: 1721.796 - val mae: 1523.083\n",
      "\n",
      "Epoch: 36/200 - LR: 0.000030\n"
     ]
    },
    {
     "name": "stderr",
     "output_type": "stream",
     "text": [
      "60.2s - loss: 427.644 - mae: 427.497: 100%|██████████| 1446/1446 [01:00<00:00, 24.02it/s]    \n",
      "  0%|          | 0/1446 [00:00<?, ?it/s]"
     ]
    },
    {
     "name": "stdout",
     "output_type": "stream",
     "text": [
      "train loss: 2021.756 - val loss: 1577.459- train mae: 1722.527 - val mae: 1515.838\n",
      "\n",
      "Epoch: 37/200 - LR: 0.000030\n"
     ]
    },
    {
     "name": "stderr",
     "output_type": "stream",
     "text": [
      "44.9s - loss: 2115.797 - mae: 2115.511:  74%|███████▎  | 1066/1446 [00:44<00:14, 25.56it/s]  "
     ]
    }
   ],
   "source": [
    "config, unparsed = get_config()\n",
    "trainer = Trainer(config, (train_dl, val_dl))\n",
    "trainer.train()"
   ]
  },
  {
   "cell_type": "code",
   "execution_count": null,
   "id": "265214bf",
   "metadata": {},
   "outputs": [],
   "source": []
  },
  {
   "cell_type": "code",
   "execution_count": null,
   "id": "da48e92b",
   "metadata": {},
   "outputs": [],
   "source": []
  }
 ],
 "metadata": {
  "kernelspec": {
   "display_name": "Python 3",
   "language": "python",
   "name": "python3"
  },
  "language_info": {
   "codemirror_mode": {
    "name": "ipython",
    "version": 3
   },
   "file_extension": ".py",
   "mimetype": "text/x-python",
   "name": "python",
   "nbconvert_exporter": "python",
   "pygments_lexer": "ipython3",
   "version": "3.7.10"
  }
 },
 "nbformat": 4,
 "nbformat_minor": 5
}
